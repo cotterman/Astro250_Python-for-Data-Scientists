{
 "metadata": {
  "name": ""
 },
 "nbformat": 3,
 "nbformat_minor": 0,
 "worksheets": [
  {
   "cells": [
    {
     "cell_type": "code",
     "collapsed": false,
     "input": [],
     "language": "python",
     "metadata": {},
     "outputs": []
    },
    {
     "cell_type": "code",
     "collapsed": false,
     "input": [
      "import matplotlib.pyplot as plt\n",
      "from matplotlib import cm \n",
      "import numpy as np\n",
      "import pandas as pd\n",
      "from mpl_toolkits.basemap import Basemap\n",
      "\n",
      "# use this for floating figures (must restart kernal if you've previously run %matplotlib inline:\n",
      "%matplotlib"
     ],
     "language": "python",
     "metadata": {},
     "outputs": [
      {
       "output_type": "stream",
       "stream": "stdout",
       "text": [
        "Using matplotlib backend: TkAgg\n"
       ]
      },
      {
       "output_type": "stream",
       "stream": "stderr",
       "text": [
        "/usr/local/lib/python2.7/dist-packages/pytz/__init__.py:35: UserWarning: Module dap was already imported from None, but /usr/lib/python2.7/dist-packages is being added to sys.path\n",
        "  from pkg_resources import resource_stream\n"
       ]
      }
     ],
     "prompt_number": 1
    },
    {
     "cell_type": "code",
     "collapsed": false,
     "input": [
      "#Read in data (data produced in Stata)\n",
      "q1data = pd.read_csv('HS_data_to_map.csv') #produce dataframe\n",
      "q1data.index.name = 'Schools' #name the index (i.e., what the rows of the data represent)\n",
      "print q1data.head()"
     ],
     "language": "python",
     "metadata": {},
     "outputs": [
      {
       "output_type": "stream",
       "stream": "stdout",
       "text": [
        "         training_start_yr  training_last_yr       cds_code school_status  \\\n",
        "Schools                                                                     \n",
        "0                      NaN               NaN  1611190111765          none   \n",
        "1                      NaN               NaN  1611190119222          none   \n",
        "2                      NaN               NaN  1611190122085          none   \n",
        "3                      NaN               NaN  1611190130229          none   \n",
        "4                      NaN               NaN  1611190130609   Online only   \n",
        "\n",
        "         latitude  longitude         district  enr2011  FRPMpct2011  \n",
        "Schools                                                              \n",
        "0        37.78181  -122.2861  Alameda Unified      614     0.664495  \n",
        "1        37.77634  -122.2822  Alameda Unified      340          NaN  \n",
        "2             NaN        NaN  Alameda Unified      554     0.599278  \n",
        "3        37.76427  -122.2481  Alameda Unified     1868     0.232334  \n",
        "4        37.77364  -122.2903  Alameda Unified      273          NaN  \n"
       ]
      }
     ],
     "prompt_number": 2
    },
    {
     "cell_type": "code",
     "collapsed": false,
     "input": [],
     "language": "python",
     "metadata": {},
     "outputs": []
    },
    {
     "cell_type": "code",
     "collapsed": false,
     "input": [
      "DateMissing = q1data.ix[q1data.all(q1data.school_status.any(\"Active\",\"Graduated\",\"Dropped\"),\n",
      "                        pd.isnull(q1data.training_start_yr)), ['latitude','longitude','training_start_yr']] \n"
     ],
     "language": "python",
     "metadata": {},
     "outputs": [
      {
       "ename": "NameError",
       "evalue": "name 'a' is not defined",
       "output_type": "pyerr",
       "traceback": [
        "\u001b[1;31m---------------------------------------------------------------------------\u001b[0m\n\u001b[1;31mNameError\u001b[0m                                 Traceback (most recent call last)",
        "\u001b[1;32m<ipython-input-46-f28e513f09f6>\u001b[0m in \u001b[0;36m<module>\u001b[1;34m()\u001b[0m\n\u001b[1;32m----> 1\u001b[1;33m DateMissing = q1data.ix[a.all(a.any(q1data.school_status==\"Active\",\n\u001b[0m\u001b[0;32m      2\u001b[0m                         \u001b[0mq1data\u001b[0m\u001b[1;33m.\u001b[0m\u001b[0mschool_status\u001b[0m\u001b[1;33m==\u001b[0m\u001b[1;34m\"Graduated\"\u001b[0m\u001b[1;33m,\u001b[0m\u001b[1;33m\u001b[0m\u001b[0m\n\u001b[0;32m      3\u001b[0m                         q1data.school_status==\"Dropped\"),\n\u001b[0;32m      4\u001b[0m                         pd.isnull(q1data.training_start_yr)), ['latitude','longitude','training_start_yr']] \n",
        "\u001b[1;31mNameError\u001b[0m: name 'a' is not defined"
       ]
      }
     ],
     "prompt_number": 46
    },
    {
     "cell_type": "code",
     "collapsed": false,
     "input": [
      "#create scatter plot using coordinates (without background map)\n",
      "f, ax = plt.subplots()\n",
      "s = ax.scatter(q1data['longitude'], q1data['latitude'], c=q1data['training_start_yr'])\n",
      "# The colorbar must be associated with the return value of scatter()\n",
      "f.colorbar(s)\n"
     ],
     "language": "python",
     "metadata": {},
     "outputs": [
      {
       "metadata": {},
       "output_type": "pyout",
       "prompt_number": 24,
       "text": [
        "<matplotlib.colorbar.Colorbar instance at 0x9b813f8>"
       ]
      }
     ],
     "prompt_number": 24
    },
    {
     "cell_type": "code",
     "collapsed": false,
     "input": [
      "q1data.ix[q1data.training_start_yr==2006,'longitude'].head()\n",
      "q1data.count"
     ],
     "language": "python",
     "metadata": {},
     "outputs": [
      {
       "metadata": {},
       "output_type": "pyout",
       "prompt_number": 43,
       "text": [
        "<bound method DataFrame.count of <class 'pandas.core.frame.DataFrame'>\n",
        "Int64Index: 9123 entries, 0 to 9122\n",
        "Data columns (total 9 columns):\n",
        "training_start_yr    349  non-null values\n",
        "training_last_yr     349  non-null values\n",
        "cds_code             9123  non-null values\n",
        "school_status        9123  non-null values\n",
        "latitude             8492  non-null values\n",
        "longitude            8492  non-null values\n",
        "district             9123  non-null values\n",
        "enr2011              8374  non-null values\n",
        "FRPMpct2011          7780  non-null values\n",
        "dtypes: float64(6), int64(1), object(2)>"
       ]
      }
     ],
     "prompt_number": 43
    },
    {
     "cell_type": "code",
     "collapsed": false,
     "input": [
      "f, ax = plt.subplots()\n",
      "s2006 = ax.scatter(q1data.ix[q1data.training_start_yr==2006,'longitude'], \n",
      "                   q1data.ix[q1data.training_start_yr==2006,'latitude'], color='r')\n",
      "s2007 = ax.scatter(q1data.ix[q1data.training_start_yr==2007,'longitude'], \n",
      "                   q1data.ix[q1data.training_start_yr==2007,'latitude'], color='y')\n",
      "s2008 = ax.scatter(q1data.ix[q1data.training_start_yr==2008,'longitude'], \n",
      "                   q1data.ix[q1data.training_start_yr==2008,'latitude'], color='g')\n",
      "s2009 = ax.scatter(q1data.ix[q1data.training_start_yr==2009,'longitude'], \n",
      "                   q1data.ix[q1data.training_start_yr==2009,'latitude'], color='c')\n",
      "s2010 = ax.scatter(q1data.ix[q1data.training_start_yr==2010,'longitude'], \n",
      "                   q1data.ix[q1data.training_start_yr==2010,'latitude'], color='b')\n",
      "s2011 = ax.scatter(q1data.ix[q1data.training_start_yr==2011,'longitude'], \n",
      "                   q1data.ix[q1data.training_start_yr==2011,'latitude'], color='m')\n",
      "sOnline = ax.scatter(q1data.ix[q1data.school_status==\"Online only\",'longitude'], \n",
      "                   q1data.ix[q1data.school_status==\"Online only\",'latitude'], color='k')\n",
      "\n",
      "ax.set_title('sdfsdff')\n",
      "\n",
      "ax.legend((s2006, s2007, s2008, s2009, s2010, s2011, sMissing), \n",
      "          ('2006-2007', '2007-2008', '2008-2009', '2009-2010', '2010-2011', 'Missing'))"
     ],
     "language": "python",
     "metadata": {},
     "outputs": [
      {
       "metadata": {},
       "output_type": "pyout",
       "prompt_number": 48,
       "text": [
        "<matplotlib.legend.Legend at 0x9998810>"
       ]
      }
     ],
     "prompt_number": 48
    },
    {
     "cell_type": "code",
     "collapsed": false,
     "input": [
      "#The orthographic projection displays the earth as a satellite \n",
      "    #(in an orbit infinitely high above the earth) would see it.\n",
      "# lon_0, lat_0 are the center point of the projection.\n",
      "# resolution = 'l' means use low resolution coastlines.\n",
      "m = Basemap(projection='ortho',lon_0=-105,lat_0=40,resolution='l')\n",
      "m.drawcoastlines()\n",
      "m.fillcontinents(color='coral',lake_color='aqua')\n",
      "# draw parallels and meridians.\n",
      "m.drawparallels(np.arange(-90.,120.,30.))\n",
      "m.drawmeridians(np.arange(0.,420.,60.))\n",
      "m.drawmapboundary(fill_color='aqua')\n",
      "plt.title(\"Full Disk Orthographic Projection\")\n",
      "plt.show()"
     ],
     "language": "python",
     "metadata": {},
     "outputs": [],
     "prompt_number": 3
    },
    {
     "cell_type": "code",
     "collapsed": false,
     "input": [
      "#Draw a shaded relief\n",
      "# setup Lambert Conformal basemap.\n",
      "# set resolution=None to skip processing of boundary datasets.\n",
      "m = Basemap(width=12000000,height=9000000,projection='lcc',\n",
      "            resolution=None,lat_1=32.,lat_2=42,lat_0=50,lon_0=-107.)\n",
      "m.shadedrelief()\n",
      "plt.show()"
     ],
     "language": "python",
     "metadata": {},
     "outputs": [],
     "prompt_number": 6
    },
    {
     "cell_type": "code",
     "collapsed": false,
     "input": [
      "\n",
      "\n",
      "x, y = m(lons,lats)\n",
      "\n",
      "m.scatter(x,y,3,marker='o',color='k')\n",
      "\n",
      "plt.show()"
     ],
     "language": "python",
     "metadata": {},
     "outputs": [],
     "prompt_number": 5
    },
    {
     "cell_type": "code",
     "collapsed": false,
     "input": [
      "\n",
      "# Draw the stations on a real map of the Earth.\n",
      "# Find boundaries \n",
      "lon0 = 0.995*sdata['longitude'].min()\n",
      "lon1 = 1.01*sdata['longitude'].max()\n",
      "lat0 = 0.995*sdata['latitude'].min()\n",
      "lat1 = 1.01*sdata['latitude'].max()\n",
      "\n",
      "# Geographic grid to draw\n",
      "parallels = np.linspace(lat0, lat1, 5)\n",
      "meridians = np.linspace(lon0, lon1, 5)\n",
      "\n",
      "# Resolution of the basemap to load ('f' is *very* expensive)\n",
      "resolution = 'i' # intermediate resolution for map info\n",
      "\n",
      "# Create the figure\n",
      "f2, ax2 = plt.subplots(figsize=(10,6))\n",
      "\n",
      "# Make the map object, where we draw geographic information\n",
      "m = Basemap(lon0, lat0, lon1, lat1, resolution=resolution, ax=ax2)\n",
      "#m.drawmapboundary(fill_color='#99ffff')\n",
      "#m.fillcontinents(color='#cc9966',lake_color='#99ffff')\n",
      "m.drawcoastlines()\n",
      "m.drawstates()\n",
      "m.drawcountries()\n",
      "\n",
      "\n",
      "# Now draw a scatter plot on the same map\n",
      "s2006 = ax.bar(ind, men_means, width, color='r', yerr=men_std)\n",
      "s2007 = ax.bar(ind + width, women_means, width, color='y', yerr=women_std)\n",
      "s2008 = ax.bar(ind + width, women_means, width, color='y', yerr=women_std)\n",
      "s2009 = ax.bar(ind + width, women_means, width, color='y', yerr=women_std)\n",
      "\n",
      "\n",
      "# add some\n",
      "ax.set_ylabel('Scores')\n",
      "ax.set_title('Scores by group and gender')\n",
      "ax.set_xticks(ind + width)\n",
      "ax.set_xticklabels(('G1', 'G2', 'G3', 'G4', 'G5'))\n",
      "\n",
      "ax.legend((rects1, rects2), ('Men', 'Women'))\n",
      "\n",
      "m.scatter(sdata['longitude'], sdata['latitude'], c=sdata['training_start_yr'])\n",
      "# Add a colorbar to the figure, linked to the scatterplot color scale\n",
      "#f2.colorbar(s)\n",
      "\n",
      "# Label the figure and every point by its station label\n",
      "plt.title('Onsite Healthy Schools Program Participation',fontsize=12)\n",
      "#for record in tab:\n",
      " #   ax2.text( record['lon']+0.04, record['lat']+0.04, record['station'], \n",
      "  #          weight='bold', color='yellow', zorder=10)\n",
      "\n",
      "plt.show()"
     ],
     "language": "python",
     "metadata": {},
     "outputs": [],
     "prompt_number": 18
    },
    {
     "cell_type": "code",
     "collapsed": false,
     "input": [
      "# Use known boundaries of California \n",
      "lon0 = -125\n",
      "lon1 = -114\n",
      "lat0 = 32\n",
      "lat1 = 42\n",
      "\n",
      "# Resolution of the basemap to load ('f' is *very* expensive)\n",
      "resolution = 'i' # intermediate resolution for map info\n",
      "\n",
      "# Create the figure\n",
      "f2, ax2 = plt.subplots(figsize=(10,6))\n",
      "\n",
      "# Make the map object, where we draw geographic information\n",
      "m = Basemap(lon0, lat0, lon1, lat1, resolution=resolution, ax=ax2)\n",
      "#m.drawmapboundary(fill_color='#99ffff')\n",
      "#m.fillcontinents(color='#cc9966',lake_color='#99ffff')\n",
      "m.drawcoastlines()\n",
      "m.drawstates()\n",
      "m.drawcountries()\n",
      "\n",
      "\n",
      "# Now draw a scatter plot on the same map\n",
      "s2006 = ax2.scatter(q1data.ix[q1data.training_start_yr==2006,'longitude'], \n",
      "                   q1data.ix[q1data.training_start_yr==2006,'latitude'], color='r')\n",
      "s2007 = ax2.scatter(q1data.ix[q1data.training_start_yr==2007,'longitude'], \n",
      "                   q1data.ix[q1data.training_start_yr==2007,'latitude'], color='y')\n",
      "s2008 = ax2.scatter(q1data.ix[q1data.training_start_yr==2008,'longitude'], \n",
      "                   q1data.ix[q1data.training_start_yr==2008,'latitude'], color='g')\n",
      "s2009 = ax2.scatter(q1data.ix[q1data.training_start_yr==2009,'longitude'], \n",
      "                   q1data.ix[q1data.training_start_yr==2009,'latitude'], color='c')\n",
      "s2010 = ax2.scatter(q1data.ix[q1data.training_start_yr==2010,'longitude'], \n",
      "                   q1data.ix[q1data.training_start_yr==2010,'latitude'], color='b')\n",
      "s2011 = ax2.scatter(q1data.ix[q1data.training_start_yr==2011,'longitude'], \n",
      "                   q1data.ix[q1data.training_start_yr==2011,'latitude'], color='m')\n",
      "ax2.legend((s2006, s2007, s2008, s2009, s2010, s2011), \n",
      "          ('2006-2007', '2007-2008', '2008-2009', '2009-2010', '2010-2011', '2011-2012'),\n",
      "          loc = 'upper right', title=\"First year of participation\", scatterpoints=1)"
     ],
     "language": "python",
     "metadata": {},
     "outputs": [
      {
       "metadata": {},
       "output_type": "pyout",
       "prompt_number": 51,
       "text": [
        "<matplotlib.legend.Legend at 0x98b3e90>"
       ]
      }
     ],
     "prompt_number": 51
    },
    {
     "cell_type": "code",
     "collapsed": false,
     "input": [],
     "language": "python",
     "metadata": {},
     "outputs": []
    }
   ],
   "metadata": {}
  }
 ]
}