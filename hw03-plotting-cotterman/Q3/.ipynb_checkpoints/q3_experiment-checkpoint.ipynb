{
 "metadata": {
  "name": ""
 },
 "nbformat": 3,
 "nbformat_minor": 0,
 "worksheets": [
  {
   "cells": [
    {
     "cell_type": "code",
     "collapsed": false,
     "input": [
      "import matplotlib.pyplot as plt\n",
      "from matplotlib import cm \n",
      "import numpy as np\n",
      "import pandas as pd\n",
      "from mpl_toolkits.basemap import Basemap\n",
      "%matplotlib "
     ],
     "language": "python",
     "metadata": {},
     "outputs": [
      {
       "output_type": "stream",
       "stream": "stdout",
       "text": [
        "Using matplotlib backend: TkAgg\n"
       ]
      }
     ],
     "prompt_number": 13
    },
    {
     "cell_type": "code",
     "collapsed": false,
     "input": [
      "# Read in data\n",
      "\n",
      "q3data = pd.read_csv('flowers.csv')\n",
      "traits = list(q3data.columns)[:4]\n",
      "unique_species = set(q3data['species'])\n",
      "print unique_species\n",
      "print len(traits)\n",
      "ctable = {'setosa':'r','versicolor':'g','virginica':'b'}\n",
      "ctable['versicolor']\n"
     ],
     "language": "python",
     "metadata": {},
     "outputs": [
      {
       "output_type": "stream",
       "stream": "stdout",
       "text": [
        "set(['setosa', 'versicolor', 'virginica'])\n",
        "4\n"
       ]
      },
      {
       "metadata": {},
       "output_type": "pyout",
       "prompt_number": 14,
       "text": [
        "'g'"
       ]
      }
     ],
     "prompt_number": 14
    },
    {
     "cell_type": "code",
     "collapsed": false,
     "input": [
      "# Plot the data in a 4x4 grid\n",
      "nrow = 4\n",
      "ncol = 4\n",
      "\n",
      "f, axes = plt.subplots(nrows=nrow, ncols=ncol)\n",
      "f.set_size_inches(18., 12.)\n",
      "\n",
      "for row, trait1 in enumerate(traits):\n",
      "    for col, trait2 in enumerate(traits):\n",
      "        axes[row,col].scatter(q3data[trait1], q3data[trait2], c=[ctable[s] for s in q3data['species']])\n",
      "        if col==row:\n",
      "            axes[row,col].set_title(trait1, position=(.1, .9), \n",
      "                                    horizontalalignment='left', verticalalignment='top')\n",
      "        \n",
      "f.suptitle('Flower Characteristics', fontsize='x-large')\n",
      "print f.get_size_inches() #default is [6. 4.]\n",
      "\n"
     ],
     "language": "python",
     "metadata": {},
     "outputs": [
      {
       "output_type": "stream",
       "stream": "stdout",
       "text": [
        "[ 18.  12.]\n"
       ]
      }
     ],
     "prompt_number": 25
    },
    {
     "cell_type": "code",
     "collapsed": false,
     "input": [
      "#create mapping from axesSubplot object ID to row and col of axes\n",
      "for "
     ],
     "language": "python",
     "metadata": {},
     "outputs": [
      {
       "output_type": "stream",
       "stream": "stdout",
       "text": [
        "\n",
        "[[<matplotlib.axes.AxesSubplot object at 0x9897f90>\n",
        "  <matplotlib.axes.AxesSubplot object at 0x5fd8710>\n",
        "  <matplotlib.axes.AxesSubplot object at 0x5fd3a90>\n",
        "  <matplotlib.axes.AxesSubplot object at 0x5d8a650>]\n",
        " [<matplotlib.axes.AxesSubplot object at 0x58de8d0>\n",
        "  <matplotlib.axes.AxesSubplot object at 0x576cfd0>\n",
        "  <matplotlib.axes.AxesSubplot object at 0x58fc710>\n",
        "  <matplotlib.axes.AxesSubplot object at 0x52ad690>]\n",
        " [<matplotlib.axes.AxesSubplot object at 0x8817490>\n",
        "  <matplotlib.axes.AxesSubplot object at 0x5fd0e50>\n",
        "  <matplotlib.axes.AxesSubplot object at 0x5a6e790>\n",
        "  <matplotlib.axes.AxesSubplot object at 0x55e5310>]\n",
        " [<matplotlib.axes.AxesSubplot object at 0x55b3690>\n",
        "  <matplotlib.axes.AxesSubplot object at 0x58ff950>\n",
        "  <matplotlib.axes.AxesSubplot object at 0x52a9910>\n",
        "  <matplotlib.axes.AxesSubplot object at 0x5da7c50>]]"
       ]
      },
      {
       "output_type": "stream",
       "stream": "stdout",
       "text": [
        "\n"
       ]
      }
     ],
     "prompt_number": 27
    },
    {
     "cell_type": "code",
     "collapsed": false,
     "input": [
      "#obtain x and y coordinates of space that you click on\n",
      "def onclick(event):\n",
      "    print 'button=%d, axis=%r, x=%d, y=%d, xdata=%f, ydata=%f'%(\n",
      "        event.button, event.inaxes, event.x, event.y, event.xdata, event.ydata)\n",
      "\n",
      "cid = f.canvas.mpl_connect('button_press_event', onclick)"
     ],
     "language": "python",
     "metadata": {},
     "outputs": [
      {
       "output_type": "stream",
       "stream": "stdout",
       "text": [
        "button=1, axis=<matplotlib.axes.AxesSubplot object at 0x9897f90>, x=286, y=781, xdata=5.966129, ydata=6.262891\n",
        "button=1, axis=<matplotlib.axes.AxesSubplot object at 0x5fd8710>, x=518, y=764, xdata=4.869355, ydata=2.903646"
       ]
      },
      {
       "output_type": "stream",
       "stream": "stdout",
       "text": [
        "\n",
        "button=1, axis=<matplotlib.axes.AxesSubplot object at 0x576cfd0>, x=571, y=565, xdata=2.940771, ydata=2.931901"
       ]
      },
      {
       "output_type": "stream",
       "stream": "stdout",
       "text": [
        "\n",
        "button=1, axis=<matplotlib.axes.AxesSubplot object at 0x58de8d0>, x=348, y=605, xdata=3.923656, ydata=6.919141"
       ]
      },
      {
       "output_type": "stream",
       "stream": "stdout",
       "text": [
        "\n",
        "button=1, axis=<matplotlib.axes.AxesSubplot object at 0x9897f90>, x=186, y=588, xdata=5.841687, ydata=6.641373"
       ]
      }
     ],
     "prompt_number": 26
    },
    {
     "cell_type": "code",
     "collapsed": false,
     "input": [],
     "language": "python",
     "metadata": {},
     "outputs": []
    },
    {
     "cell_type": "code",
     "collapsed": false,
     "input": [
      "class DraggableRectangle:\n",
      "    def __init__(self, rect):\n",
      "        self.rect = rect\n",
      "        self.press = None\n",
      "\n",
      "    def connect(self):\n",
      "        'connect to all the events we need'\n",
      "        self.cidpress = self.rect.figure.canvas.mpl_connect(\n",
      "            'button_press_event', self.on_press)\n",
      "        self.cidrelease = self.rect.figure.canvas.mpl_connect(\n",
      "            'button_release_event', self.on_release)\n",
      "        self.cidmotion = self.rect.figure.canvas.mpl_connect(\n",
      "            'motion_notify_event', self.on_motion)\n",
      "\n",
      "    def on_press(self, event):\n",
      "        'on button press we will see if the mouse is over us and store some data'\n",
      "        if event.inaxes != self.rect.axes: return\n",
      "\n",
      "        contains, attrd = self.rect.contains(event)\n",
      "        if not contains: return\n",
      "        print 'event contains', self.rect.xy\n",
      "        x0, y0 = self.rect.xy\n",
      "        self.press = x0, y0, event.xdata, event.ydata\n",
      "\n",
      "    def on_motion(self, event):\n",
      "        'on motion we will move the rect if the mouse is over us'\n",
      "        if self.press is None: return\n",
      "        if event.inaxes != self.rect.axes: return\n",
      "        x0, y0, xpress, ypress = self.press\n",
      "        dx = event.xdata - xpress\n",
      "        dy = event.ydata - ypress\n",
      "        #print 'x0=%f, xpress=%f, event.xdata=%f, dx=%f, x0+dx=%f'%(x0, xpress, event.xdata, dx, x0+dx)\n",
      "        self.rect.set_x(x0+dx)\n",
      "        self.rect.set_y(y0+dy)\n",
      "\n",
      "        self.rect.figure.canvas.draw()\n",
      "\n",
      "\n",
      "    def on_release(self, event):\n",
      "        'on release we reset the press data'\n",
      "        self.press = None\n",
      "        self.rect.figure.canvas.draw()\n",
      "\n",
      "    def disconnect(self):\n",
      "        'disconnect all the stored connection ids'\n",
      "        self.rect.figure.canvas.mpl_disconnect(self.cidpress)\n",
      "        self.rect.figure.canvas.mpl_disconnect(self.cidrelease)\n",
      "        self.rect.figure.canvas.mpl_disconnect(self.cidmotion)\n",
      "\n",
      "fig = plt.figure()\n",
      "ax = fig.add_subplot(111)\n",
      "rects = ax.bar(range(10), 20*np.random.rand(10))\n",
      "drs = []\n",
      "for rect in rects:\n",
      "    dr = DraggableRectangle(rect)\n",
      "    dr.connect()\n",
      "    drs.append(dr)\n",
      "\n",
      "plt.show()"
     ],
     "language": "python",
     "metadata": {},
     "outputs": [
      {
       "output_type": "stream",
       "stream": "stdout",
       "text": [
        "\n"
       ]
      },
      {
       "output_type": "stream",
       "stream": "stdout",
       "text": [
        "event contains (7, 0)\n",
        "event contains"
       ]
      },
      {
       "output_type": "stream",
       "stream": "stdout",
       "text": [
        " (7, 0)\n",
        "event contains"
       ]
      },
      {
       "output_type": "stream",
       "stream": "stdout",
       "text": [
        " (8, 0)\n",
        "event contains"
       ]
      }
     ],
     "prompt_number": 21
    }
   ],
   "metadata": {}
  }
 ]
}