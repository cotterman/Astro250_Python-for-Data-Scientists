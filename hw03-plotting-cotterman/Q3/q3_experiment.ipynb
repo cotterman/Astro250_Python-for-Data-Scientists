{
 "metadata": {
  "name": ""
 },
 "nbformat": 3,
 "nbformat_minor": 0,
 "worksheets": [
  {
   "cells": [
    {
     "cell_type": "code",
     "collapsed": false,
     "input": [
      "import matplotlib.pyplot as plt\n",
      "from matplotlib import cm \n",
      "import numpy as np\n",
      "import pandas as pd\n",
      "from mpl_toolkits.basemap import Basemap\n",
      "%matplotlib "
     ],
     "language": "python",
     "metadata": {},
     "outputs": [
      {
       "output_type": "stream",
       "stream": "stdout",
       "text": [
        "Using matplotlib backend: TkAgg\n"
       ]
      },
      {
       "output_type": "stream",
       "stream": "stderr",
       "text": [
        "/usr/local/lib/python2.7/dist-packages/pytz/__init__.py:35: UserWarning: Module dap was already imported from None, but /usr/lib/python2.7/dist-packages is being added to sys.path\n",
        "  from pkg_resources import resource_stream\n"
       ]
      }
     ],
     "prompt_number": 1
    },
    {
     "cell_type": "code",
     "collapsed": false,
     "input": [
      "q3data = pd.read_csv('flowers.csv')\n",
      "print q3data.head()\n",
      "print type(q3data)\n",
      "traits = list(q3data.columns)\n",
      "print traits[:4]\n",
      "print q3data.describe\n",
      "unique_species = set(q3data['species'])\n",
      "print unique_species"
     ],
     "language": "python",
     "metadata": {},
     "outputs": [
      {
       "output_type": "stream",
       "stream": "stdout",
       "text": [
        "   sepal length  sepal width  petal length  petal width species\n",
        "0           5.1          3.5           1.4          0.2  setosa\n",
        "1           4.9          3.0           1.4          0.2  setosa\n",
        "2           4.7          3.2           1.3          0.2  setosa\n",
        "3           4.6          3.1           1.5          0.2  setosa\n",
        "4           5.0          3.6           1.4          0.2  setosa\n",
        "<class 'pandas.core.frame.DataFrame'>\n",
        "['sepal length', 'sepal width', 'petal length', 'petal width']\n",
        "<bound method DataFrame.describe of <class 'pandas.core.frame.DataFrame'>\n",
        "Int64Index: 150 entries, 0 to 149\n",
        "Data columns (total 5 columns):\n",
        "sepal length    150  non-null values\n",
        "sepal width     150  non-null values\n",
        "petal length    150  non-null values\n",
        "petal width     150  non-null values\n",
        "species         150  non-null values\n",
        "dtypes: float64(4), object(1)>\n",
        "set(['setosa', 'versicolor', 'virginica'])\n"
       ]
      }
     ],
     "prompt_number": 2
    },
    {
     "cell_type": "code",
     "collapsed": false,
     "input": [
      "q3data.'sepal length'"
     ],
     "language": "python",
     "metadata": {},
     "outputs": [
      {
       "ename": "SyntaxError",
       "evalue": "invalid syntax (<ipython-input-35-ff01e1f367d4>, line 1)",
       "output_type": "pyerr",
       "traceback": [
        "\u001b[1;36m  File \u001b[1;32m\"<ipython-input-35-ff01e1f367d4>\"\u001b[1;36m, line \u001b[1;32m1\u001b[0m\n\u001b[1;33m    q3data.'sepal length'\u001b[0m\n\u001b[1;37m                        ^\u001b[0m\n\u001b[1;31mSyntaxError\u001b[0m\u001b[1;31m:\u001b[0m invalid syntax\n"
       ]
      }
     ],
     "prompt_number": 35
    },
    {
     "cell_type": "code",
     "collapsed": false,
     "input": [
      "q3data['sepal length']"
     ],
     "language": "python",
     "metadata": {},
     "outputs": [
      {
       "metadata": {},
       "output_type": "pyout",
       "prompt_number": 13,
       "text": [
        "0     5.1\n",
        "1     4.9\n",
        "2     4.7\n",
        "3     4.6\n",
        "4     5.0\n",
        "5     5.4\n",
        "6     4.6\n",
        "7     5.0\n",
        "8     4.4\n",
        "9     4.9\n",
        "10    5.4\n",
        "11    4.8\n",
        "12    4.8\n",
        "13    4.3\n",
        "14    5.8\n",
        "...\n",
        "135    7.7\n",
        "136    6.3\n",
        "137    6.4\n",
        "138    6.0\n",
        "139    6.9\n",
        "140    6.7\n",
        "141    6.9\n",
        "142    5.8\n",
        "143    6.8\n",
        "144    6.7\n",
        "145    6.7\n",
        "146    6.3\n",
        "147    6.5\n",
        "148    6.2\n",
        "149    5.9\n",
        "Name: sepal length, Length: 150, dtype: float64"
       ]
      }
     ],
     "prompt_number": 13
    },
    {
     "cell_type": "code",
     "collapsed": false,
     "input": [
      "traits = list(q3data.columns)[:4]\n",
      "print traits\n",
      "unique_species = set(q3data['species'])\n",
      "print unique_species\n",
      "print len(traits)"
     ],
     "language": "python",
     "metadata": {},
     "outputs": [
      {
       "output_type": "stream",
       "stream": "stdout",
       "text": [
        "['sepal length', 'sepal width', 'petal length', 'petal width']\n",
        "set(['setosa', 'versicolor', 'virginica'])\n",
        "4\n"
       ]
      }
     ],
     "prompt_number": 3
    },
    {
     "cell_type": "code",
     "collapsed": false,
     "input": [
      "ctable = {'setosa':'r','versicolor':'g','virginica':'b'}\n",
      "ctable['versicolor']"
     ],
     "language": "python",
     "metadata": {},
     "outputs": [
      {
       "metadata": {},
       "output_type": "pyout",
       "prompt_number": 4,
       "text": [
        "'g'"
       ]
      }
     ],
     "prompt_number": 4
    },
    {
     "cell_type": "code",
     "collapsed": false,
     "input": [
      "q3data['sepal length'].min()"
     ],
     "language": "python",
     "metadata": {},
     "outputs": [
      {
       "metadata": {},
       "output_type": "pyout",
       "prompt_number": 81,
       "text": [
        "4.2999999999999998"
       ]
      }
     ],
     "prompt_number": 81
    },
    {
     "cell_type": "code",
     "collapsed": false,
     "input": [
      "\n",
      "f, axes = plt.subplots(nrows=4, ncols=4)\n",
      "f.set_size_inches(18., 12.)\n",
      "\n",
      "for row, trait1 in enumerate(traits):\n",
      "    for col, trait2 in enumerate(traits):\n",
      "        axes[row,col].scatter(q3data[trait1], q3data[trait2], c=[ctable[s] for s in q3data['species']])\n",
      "        if col==row:\n",
      "            axes[row,col].set_title(trait1, position=(.1, .9), \n",
      "                                    horizontalalignment='left', verticalalignment='top')\n",
      "        \n",
      "f.suptitle('Flower Characteristics', fontsize='x-large')\n",
      "print f.get_size_inches() #default is [6. 4.]\n"
     ],
     "language": "python",
     "metadata": {},
     "outputs": [
      {
       "output_type": "stream",
       "stream": "stdout",
       "text": [
        "[ 18.  12.]\n"
       ]
      }
     ],
     "prompt_number": 11
    }
   ],
   "metadata": {}
  }
 ]
}