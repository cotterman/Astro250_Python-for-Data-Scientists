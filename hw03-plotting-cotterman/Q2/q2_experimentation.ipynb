{
 "metadata": {
  "name": ""
 },
 "nbformat": 3,
 "nbformat_minor": 0,
 "worksheets": [
  {
   "cells": [
    {
     "cell_type": "code",
     "collapsed": false,
     "input": [
      "import matplotlib.pyplot as plt\n",
      "import numpy as np\n",
      "import pandas as pd\n",
      "from mpl_toolkits.basemap import Basemap \n"
     ],
     "language": "python",
     "metadata": {},
     "outputs": [
      {
       "output_type": "stream",
       "stream": "stderr",
       "text": [
        "/usr/local/lib/python2.7/dist-packages/pytz/__init__.py:35: UserWarning: Module dap was already imported from None, but /usr/lib/python2.7/dist-packages is being added to sys.path\n",
        "  from pkg_resources import resource_stream\n"
       ]
      }
     ],
     "prompt_number": 1
    },
    {
     "cell_type": "code",
     "collapsed": false,
     "input": [
      "%matplotlib inline"
     ],
     "language": "python",
     "metadata": {},
     "outputs": [],
     "prompt_number": 2
    },
    {
     "cell_type": "code",
     "collapsed": false,
     "input": [
      "help(np.loadtxt)\n"
     ],
     "language": "python",
     "metadata": {},
     "outputs": [
      {
       "output_type": "stream",
       "stream": "stdout",
       "text": [
        "Help on function loadtxt in module numpy.lib.npyio:\n",
        "\n",
        "loadtxt(fname, dtype=<type 'float'>, comments='#', delimiter=None, converters=None, skiprows=0, usecols=None, unpack=False, ndmin=0)\n",
        "    Load data from a text file.\n",
        "    \n",
        "    Each row in the text file must have the same number of values.\n",
        "    \n",
        "    Parameters\n",
        "    ----------\n",
        "    fname : file or str\n",
        "        File, filename, or generator to read.  If the filename extension is\n",
        "        ``.gz`` or ``.bz2``, the file is first decompressed. Note that\n",
        "        generators should return byte strings for Python 3k.\n",
        "    dtype : data-type, optional\n",
        "        Data-type of the resulting array; default: float.  If this is a\n",
        "        record data-type, the resulting array will be 1-dimensional, and\n",
        "        each row will be interpreted as an element of the array.  In this\n",
        "        case, the number of columns used must match the number of fields in\n",
        "        the data-type.\n",
        "    comments : str, optional\n",
        "        The character used to indicate the start of a comment;\n",
        "        default: '#'.\n",
        "    delimiter : str, optional\n",
        "        The string used to separate values.  By default, this is any\n",
        "        whitespace.\n",
        "    converters : dict, optional\n",
        "        A dictionary mapping column number to a function that will convert\n",
        "        that column to a float.  E.g., if column 0 is a date string:\n",
        "        ``converters = {0: datestr2num}``.  Converters can also be used to\n",
        "        provide a default value for missing data (but see also `genfromtxt`):\n",
        "        ``converters = {3: lambda s: float(s.strip() or 0)}``.  Default: None.\n",
        "    skiprows : int, optional\n",
        "        Skip the first `skiprows` lines; default: 0.\n",
        "    usecols : sequence, optional\n",
        "        Which columns to read, with 0 being the first.  For example,\n",
        "        ``usecols = (1,4,5)`` will extract the 2nd, 5th and 6th columns.\n",
        "        The default, None, results in all columns being read.\n",
        "    unpack : bool, optional\n",
        "        If True, the returned array is transposed, so that arguments may be\n",
        "        unpacked using ``x, y, z = loadtxt(...)``.  When used with a record\n",
        "        data-type, arrays are returned for each field.  Default is False.\n",
        "    ndmin : int, optional\n",
        "        The returned array will have at least `ndmin` dimensions.\n",
        "        Otherwise mono-dimensional axes will be squeezed.\n",
        "        Legal values: 0 (default), 1 or 2.\n",
        "        .. versionadded:: 1.6.0\n",
        "    \n",
        "    Returns\n",
        "    -------\n",
        "    out : ndarray\n",
        "        Data read from the text file.\n",
        "    \n",
        "    See Also\n",
        "    --------\n",
        "    load, fromstring, fromregex\n",
        "    genfromtxt : Load data with missing values handled as specified.\n",
        "    scipy.io.loadmat : reads MATLAB data files\n",
        "    \n",
        "    Notes\n",
        "    -----\n",
        "    This function aims to be a fast reader for simply formatted files.  The\n",
        "    `genfromtxt` function provides more sophisticated handling of, e.g.,\n",
        "    lines with missing values.\n",
        "    \n",
        "    Examples\n",
        "    --------\n",
        "    >>> from StringIO import StringIO   # StringIO behaves like a file object\n",
        "    >>> c = StringIO(\"0 1\\n2 3\")\n",
        "    >>> np.loadtxt(c)\n",
        "    array([[ 0.,  1.],\n",
        "           [ 2.,  3.]])\n",
        "    \n",
        "    >>> d = StringIO(\"M 21 72\\nF 35 58\")\n",
        "    >>> np.loadtxt(d, dtype={'names': ('gender', 'age', 'weight'),\n",
        "    ...                      'formats': ('S1', 'i4', 'f4')})\n",
        "    array([('M', 21, 72.0), ('F', 35, 58.0)],\n",
        "          dtype=[('gender', '|S1'), ('age', '<i4'), ('weight', '<f4')])\n",
        "    \n",
        "    >>> c = StringIO(\"1,0,2\\n3,0,4\")\n",
        "    >>> x, y = np.loadtxt(c, delimiter=',', usecols=(0, 2), unpack=True)\n",
        "    >>> x\n",
        "    array([ 1.,  3.])\n",
        "    >>> y\n",
        "    array([ 2.,  4.])\n",
        "\n"
       ]
      }
     ],
     "prompt_number": 15
    },
    {
     "cell_type": "code",
     "collapsed": false,
     "input": [
      "# Data descriptor to make a proper array.\n",
      "dt1 = [('Date', np.int), ('Value', np.float)]\n",
      "dt2 = [('Date', np.int), ('Temperature', np.int)]\n",
      "dyahoo = np.loadtxt('yahoo_data.txt', skiprows=1, dtype=dt1)\n",
      "dyahoo.dtype\n",
      "dyahoo[:10]\n",
      "dgoog = np.loadtxt('google_data.txt', skiprows=1, dtype=dt1) \n",
      "dgoog[:10]\n",
      "dtemps = np.loadtxt('ny_temps.txt', skiprows=1, dtype=dt2) \n",
      "dtemps[:10]"
     ],
     "language": "python",
     "metadata": {},
     "outputs": [
      {
       "metadata": {},
       "output_type": "pyout",
       "prompt_number": 24,
       "text": [
        "array([(48988, 53), (49019, 38), (49047, 31), (49078, 66), (49108, 75),\n",
        "       (49139, 65), (49169, 79), (49200, 82), (49231, 83), (49261, 51)], \n",
        "      dtype=[('Date', '<i8'), ('Temperature', '<i8')])"
       ]
      }
     ],
     "prompt_number": 24
    },
    {
     "cell_type": "code",
     "collapsed": false,
     "input": [
      "dyahoo['Date'][:10]"
     ],
     "language": "python",
     "metadata": {},
     "outputs": [
      {
       "metadata": {},
       "output_type": "pyout",
       "prompt_number": 25,
       "text": [
        "array([55463, 55462, 55461, 55460, 55459, 55456, 55455, 55454, 55453, 55452])"
       ]
      }
     ],
     "prompt_number": 25
    },
    {
     "cell_type": "code",
     "collapsed": false,
     "input": [
      "f, ax = plt.subplots(111)\n",
      "ax.plot(dyahoo['Date'], dyahoo['Value'], label='Yahoo! Stock Value')\n",
      "ax.plot(dgoog['Date'], dgoog['Value'], label='Google Stock Value')\n",
      "ax.plot(dtemps['Date'], dtemps['Temperature', label='NY Mon. High Temp')\n",
      "ax.set_title('New York Temperature, Google, and Yahoo!')\n",
      "ax.set_xlabel('Date(MJD)')\n",
      "ax.set_ylabel('Value (Dollars)')\n",
      "ax.legend(loc='center left')\n"
     ],
     "language": "python",
     "metadata": {},
     "outputs": [
      {
       "metadata": {},
       "output_type": "pyout",
       "prompt_number": 31,
       "text": [
        "<matplotlib.legend.Legend at 0x44d3710>"
       ]
      },
      {
       "metadata": {},
       "output_type": "display_data",
       "png": "[encoded data removed]",
       "text": [
        "<matplotlib.figure.Figure at 0x442b090>"
       ]
      }
     ],
     "prompt_number": 31
    },
    {
     "cell_type": "code",
     "collapsed": false,
     "input": [
      "\n"
     ],
     "language": "python",
     "metadata": {},
     "outputs": []
    }
   ],
   "metadata": {}
  }
 ]
}