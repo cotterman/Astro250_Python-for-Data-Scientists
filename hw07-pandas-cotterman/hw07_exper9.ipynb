{
 "metadata": {
  "name": ""
 },
 "nbformat": 3,
 "nbformat_minor": 0,
 "worksheets": [
  {
   "cells": [
    {
     "cell_type": "code",
     "collapsed": false,
     "input": [
      "import numpy as np\n",
      "import pandas as pd\n",
      "import pprint\n",
      "import json\n",
      "from datetime import datetime, timedelta\n",
      "from dateutil.parser import parse\n",
      "from collections import defaultdict"
     ],
     "language": "python",
     "metadata": {},
     "outputs": []
    },
    {
     "cell_type": "code",
     "collapsed": false,
     "input": [
      "#9) Create a helper 'labels' table from the issues data with two columns: id and\n",
      "#label. If an issue has 3 elements in its 'labels' value, add 3 rows to the\n",
      "#table. If an issue does not have any labels, place a single row with None as\n",
      "#the label (hint: construct a list of tuples, then make the DataFrame).\n",
      "\n"
     ],
     "language": "python",
     "metadata": {},
     "outputs": []
    }
   ],
   "metadata": {}
  }
 ]
}