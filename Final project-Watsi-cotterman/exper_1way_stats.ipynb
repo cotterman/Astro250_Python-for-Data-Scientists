{
 "metadata": {
  "name": ""
 },
 "nbformat": 3,
 "nbformat_minor": 0,
 "worksheets": [
  {
   "cells": [
    {
     "cell_type": "code",
     "collapsed": false,
     "input": [
      "import os\n",
      "import re\n",
      "import numpy as np\n",
      "import pandas as pd\n",
      "import urllib2\n",
      "from datetime import datetime\n",
      "from bs4 import BeautifulSoup\n",
      "import matplotlib.pyplot as plt\n",
      "\n",
      "from scipy import stats"
     ],
     "language": "python",
     "metadata": {},
     "outputs": [],
     "prompt_number": 144
    },
    {
     "cell_type": "code",
     "collapsed": false,
     "input": [
      "#folders within folder from which code is run\n",
      "downloadfolder = \"/Watsi_data_downloaded/\"\n",
      "processedfolder = \"/Watsi_data_processed/\"\n",
      "resultsfolder = \"/Summary_plots_and_tables/\"\n",
      "ppath = os.getcwd()\n",
      "\n",
      "#file containing main data of interest\n",
      "towrite = \"Data_summary.csv\" \n",
      "towrite_path = ppath + processedfolder + towrite"
     ],
     "language": "python",
     "metadata": {},
     "outputs": [],
     "prompt_number": 145
    },
    {
     "cell_type": "code",
     "collapsed": false,
     "input": [
      "# use this for floating figures:\n",
      "#%matplotlib\n",
      "\n",
      "# use this for inlined figures:\n",
      "%matplotlib inline"
     ],
     "language": "python",
     "metadata": {},
     "outputs": [],
     "prompt_number": 146
    },
    {
     "cell_type": "code",
     "collapsed": false,
     "input": [
      "from datetime import datetime\n",
      "mydf = pd.read_csv(towrite_path, parse_dates=True)\n",
      "print mydf.columns\n",
      "print type(mydf.date_posted[0])\n",
      "mydf['date_posted'] = pd.to_datetime(mydf['date_posted'])\n",
      "print type(mydf.date_posted[0])\n",
      "\n",
      "#print mydf['date_posted'].ix[:20]"
     ],
     "language": "python",
     "metadata": {},
     "outputs": [
      {
       "output_type": "stream",
       "stream": "stdout",
       "text": [
        "Index([u'Unnamed: 0', u'profile_ID', u'profile_link', u'date_posted', u'date_funded', u'funding_time', u'patient_age', u'country', u'treat_cost', u'maleness', u'text_length', u'smile_scale', u'region', u'dollars_per_day', u'funding_days'], dtype=object)\n",
        "<type 'str'>\n",
        "<class 'pandas.tslib.Timestamp'>\n"
       ]
      }
     ],
     "prompt_number": 147
    },
    {
     "cell_type": "code",
     "collapsed": false,
     "input": [
      "mydf.describe()"
     ],
     "language": "python",
     "metadata": {},
     "outputs": [
      {
       "html": [
        "<div style=\"max-height:1000px;max-width:1500px;overflow:auto;\">\n",
        "<table border=\"1\" class=\"dataframe\">\n",
        "  <thead>\n",
        "    <tr style=\"text-align: right;\">\n",
        "      <th></th>\n",
        "      <th>Unnamed: 0</th>\n",
        "      <th>profile_ID</th>\n",
        "      <th>patient_age</th>\n",
        "      <th>treat_cost</th>\n",
        "      <th>maleness</th>\n",
        "      <th>text_length</th>\n",
        "      <th>smile_scale</th>\n",
        "      <th>dollars_per_day</th>\n",
        "      <th>funding_days</th>\n",
        "    </tr>\n",
        "  </thead>\n",
        "  <tbody>\n",
        "    <tr>\n",
        "      <th>count</th>\n",
        "      <td> 984.000000</td>\n",
        "      <td>  984.000000</td>\n",
        "      <td> 984.000000</td>\n",
        "      <td>  983.000000</td>\n",
        "      <td> 979.000000</td>\n",
        "      <td>  979.000000</td>\n",
        "      <td> 982.000000</td>\n",
        "      <td>  975.000000</td>\n",
        "      <td> 976.000000</td>\n",
        "    </tr>\n",
        "    <tr>\n",
        "      <th>mean</th>\n",
        "      <td> 491.500000</td>\n",
        "      <td>  500.515244</td>\n",
        "      <td>  20.427846</td>\n",
        "      <td>  709.543235</td>\n",
        "      <td>   0.448417</td>\n",
        "      <td>  796.127681</td>\n",
        "      <td>   0.658045</td>\n",
        "      <td>  302.376668</td>\n",
        "      <td>   3.974385</td>\n",
        "    </tr>\n",
        "    <tr>\n",
        "      <th>std</th>\n",
        "      <td> 284.200633</td>\n",
        "      <td>  287.748388</td>\n",
        "      <td>  17.162406</td>\n",
        "      <td>  454.705932</td>\n",
        "      <td>   0.497586</td>\n",
        "      <td>  197.603513</td>\n",
        "      <td>   0.220535</td>\n",
        "      <td>  312.068456</td>\n",
        "      <td>   3.675890</td>\n",
        "    </tr>\n",
        "    <tr>\n",
        "      <th>min</th>\n",
        "      <td>   0.000000</td>\n",
        "      <td>    4.000000</td>\n",
        "      <td>   1.000000</td>\n",
        "      <td>  100.000000</td>\n",
        "      <td>   0.000000</td>\n",
        "      <td>  387.000000</td>\n",
        "      <td>   0.000000</td>\n",
        "      <td>   17.916667</td>\n",
        "      <td>   1.000000</td>\n",
        "    </tr>\n",
        "    <tr>\n",
        "      <th>25%</th>\n",
        "      <td> 245.750000</td>\n",
        "      <td>  251.750000</td>\n",
        "      <td>   6.000000</td>\n",
        "      <td>  300.000000</td>\n",
        "      <td>   0.000000</td>\n",
        "      <td>  655.500000</td>\n",
        "      <td>   0.500000</td>\n",
        "      <td>  107.500000</td>\n",
        "      <td>   1.000000</td>\n",
        "    </tr>\n",
        "    <tr>\n",
        "      <th>50%</th>\n",
        "      <td> 491.500000</td>\n",
        "      <td>  498.500000</td>\n",
        "      <td>  16.000000</td>\n",
        "      <td>  550.000000</td>\n",
        "      <td>   0.000000</td>\n",
        "      <td>  769.000000</td>\n",
        "      <td>   0.600000</td>\n",
        "      <td>  209.285714</td>\n",
        "      <td>   3.000000</td>\n",
        "    </tr>\n",
        "    <tr>\n",
        "      <th>75%</th>\n",
        "      <td> 737.250000</td>\n",
        "      <td>  747.250000</td>\n",
        "      <td>  30.000000</td>\n",
        "      <td> 1000.000000</td>\n",
        "      <td>   1.000000</td>\n",
        "      <td>  901.000000</td>\n",
        "      <td>   0.875000</td>\n",
        "      <td>  348.750000</td>\n",
        "      <td>   5.000000</td>\n",
        "    </tr>\n",
        "    <tr>\n",
        "      <th>max</th>\n",
        "      <td> 983.000000</td>\n",
        "      <td> 1071.000000</td>\n",
        "      <td>  85.000000</td>\n",
        "      <td> 2000.000000</td>\n",
        "      <td>   1.000000</td>\n",
        "      <td> 1791.000000</td>\n",
        "      <td>   1.000000</td>\n",
        "      <td> 2000.000000</td>\n",
        "      <td>  25.000000</td>\n",
        "    </tr>\n",
        "  </tbody>\n",
        "</table>\n",
        "</div>"
       ],
       "metadata": {},
       "output_type": "pyout",
       "prompt_number": 148,
       "text": [
        "       Unnamed: 0   profile_ID  patient_age   treat_cost    maleness  \\\n",
        "count  984.000000   984.000000   984.000000   983.000000  979.000000   \n",
        "mean   491.500000   500.515244    20.427846   709.543235    0.448417   \n",
        "std    284.200633   287.748388    17.162406   454.705932    0.497586   \n",
        "min      0.000000     4.000000     1.000000   100.000000    0.000000   \n",
        "25%    245.750000   251.750000     6.000000   300.000000    0.000000   \n",
        "50%    491.500000   498.500000    16.000000   550.000000    0.000000   \n",
        "75%    737.250000   747.250000    30.000000  1000.000000    1.000000   \n",
        "max    983.000000  1071.000000    85.000000  2000.000000    1.000000   \n",
        "\n",
        "       text_length  smile_scale  dollars_per_day  funding_days  \n",
        "count   979.000000   982.000000       975.000000    976.000000  \n",
        "mean    796.127681     0.658045       302.376668      3.974385  \n",
        "std     197.603513     0.220535       312.068456      3.675890  \n",
        "min     387.000000     0.000000        17.916667      1.000000  \n",
        "25%     655.500000     0.500000       107.500000      1.000000  \n",
        "50%     769.000000     0.600000       209.285714      3.000000  \n",
        "75%     901.000000     0.875000       348.750000      5.000000  \n",
        "max    1791.000000     1.000000      2000.000000     25.000000  "
       ]
      }
     ],
     "prompt_number": 148
    },
    {
     "cell_type": "code",
     "collapsed": false,
     "input": [
      "plt.hist(mydf['smile_scale'].dropna(), bins=11)\n",
      "plt.xlabel('Smile scale (0 - 1)')\n",
      "plt.ylabel('Number of Profiles')"
     ],
     "language": "python",
     "metadata": {},
     "outputs": [
      {
       "metadata": {},
       "output_type": "display_data",
       "png": "[encoded data removed]",
       "text": [
        "<matplotlib.figure.Figure at 0x8734fd0>"
       ]
      }
     ],
     "prompt_number": 29
    },
    {
     "cell_type": "code",
     "collapsed": false,
     "input": [
      "maleness = mydf['maleness']\n",
      "not_male = mydf['maleness']<1\n",
      "not_female = mydf['maleness']>0\n",
      "ambiguous_list = []\n",
      "for person in xrange(mydf.shape[0]):\n",
      "    if not_male[person]==True and not_female[person]==True:\n",
      "        ambiguous = True \n",
      "    else:\n",
      "        ambiguous = False\n",
      "    ambiguous_list.append(ambiguous)\n",
      "print ambiguous_list[:20]\n",
      "print mydf[['profile_ID','maleness']].ix[ambiguous_list] #investigate these by hand\n",
      "\n",
      "#number and percent of patients in ambiguous zone\n",
      "print \"Number of patients with both gender pronouns: \" , mydf['maleness'].ix[ambiguous_list].count()\n",
      "print \"Percent of population: \" , 100*float(mydf['maleness'].ix[ambiguous_list].count())/mydf['maleness'].count()\n",
      "\n",
      "#Result:  10% of profiles (99) contain both gender pronouns\n"
     ],
     "language": "python",
     "metadata": {},
     "outputs": [
      {
       "output_type": "stream",
       "stream": "stdout",
       "text": [
        "[False, False, False, False, False, False, False, False, False, False, False, False, False, False, False, False, False, False, False, False]\n",
        "Empty DataFrame\n",
        "Columns: [profile_ID, maleness]\n",
        "Index: []\n",
        "Number of patients with both gender pronouns:  0\n",
        "Percent of population:  0.0\n"
       ]
      }
     ],
     "prompt_number": 130
    },
    {
     "cell_type": "code",
     "collapsed": false,
     "input": [
      "max_age = max(mydf['patient_age'].dropna())\n",
      "min_age = min(mydf['patient_age'].dropna()) #1 is min age\n",
      "plt.hist(mydf['patient_age'].dropna(), bins=max_age)\n",
      "plt.xlabel('Patient Age')\n",
      "plt.ylabel('Number of Profiles')\n",
      "\n",
      "\n",
      "#fraction of patients who are 1 years old:\n",
      "print mydf['patient_age'].ix[:20], \"\\n\"\n",
      "under2 = mydf['patient_age']==1\n",
      "print \"Number of patients who are 1 years old: \" , mydf['patient_age'].ix[under2].count()\n",
      "print \"Percent of population: \" , 100*float(mydf['patient_age'].ix[under2].count())/mydf['patient_age'].count()"
     ],
     "language": "python",
     "metadata": {},
     "outputs": [
      {
       "output_type": "stream",
       "stream": "stdout",
       "text": [
        "0     12\n",
        "1     14\n",
        "2     24\n",
        "3      2\n",
        "4      2\n",
        "5      1\n",
        "6     12\n",
        "7     40\n",
        "8      4\n",
        "9      1\n",
        "10    52\n",
        "11     6\n",
        "12     6\n",
        "13    28\n",
        "14    20\n",
        "15     7\n",
        "16    52\n",
        "17    14\n",
        "18     1\n",
        "19    27\n",
        "20    60\n",
        "Name: patient_age, dtype: int64 \n",
        "\n",
        "Number of patients who are 1 years old:  86\n",
        "Fraction of population:  8.71327254306\n"
       ]
      },
      {
       "metadata": {},
       "output_type": "display_data",
       "png": "[encoded data removed]",
       "text": [
        "<matplotlib.figure.Figure at 0x8351c50>"
       ]
      }
     ],
     "prompt_number": 68
    },
    {
     "cell_type": "code",
     "collapsed": false,
     "input": [
      "mydata = mydf['treat_cost'].dropna()\n",
      "print type(mydata)\n",
      "plt.hist(mydata, bins=10)\n",
      "plt.xlabel('Treatment Cost (US dollars)')\n",
      "plt.ylabel('Number of Profiles')\n",
      "\n",
      "#display percentiles\n",
      "percentiles = [0,5] + range(10,100,10) + [95,99,100]\n",
      "for myp in percentiles:\n",
      "    myq = myp/100.\n",
      "    print \"Percentile\" , myp , \":\" ,mydata.quantile(myq)"
     ],
     "language": "python",
     "metadata": {},
     "outputs": [
      {
       "output_type": "stream",
       "stream": "stdout",
       "text": [
        "<class 'pandas.core.series.Series'>\n",
        "Percentile"
       ]
      },
      {
       "output_type": "stream",
       "stream": "stdout",
       "text": [
        " 0 : 100.0\n",
        "Percentile 5 : 215.0\n",
        "Percentile 10 : 215.0\n",
        "Percentile 20 : 300.0\n",
        "Percentile 30 : 300.0\n",
        "Percentile 40 : 484.0\n",
        "Percentile 50 : 550.0\n",
        "Percentile 60 : 800.0\n",
        "Percentile 70 : 1000.0\n",
        "Percentile 80 : 1049.0\n",
        "Percentile 90 : 1490.0\n",
        "Percentile 95 : 1500.0\n",
        "Percentile 99 : 2000.0\n",
        "Percentile 100 : 3000.0\n"
       ]
      },
      {
       "metadata": {},
       "output_type": "display_data",
       "png": "[encoded data removed]",
       "text": [
        "<matplotlib.figure.Figure at 0x97f45d0>"
       ]
      }
     ],
     "prompt_number": 57
    },
    {
     "cell_type": "code",
     "collapsed": false,
     "input": [
      "#Column 1 contains item values, column 2 contains their respective counts.\n",
      "freqs = stats.itemfreq(np.array(mydf['smile_scale']))\n",
      "print freqs #todo: get better formating\n",
      "\n",
      "#output percentages (rather than frequencies)\n",
      "nonnull_count = mydf['smile_scale'].count()\n",
      "freq_df = pd.DataFrame(index=range(freqs.shape[0]), \n",
      "        columns=['Value','Percent'])\n",
      "for count in xrange(freqs.shape[0]):\n",
      "    freq_df.Value[count] = freqs[count][0]\n",
      "    freq_df['Percent'][count] = 100.*(freqs[count][1] / nonnull_count)\n",
      "print type(freqs)\n",
      "print freq_df"
     ],
     "language": "python",
     "metadata": {},
     "outputs": [
      {
       "output_type": "stream",
       "stream": "stdout",
       "text": [
        "[[  0.00000000e+00   5.00000000e+00]\n",
        " [  1.00000000e-01   4.00000000e+00]\n",
        " [  2.00000000e-01   1.70000000e+01]\n",
        " [  3.00000000e-01   2.30000000e+01]\n",
        " [  4.00000000e-01   8.50000000e+01]\n",
        " [  5.00000000e-01   2.80000000e+02]\n",
        " [  6.00000000e-01   1.05000000e+02]\n",
        " [  7.00000000e-01   9.90000000e+01]\n",
        " [  8.00000000e-01   1.18000000e+02]\n",
        " [  9.00000000e-01   1.12000000e+02]\n",
        " [  1.00000000e+00   1.34000000e+02]\n",
        " [             nan   0.00000000e+00]\n",
        " [             nan   0.00000000e+00]]\n",
        "<type 'numpy.ndarray'>\n",
        "   Value   Percent\n",
        "0      0  0.509165\n",
        "1    0.1  0.407332\n",
        "2    0.2  1.731161\n",
        "3    0.3  2.342159\n",
        "4    0.4  8.655804\n",
        "5    0.5  28.51324\n",
        "6    0.6  10.69246\n",
        "7    0.7  10.08147\n",
        "8    0.8  12.01629\n",
        "9    0.9   11.4053\n",
        "10     1  13.64562\n",
        "11   NaN         0\n",
        "12   NaN         0\n"
       ]
      }
     ],
     "prompt_number": 153
    },
    {
     "cell_type": "code",
     "collapsed": false,
     "input": [
      "#bars showing country and region\n",
      "c_and_r = pd.crosstab(mydf.country, mydf.region)\n",
      "c_and_r.sort(columns=('Africa', 'Asia','Central America/ Caribbean'), axis=0, inplace=True)\n",
      "print c_and_r \n",
      "c_and_r.plot(kind='barh', stacked=True, alpha=0.5, figsize=(15,9)) #value in each row will be stacked"
     ],
     "language": "python",
     "metadata": {},
     "outputs": [
      {
       "output_type": "stream",
       "stream": "stdout",
       "text": [
        "region       Africa  Asia  Central America/ Caribbean\n",
        "country                                              \n",
        "Panama            0     0                           2\n",
        "Haiti             0     0                          22\n",
        "Guatemala         0     0                         120\n",
        "Thailand          0     9                           0\n",
        "Philippines       0    12                           0\n",
        "Burma             0    40                           0\n",
        "Nepal             0    89                           0\n",
        "Cambodia          0   185                           0\n",
        "Somaliland        1     0                           0\n",
        "Ghana             2     0                           0\n",
        "Nigeria           3     0                           0\n",
        "Uganda            6     0                           0\n",
        "Mali             19     0                           0\n",
        "Zambia           33     0                           0\n",
        "Malawi           37     0                           0\n",
        "Ethiopia         57     0                           0\n",
        "Tanzania        122     0                           0\n",
        "Kenya           225     0                           0\n"
       ]
      },
      {
       "metadata": {},
       "output_type": "pyout",
       "prompt_number": 150,
       "text": [
        "<matplotlib.axes.AxesSubplot at 0xb8c3fd0>"
       ]
      },
      {
       "metadata": {},
       "output_type": "display_data",
       "png": "[encoded data removed]",
       "text": [
        "<matplotlib.figure.Figure at 0xb2f8950>"
       ]
      }
     ],
     "prompt_number": 150
    },
    {
     "cell_type": "code",
     "collapsed": false,
     "input": [
      "### easier way to get frequencies ##\n",
      "\n",
      "#frequencies of string variables\n",
      "print mydf.region.value_counts(normalize=True) , \"\\n\"\n",
      "print mydf.country.value_counts(normalize=True) , \"\\n\"\n",
      "\n",
      "\n",
      "my_series = mydf.maleness\n",
      "print my_series.value_counts(normalize=True) , \"\\n\" #55% of patients are female\n",
      "print my_series.value_counts(normalize=False), \"\\n\"\n",
      "\n",
      "#also works with numeric variables\n",
      "my_series = mydf.smile_scale\n",
      "print my_series.value_counts(normalize=True) , \"\\n\"\n",
      "print my_series.value_counts(normalize=False), \"\\n\"\n",
      "\n",
      "#also works with numeric variables\n",
      "print \"Number of fund-raising days \\n\"\n",
      "my_series = mydf.funding_days\n",
      "print my_series.value_counts(normalize=True) , \"\\n\"\n",
      "print my_series.value_counts(normalize=False), \"\\n\"\n",
      "print type(my_series.value_counts(normalize=True))\n",
      "#wow -- about half of patients are funded within 3 days\n",
      "\n",
      "#todo: reorder results"
     ],
     "language": "python",
     "metadata": {},
     "outputs": [
      {
       "output_type": "stream",
       "stream": "stdout",
       "text": [
        "Africa                        0.513211\n",
        "Asia                          0.340447\n",
        "Central America/ Caribbean    0.146341\n",
        "dtype: float64 \n",
        "\n",
        "Kenya          0.228659\n",
        "Cambodia       0.188008\n",
        "Tanzania       0.123984\n",
        "Guatemala      0.121951\n",
        "Nepal          0.090447\n",
        "Ethiopia       0.057927\n",
        "Burma          0.040650\n",
        "Malawi         0.037602\n",
        "Zambia         0.033537\n",
        "Haiti          0.022358\n",
        "Mali           0.019309\n",
        "Philippines    0.012195\n",
        "Thailand       0.009146\n",
        "Uganda         0.006098\n",
        "Nigeria        0.003049\n",
        "Ghana          0.002033\n",
        "Panama         0.002033\n",
        "Somaliland     0.001016\n",
        "dtype: float64 \n",
        "\n",
        "0    0.548780\n",
        "1    0.446138\n",
        "dtype: float64 \n",
        "\n",
        "0    540\n",
        "1    439\n",
        "dtype: int64 \n",
        "\n",
        "0.5    0.284553\n",
        "1.0    0.136179\n",
        "0.8    0.119919\n",
        "0.9    0.113821\n",
        "0.6    0.106707\n",
        "0.7    0.100610\n",
        "0.4    0.086382\n",
        "0.3    0.023374\n",
        "0.2    0.017276\n",
        "0.0    0.005081\n",
        "0.1    0.004065\n",
        "dtype: float64 \n",
        "\n",
        "0.5    280\n",
        "1.0    134\n",
        "0.8    118\n",
        "0.9    112\n",
        "0.6    105\n",
        "0.7     99\n",
        "0.4     85\n",
        "0.3     23\n",
        "0.2     17\n",
        "0.0      5\n",
        "0.1      4\n",
        "dtype: int64 \n",
        "\n",
        "Number of fund-raising days \n",
        "\n",
        "1     0.268293\n",
        "2     0.200203\n",
        "4     0.123984\n",
        "3     0.116870\n",
        "5     0.063008\n",
        "7     0.043699\n",
        "6     0.041667\n",
        "8     0.025407\n",
        "10    0.021341\n",
        "9     0.021341\n",
        "12    0.015244\n",
        "11    0.011179\n",
        "16    0.008130\n",
        "14    0.007114\n",
        "13    0.006098\n",
        "15    0.005081\n",
        "17    0.004065\n",
        "18    0.003049\n",
        "23    0.001016\n",
        "19    0.001016\n",
        "20    0.001016\n",
        "21    0.001016\n",
        "22    0.001016\n",
        "25    0.001016\n",
        "dtype: float64 \n",
        "\n",
        "1     264\n",
        "2     197\n",
        "4     122\n",
        "3     115\n",
        "5      62\n",
        "7      43\n",
        "6      41\n",
        "8      25\n",
        "10     21\n",
        "9      21\n",
        "12     15\n",
        "11     11\n",
        "16      8\n",
        "14      7\n",
        "13      6\n",
        "15      5\n",
        "17      4\n",
        "18      3\n",
        "23      1\n",
        "19      1\n",
        "20      1\n",
        "21      1\n",
        "22      1\n",
        "25      1\n",
        "dtype: int64 \n",
        "\n",
        "<class 'pandas.core.series.Series'>\n"
       ]
      }
     ],
     "prompt_number": 152
    },
    {
     "cell_type": "code",
     "collapsed": false,
     "input": [
      "#bar plots of frequencies\n",
      "my_series = mydf.funding_days\n",
      "my_series.value_counts().plot(kind='bar')"
     ],
     "language": "python",
     "metadata": {},
     "outputs": [
      {
       "metadata": {},
       "output_type": "pyout",
       "prompt_number": 137,
       "text": [
        "<matplotlib.axes.AxesSubplot at 0xb6d1950>"
       ]
      },
      {
       "metadata": {},
       "output_type": "display_data",
       "png": "[encoded data removed]",
       "text": [
        "<matplotlib.figure.Figure at 0x96af8d0>"
       ]
      }
     ],
     "prompt_number": 137
    }
   ],
   "metadata": {}
  }
 ]
}