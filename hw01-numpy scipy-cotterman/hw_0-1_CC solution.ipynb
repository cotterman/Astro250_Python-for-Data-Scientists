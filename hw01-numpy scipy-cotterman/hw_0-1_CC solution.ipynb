{
 "metadata": {
  "name": ""
 },
 "nbformat": 3,
 "nbformat_minor": 0,
 "worksheets": [
  {
   "cells": [
    {
     "cell_type": "markdown",
     "metadata": {},
     "source": [
      "## Due Wednesday Sept 11, 2013 @ 5pm ##\n",
      "\n",
      "Send us an email `ucbpythonclass+seminar@gmail.com` (with a tarball of notebook/code/files)\n",
      "\n",
      "## 0-1  Fun with Masked Arrays ##\n",
      "\n",
      "`Numpy` masked arrays provide a way to keep track of elements that are considered \"missing\" or \"bad\". This is extremely useful when performing statistics on such arrays---masked elements should not be included in determining, for example the mean.  Masked arrays are really helpful when combining images too that have known regions of bad or bogus data.\n",
      "\n",
      "Check out the masked array methods and functions here:\n",
      "  http://docs.scipy.org/doc/numpy/reference/routines.ma.html"
     ]
    },
    {
     "cell_type": "markdown",
     "metadata": {},
     "source": [
      "In this exercise you'll use masked arrays to find a hidden word by combining a series of images. Here's two of them (`im1-a.png`):\n",
      "<center>\n",
      "<img src=\"files/hw_0_data/im1-a.png\" width=20%/> &nbsp; <img src=\"files/hw_0_data/im1-b.png\" width=20%/>\n",
      "</center>"
     ]
    },
    {
     "cell_type": "markdown",
     "metadata": {},
     "source": [
      "The black dot and the hidden word are fixed with respect to each other but the light grey area hides a different part of the word in each image. You'll notice that the black dot has moved in each image.\n",
      "\n",
      "A tarball for this question and the next is at:\n",
      "\n",
      "https://www.dropbox.com/s/0clmmvwkoy000d4/homework1_data.tgz"
     ]
    },
    {
     "cell_type": "markdown",
     "metadata": {},
     "source": [
      "1) Using `numpy` tools, find the location of the center of the black dot in all five images (`im1-a.png` through `im1-e.png`) and report those locations as a list of 5 tuples. Note: if you want to display the images you can do something like (in IPython):\n",
      "\n",
      "```python\n",
      "%pylab inline\n",
      "from scipy.ndimage import imread\n",
      "im=imread(\"im1.png\",flatten=True)\n",
      "imshow(im,cmap=cm.Greys)\n",
      "```"
     ]
    },
    {
     "cell_type": "code",
     "collapsed": false,
     "input": [
      "import numpy as np\n",
      "import scipy as sp\n",
      "from scipy import ndimage\n",
      "from scipy import misc"
     ],
     "language": "python",
     "metadata": {},
     "outputs": [],
     "prompt_number": 3
    },
    {
     "cell_type": "code",
     "collapsed": false,
     "input": [
      "%pylab inline\n",
      "from scipy.ndimage import imread\n",
      "dir = \"/home/carolyn/python-seminar/Homeworks/hw_0_cotterman/Data/\""
     ],
     "language": "python",
     "metadata": {},
     "outputs": [
      {
       "output_type": "stream",
       "stream": "stdout",
       "text": [
        "Populating the interactive namespace from numpy and matplotlib\n"
       ]
      }
     ],
     "prompt_number": 2
    },
    {
     "cell_type": "code",
     "collapsed": false,
     "input": [
      "images = [] #place images in this list\n",
      "for myim in [\"a\",\"b\",\"c\",\"d\",\"e\"]:\n",
      "    image = misc.imread(dir+\"im1-\"+myim+\".png\") \n",
      "    images.append(image)\n",
      "print type(images)\n",
      "\n",
      "#I want to find where the pigment is lightest \n",
      "def find_dot(image):  \n",
      "    pigmin = image.min() #pigment at location of dot (unless colors are reversed?)\n",
      "    for x in xrange(image.shape[0]): #xrange works just as well as range but does not generate the list in memory\n",
      "        for y in xrange(image.shape[1]):\n",
      "            if image[x,y,0] == pigmin: \n",
      "                return x, y #will return first pixal meeting criterial (upper-left most)\n",
      "\n",
      "dot_locate = [] #this list will store location of dots\n",
      "for myim in images:\n",
      "    dot_locate.append(find_dot(myim))\n",
      "print dot_locate"
     ],
     "language": "python",
     "metadata": {},
     "outputs": [
      {
       "output_type": "stream",
       "stream": "stdout",
       "text": [
        "<type 'list'>\n",
        "[(71, 144), (71, 195), (66, 134), (76, 128), (76, 118)]\n"
       ]
      }
     ],
     "prompt_number": 7
    },
    {
     "cell_type": "markdown",
     "metadata": {},
     "source": [
      "2) Using the location of the black dot in the first image, find the offset of the other images with respect to the first image. Using `scipy.ndimage.interpolation.shift` perform a shift on the other four images such that they are \"registered\" (aligned) with the first image. That is, make sure that the black dots are all in the same x,y location in the transformed images. Keep those images in `numpy` arrays (for the next part) but also save those images as `.png` files, appropriately named (`im1-b-shift.png`, `im1-c-shift.png`, etc.). Note: you'll need to think a bit about how you treat the edges in the `shift` operation."
     ]
    },
    {
     "cell_type": "code",
     "collapsed": false,
     "input": [
      "#find the offset of the other images with respect to the first image\n",
      "shifts = [] #to contain list of 4 couples\n",
      "for myim in dot_locate[1:]:\n",
      "    xshift = dot_locate[0][0] - myim[0]\n",
      "    yshift = dot_locate[0][1] - myim[1]\n",
      "    shift = (xshift, yshift)\n",
      "    shifts.append(shift)\n",
      "print shifts\n",
      "print shifts[1]\n",
      "print shifts[1][0]"
     ],
     "language": "python",
     "metadata": {},
     "outputs": [
      {
       "output_type": "stream",
       "stream": "stdout",
       "text": [
        "[(0, -51), (5, 10), (-5, 16), (-5, 26)]\n",
        "(5, 10)\n",
        "5\n"
       ]
      }
     ],
     "prompt_number": 8
    },
    {
     "cell_type": "code",
     "collapsed": false,
     "input": [
      "#align the images.  \n",
      "    #save images in numpy arrays (for the next part) \n",
      "    #also save images as .png files, appropriately named (im1-b-shift.png, im1-c-shift.png, etc.)\n",
      "counter = 0\n",
      "shifted_arrays = [] #this will contain the shifted images\n",
      "for label, myim in zip(\"bcde\", images[1:]):\n",
      "    xshift = shifts[counter][0]\n",
      "    yshift = shifts[counter][1]\n",
      "    narray_shift = sp.ndimage.interpolation.shift(input=myim, shift=(xshift, yshift,0) )\n",
      "    shifted_arrays.append(narray_shift)\n",
      "    misc.imsave(dir+\"im1-\"+label+\"-shift.png\", narray_shift)\n",
      "    counter += 1\n",
      "shifted_arrays.append(images[0]) #add the first image so this list contains all 5 images\n",
      "imshow(shifted_arrays[0],cmap=cm.Greys)\n",
      "print shifted_arrays[0].shape"
     ],
     "language": "python",
     "metadata": {},
     "outputs": [
      {
       "output_type": "stream",
       "stream": "stdout",
       "text": [
        "(288, 288, 4)\n"
       ]
      },
      {
       "metadata": {},
       "output_type": "display_data",
       "png": "[encoded data removed]",
       "text": [
        "<matplotlib.figure.Figure at 0x4195b90>"
       ]
      }
     ],
     "prompt_number": 9
    },
    {
     "cell_type": "markdown",
     "metadata": {},
     "source": [
      "3) Mask out the registered images by finding an appropriate `mask` for the grey-level regions making 5 new masked arrays like:\n",
      "```python\n",
      "new_masked_a = ma.masked_array(ima,mask=mask)\n",
      "```\n",
      "Combine the masked arrays using `np.ma.median` to reveal the hidden message."
     ]
    },
    {
     "cell_type": "code",
     "collapsed": false,
     "input": [
      "#create a mask for pixals with value [183 183 183 255] and [0 0 0 255]\n",
      "masked_arrays = []\n",
      "for myarray in shifted_arrays:\n",
      "    mymask = np.zeros(myarray.shape, dtype=int)\n",
      "    for x in xrange(myarray.shape[0]): \n",
      "        for y in xrange(myarray.shape[1]):\n",
      "            if myarray[x,y,0] == 183 or myarray[x,y,0] == 0:\n",
      "                mymask[x,y,] = [1,1,1,1]            \n",
      "    mymasked = np.ma.masked_array(myarray, mask=mymask)\n",
      "    masked_arrays.append(mymasked)"
     ],
     "language": "python",
     "metadata": {},
     "outputs": [
      {
       "output_type": "stream",
       "stream": "stdout",
       "text": [
        "(288, 288, 4)\n"
       ]
      }
     ],
     "prompt_number": 11
    },
    {
     "cell_type": "code",
     "collapsed": false,
     "input": [
      "#Combine the masked arrays using np.ma.median to reveal the hidden message\n",
      "print type(masked_arrays[0])\n",
      "masked_arrays_array = np.ma.masked_array(masked_arrays)\n",
      "print type(masked_arrays_array)\n",
      "print masked_arrays_array.shape\n",
      "\n",
      "combined = array(np.ma.median(masked_arrays_array, axis=0), dtype=uint8)\n",
      "imshow(combined,cmap=cm.Greys) #I think the word is Heisenberg\n",
      "\n",
      "combined2 = array(np.ma.mean(masked_arrays_array, axis=0), dtype=uint8) #this looks better\n",
      "imshow(combined2,cmap=cm.Greys) #The word is Heisenberg!!!!!!!!!!!\n",
      "misc.imsave(dir+'combined_image.png', combined2) #save image as png file"
     ],
     "language": "python",
     "metadata": {},
     "outputs": [
      {
       "output_type": "stream",
       "stream": "stdout",
       "text": [
        "<class 'numpy.ma.core.MaskedArray'>\n",
        "<class 'numpy.ma.core.MaskedArray'>"
       ]
      },
      {
       "output_type": "stream",
       "stream": "stdout",
       "text": [
        "\n",
        "(5, 288, 288, 4)\n"
       ]
      },
      {
       "metadata": {},
       "output_type": "display_data",
       "png": "[encoded data removed]",
       "text": [
        "<matplotlib.figure.Figure at 0x4195b90>"
       ]
      }
     ],
     "prompt_number": 12
    },
    {
     "cell_type": "code",
     "collapsed": false,
     "input": [
      "#(c) Python Seminar UC Berkeley 2013\n",
      "__author__ = \"Carolyn Cotterman\"\n",
      "__email__ = \"cotterman@berkeley.edu\""
     ],
     "language": "python",
     "metadata": {},
     "outputs": [],
     "prompt_number": 4
    }
   ],
   "metadata": {}
  }
 ]
}