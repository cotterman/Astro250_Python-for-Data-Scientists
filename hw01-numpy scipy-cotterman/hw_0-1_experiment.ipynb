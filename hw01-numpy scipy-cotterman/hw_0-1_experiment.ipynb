{
 "metadata": {
  "name": ""
 },
 "nbformat": 3,
 "nbformat_minor": 0,
 "worksheets": [
  {
   "cells": [
    {
     "cell_type": "code",
     "collapsed": false,
     "input": [
      "import numpy as np\n",
      "import scipy as sp\n",
      "from scipy import ndimage"
     ],
     "language": "python",
     "metadata": {},
     "outputs": [],
     "prompt_number": 47
    },
    {
     "cell_type": "code",
     "collapsed": false,
     "input": [
      "pwd"
     ],
     "language": "python",
     "metadata": {},
     "outputs": [
      {
       "metadata": {},
       "output_type": "pyout",
       "prompt_number": 8,
       "text": [
        "u'/home/carolyn/python-seminar/Homeworks/hw_0_cotterman'"
       ]
      }
     ],
     "prompt_number": 8
    },
    {
     "cell_type": "code",
     "collapsed": false,
     "input": [
      "%pylab inline\n",
      "from scipy.ndimage import imread\n",
      "dir = \"/home/carolyn/python-seminar/Homeworks/hw_0_cotterman/Data/\"\n",
      "im=imread(dir+\"im1-a.png\",flatten=True) \n",
      "print im.shape\n",
      "imshow(im,cmap=cm.Greys)"
     ],
     "language": "python",
     "metadata": {},
     "outputs": [
      {
       "output_type": "stream",
       "stream": "stdout",
       "text": [
        "Populating the interactive namespace from numpy and matplotlib\n",
        "(288, 288)\n"
       ]
      },
      {
       "output_type": "stream",
       "stream": "stderr",
       "text": [
        "WARNING: pylab import has clobbered these variables: ['imread']\n",
        "`%pylab --no-import-all` prevents importing * from pylab and numpy\n"
       ]
      },
      {
       "metadata": {},
       "output_type": "pyout",
       "prompt_number": 275,
       "text": [
        "<matplotlib.image.AxesImage at 0x9ee54d0>"
       ]
      },
      {
       "metadata": {},
       "output_type": "display_data",
       "png": "[encoded data removed]",
       "text": [
        "<matplotlib.figure.Figure at 0xb40cb90>"
       ]
      }
     ],
     "prompt_number": 275
    },
    {
     "cell_type": "markdown",
     "metadata": {},
     "source": [
      "1) Using `numpy` tools, find the location of the center of the black dot in all five images (`im1-a.png` through `im1-e.png`) and report those locations as a list of 5 tuples. Note: if you want to display the images you can do something like (in IPython):"
     ]
    },
    {
     "cell_type": "code",
     "collapsed": false,
     "input": [
      "from scipy import misc\n",
      "im1 = misc.imread(dir+\"im1-a.png\")\n",
      "type(im1), im1.shape, im1.dtype"
     ],
     "language": "python",
     "metadata": {},
     "outputs": [
      {
       "metadata": {},
       "output_type": "pyout",
       "prompt_number": 15,
       "text": [
        "(numpy.ndarray, (288, 288, 4), dtype('uint8'))"
       ]
      }
     ],
     "prompt_number": 15
    },
    {
     "cell_type": "code",
     "collapsed": false,
     "input": [
      "print im1[250:251,45:55] #apparently there are 4 integers which determine the pigment (are the first 3 always equal?)"
     ],
     "language": "python",
     "metadata": {},
     "outputs": [
      {
       "output_type": "stream",
       "stream": "stdout",
       "text": [
        "[[[183 183 183 255]\n",
        "  [183 183 183 255]\n",
        "  [183 183 183 255]\n",
        "  [183 183 183 255]\n",
        "  [183 183 183 255]\n",
        "  [156 156 156 255]\n",
        "  [150 150 150 255]\n",
        "  [150 150 150 255]\n",
        "  [150 150 150 255]\n",
        "  [150 150 150 255]]]\n"
       ]
      }
     ],
     "prompt_number": 19
    },
    {
     "cell_type": "code",
     "collapsed": false,
     "input": [
      "print im1.shape[0]"
     ],
     "language": "python",
     "metadata": {},
     "outputs": [
      {
       "output_type": "stream",
       "stream": "stdout",
       "text": [
        "288\n",
        "5\n"
       ]
      }
     ],
     "prompt_number": 21
    },
    {
     "cell_type": "code",
     "collapsed": false,
     "input": [
      "#I want to find where the pigment is lightest \n",
      "def find_dot(image):  \n",
      "    pigmin = image.min() #pigment at location of dot (unless colors are reversed?)\n",
      "    for x in xrange(image.shape[0]): #xrange works just as well as range but does not generate the list in memory\n",
      "        for y in xrange(image.shape[1]):\n",
      "            if image[x,y,0] == pigmin: \n",
      "                return x, y #will return first pixal meeting criterial (upper-left most)\n",
      "print find_dot(im1)"
     ],
     "language": "python",
     "metadata": {},
     "outputs": [
      {
       "output_type": "stream",
       "stream": "stdout",
       "text": [
        "(71, 144)\n"
       ]
      }
     ],
     "prompt_number": 43
    },
    {
     "cell_type": "code",
     "collapsed": false,
     "input": [
      "#Now do this for each of the images (im1-a.png through im1-e.png) and report locations as a list of 5 tuples\n",
      "\n",
      "#read in the images (will create ndarrays called im_a thru im_e)\n",
      "\n",
      "images = [] #place images in this list\n",
      "for myim in [\"a\",\"b\",\"c\",\"d\",\"e\"]:\n",
      "    image = misc.imread(dir+\"im1-\"+myim+\".png\") \n",
      "    images.append(image)\n",
      "print type(images)\n",
      "imshow(im,cmap=cm.Greys)\n",
      "\n",
      "dot_locate = [] #this list will store location of dots\n",
      "for myim in images:\n",
      "    dot_locate.append(find_dot(myim))\n",
      "print dot_locate\n",
      "\n"
     ],
     "language": "python",
     "metadata": {},
     "outputs": [
      {
       "output_type": "stream",
       "stream": "stdout",
       "text": [
        "uint8\n",
        "uint8\n",
        "uint8\n",
        "uint8\n",
        "uint8\n",
        "<type 'list'>\n",
        "[(71, 144), (71, 195), (66, 134), (76, 128), (76, 118)]"
       ]
      },
      {
       "output_type": "stream",
       "stream": "stdout",
       "text": [
        "\n"
       ]
      },
      {
       "metadata": {},
       "output_type": "display_data",
       "png": "[encoded data removed]",
       "text": [
        "<matplotlib.figure.Figure at 0x7b1ff10>"
       ]
      }
     ],
     "prompt_number": 279
    },
    {
     "cell_type": "markdown",
     "metadata": {},
     "source": [
      "2) Using the location of the black dot in the first image, find the offset of the other images with respect to the first image. Using scipy.ndimage.interpolation.shift perform a shift on the other four images such that they are \"registered\" (aligned) with the first image. That is, make sure that the black dots are all in the same x,y location in the transformed images. Keep those images in numpy arrays (for the next part) but also save those images as .png files, appropriately named (im1-b-shift.png, im1-c-shift.png, etc.). Note: you'll need to think a bit about how you treat the edges in the shift operation."
     ]
    },
    {
     "cell_type": "code",
     "collapsed": false,
     "input": [
      "imshow(im,cmap=cm.Greys)"
     ],
     "language": "python",
     "metadata": {},
     "outputs": [
      {
       "metadata": {},
       "output_type": "pyout",
       "prompt_number": 90,
       "text": [
        "<matplotlib.image.AxesImage at 0x3c6c090>"
       ]
      },
      {
       "metadata": {},
       "output_type": "display_data",
       "png": "[encoded data removed]",
       "text": [
        "<matplotlib.figure.Figure at 0x3e58e90>"
       ]
      }
     ],
     "prompt_number": 90
    },
    {
     "cell_type": "code",
     "collapsed": false,
     "input": [
      "#explore how this shift thing works\n",
      "print im.shape\n",
      "im_shift = sp.ndimage.interpolation.shift(input=im, shift=(100,10))\n",
      "imshow(im_shift,cmap=cm.Greys)\n",
      "misc.imsave(dir+'im_shift_exper.png', im_shift)"
     ],
     "language": "python",
     "metadata": {},
     "outputs": [
      {
       "output_type": "stream",
       "stream": "stdout",
       "text": [
        "(288, 288)\n"
       ]
      },
      {
       "metadata": {},
       "output_type": "display_data",
       "png": "[encoded data removed]",
       "text": [
        "<matplotlib.figure.Figure at 0x3e507d0>"
       ]
      }
     ],
     "prompt_number": 89
    },
    {
     "cell_type": "code",
     "collapsed": false,
     "input": [
      "print dot_locate[0]\n",
      "print dot_locate[1]\n",
      "new1 = dot_locate[0][0] - dot_locate[1][0]\n",
      "new2 = dot_locate[0][1] - dot_locate[1][1]\n",
      "new = (new1, new2)\n",
      "print new"
     ],
     "language": "python",
     "metadata": {},
     "outputs": [
      {
       "output_type": "stream",
       "stream": "stdout",
       "text": [
        "(71, 144)\n",
        "(71, 195)\n",
        "(0, -51)\n"
       ]
      }
     ],
     "prompt_number": 62
    },
    {
     "cell_type": "code",
     "collapsed": false,
     "input": [
      "#find the offset of the other images with respect to the first image\n",
      "shifts = [] #to contain list of 4 couples\n",
      "for myim in dot_locate[1:]:\n",
      "    xshift = dot_locate[0][0] - myim[0]\n",
      "    yshift = dot_locate[0][1] - myim[1]\n",
      "    shift = (xshift, yshift)\n",
      "    shifts.append(shift)\n",
      "print shifts\n",
      "print shifts[1]\n",
      "print shifts[1][0]"
     ],
     "language": "python",
     "metadata": {},
     "outputs": [
      {
       "output_type": "stream",
       "stream": "stdout",
       "text": [
        "[(0, -51), (5, 10), (-5, 16), (-5, 26)]\n",
        "(5, 10)\n",
        "5\n"
       ]
      }
     ],
     "prompt_number": 71
    },
    {
     "cell_type": "code",
     "collapsed": false,
     "input": [
      "#align the images.  \n",
      "    #save images in numpy arrays (for the next part) \n",
      "    #also save images as .png files, appropriately named (im1-b-shift.png, im1-c-shift.png, etc.)\n",
      "counter = 0\n",
      "shifted_arrays = [] #this will contain the shifted images\n",
      "for label, myim in zip(\"bcde\", images[1:]):\n",
      "    xshift = shifts[counter][0]\n",
      "    yshift = shifts[counter][1]\n",
      "    narray_shift = sp.ndimage.interpolation.shift(input=myim, shift=(xshift, yshift,0) )\n",
      "    shifted_arrays.append(narray_shift)\n",
      "    misc.imsave(dir+\"im1-\"+label+\"-shift.png\", narray_shift)\n",
      "    counter += 1\n",
      "shifted_arrays.append(images[0]) #add the first image so this list contains all 5 images\n",
      "imshow(shifted_arrays[0],cmap=cm.Greys)\n",
      "print shifted_arrays[0].shape\n",
      "    \n",
      "    "
     ],
     "language": "python",
     "metadata": {},
     "outputs": [
      {
       "output_type": "stream",
       "stream": "stdout",
       "text": [
        "(288, 288, 4)\n"
       ]
      },
      {
       "metadata": {},
       "output_type": "display_data",
       "png": "[encoded data removed]",
       "text": [
        "<matplotlib.figure.Figure at 0x151ccf50>"
       ]
      }
     ],
     "prompt_number": 196
    },
    {
     "cell_type": "markdown",
     "metadata": {},
     "source": [
      "3) Mask out the registered images by finding an appropriate mask for the grey-level regions making 5 new masked arrays like:\n",
      "new_masked_a = ma.masked_array(ima,mask=mask)\n",
      "Combine the masked arrays using np.ma.median to reveal the hidden message."
     ]
    },
    {
     "cell_type": "code",
     "collapsed": false,
     "input": [
      "#find out what the gray scale color is that we wish to mask\n",
      "print shifted_arrays[0][250,50,]\n",
      "#find out what the pixals contain like that are byproduct of shift\n",
      "print shifted_arrays[0][250,250,]import\n",
      "#this should be where the dot is located\n",
      "print shifted_arrays[0][dot_locate[0][0],dot_locate[0][1],]"
     ],
     "language": "python",
     "metadata": {},
     "outputs": [
      {
       "output_type": "stream",
       "stream": "stdout",
       "text": [
        "[183 183 183 255]\n",
        "[0 0 0 0]\n",
        "[  4   4   4 255]\n"
       ]
      }
     ],
     "prompt_number": 197
    },
    {
     "cell_type": "code",
     "collapsed": false,
     "input": [
      "#figure out how masks work\n",
      "emask = [0,1,1,0,0,0] \n",
      "earray = np.array([[1, 2], [3, 4],[5,6]])\n",
      "print earray.shape\n",
      "print type(earray)\n",
      "print earray\n",
      "masked_a = np.ma.masked_array(earray,mask=emask) \n",
      "print masked_a \n",
      "#does this mean I will need a mask of dimension 288*288*4?"
     ],
     "language": "python",
     "metadata": {},
     "outputs": [
      {
       "output_type": "stream",
       "stream": "stdout",
       "text": [
        "(3, 2)\n",
        "<type 'numpy.ndarray'>\n",
        "[[1 2]\n",
        " [3 4]\n",
        " [5 6]]\n",
        "[[1 --]\n",
        " [-- 4]\n",
        " [5 6]]\n"
       ]
      }
     ],
     "prompt_number": 198
    },
    {
     "cell_type": "code",
     "collapsed": false,
     "input": [
      "#figure out how masks work -- see if I can specify to mask the whole duple\n",
      "emask = np.array([[0,1],[0,1],[0,0],[0,1],[0,1],[0,0]], dtype=bool)\n",
      "earray = np.array( [[[1, 2], [3, 4],[5,6]] , [[1, 2], [3, 4],[5,6]]] )\n",
      "print earray.shape\n",
      "print type(earray)\n",
      "print earray\n",
      "masked_a = np.ma.masked_array(earray,mask=emask) \n",
      "print \"Masked_a: \" , masked_a \n",
      "\n",
      "#figure out how the np.ma.median function works\n",
      "print \"Shape: \" , masked_a.shape\n",
      "exp1 = np.ma.median(masked_a, axis=0)\n",
      "print \"median result: \" , type(exp1)\n",
      "print exp1.shape\n",
      "print exp1"
     ],
     "language": "python",
     "metadata": {},
     "outputs": [
      {
       "output_type": "stream",
       "stream": "stdout",
       "text": [
        "(2, 3, 2)\n",
        "<type 'numpy.ndarray'>\n",
        "[[[1 2]\n",
        "  [3 4]\n",
        "  [5 6]]\n",
        "\n",
        " [[1 2]\n",
        "  [3 4]\n",
        "  [5 6]]]\n",
        "Masked_a:  [[[1 --]\n",
        "  [3 --]\n",
        "  [5 6]]\n",
        "\n",
        " [[1 --]\n",
        "  [3 --]\n",
        "  [5 6]]]\n",
        "Shape:  (2, 3, 2)\n",
        "median result:  <class 'numpy.ma.core.MaskedArray'>\n",
        "(3, 2)\n",
        "[[1.0 --]\n",
        " [3.0 --]\n",
        " [5.0 6.0]]\n"
       ]
      }
     ],
     "prompt_number": 163
    },
    {
     "cell_type": "code",
     "collapsed": false,
     "input": [
      "x = np.ma.array(np.arange(8), mask=[0]*4 + [1]*4)\n",
      "print x\n",
      "np.ma.extras.median(x)"
     ],
     "language": "python",
     "metadata": {},
     "outputs": [
      {
       "output_type": "stream",
       "stream": "stdout",
       "text": [
        "[0 1 2 3 -- -- -- --]\n"
       ]
      },
      {
       "metadata": {},
       "output_type": "pyout",
       "prompt_number": 172,
       "text": [
        "1.5"
       ]
      }
     ],
     "prompt_number": 172
    },
    {
     "cell_type": "code",
     "collapsed": false,
     "input": [
      "#create a mask for pixals with value [183 183 183 255] and [0 0 0 255]\n",
      "masked_arrays = []\n",
      "for myarray in shifted_arrays:\n",
      "    mymask = np.zeros(myarray.shape, dtype=int)\n",
      "    for x in xrange(myarray.shape[0]): \n",
      "        for y in xrange(myarray.shape[1]):\n",
      "            if myarray[x,y,0] == 183 or myarray[x,y,0] == 0:\n",
      "                mymask[x,y,] = [1,1,1,1]            \n",
      "    mymasked = np.ma.masked_array(myarray, mask=mymask)\n",
      "    masked_arrays.append(mymasked)\n",
      "print masked_arrays[3].shape\n"
     ],
     "language": "python",
     "metadata": {},
     "outputs": [
      {
       "output_type": "stream",
       "stream": "stdout",
       "text": [
        "(288, 288, 4)\n"
       ]
      }
     ],
     "prompt_number": 207
    },
    {
     "cell_type": "code",
     "collapsed": false,
     "input": [
      "#verify masked arrays look good\n",
      "\n",
      "#should be masked\n",
      "print masked_arrays[0][250,50,]\n",
      "print shifted_arrays[0][250,50,]\n",
      "print masked_arrays[0][250,250]\n",
      "print shifted_arrays[0][250,250]\n",
      "#should not be masked\n",
      "print masked_arrays[0][150,50]\n",
      "print shifted_arrays[0][150,50] #value should match masked_array\n",
      "print masked_arrays[0][250,200] \n",
      "print shifted_arrays[0][250,200] #value should match masked_array\n",
      "print masked_arrays[0][dot_locate[0][0],dot_locate[0][1]]\n",
      "print masked_arrays[1][dot_locate[0][0],dot_locate[0][1]] #should be same as for masked_array, above\n",
      "print masked_arrays[2][dot_locate[0][0],dot_locate[0][1]] #should be same as for masked_array, above\n",
      "print masked_arrays[3][dot_locate[0][0],dot_locate[0][1]] #should be same as for masked_array, above\n",
      "print masked_arrays[4][dot_locate[0][0],dot_locate[0][1]] #should be same as for masked_array, above\n",
      "\n",
      "#view image\n",
      "imshow(masked_arrays[0],cmap=cm.Greys)"
     ],
     "language": "python",
     "metadata": {},
     "outputs": [
      {
       "output_type": "stream",
       "stream": "stdout",
       "text": [
        "[-- -- -- --]\n",
        "[183 183 183 255]\n",
        "[-- -- -- --]\n",
        "[0 0 0 0]\n",
        "[150 150 150 255]\n",
        "[150 150 150 255]\n",
        "[150 150 150 255]\n",
        "[150 150 150 255]\n",
        "[4 4 4 255]\n",
        "[4 4 4 255]\n",
        "[4 4 4 255]\n",
        "[4 4 4 255]\n",
        "[5 5 5 255]\n"
       ]
      },
      {
       "metadata": {},
       "output_type": "pyout",
       "prompt_number": 212,
       "text": [
        "<matplotlib.image.AxesImage at 0x19568410>"
       ]
      },
      {
       "metadata": {},
       "output_type": "display_data",
       "png": "[encoded data removed]",
       "text": [
        "<matplotlib.figure.Figure at 0xf2c9fd0>"
       ]
      }
     ],
     "prompt_number": 212
    },
    {
     "cell_type": "code",
     "collapsed": false,
     "input": [
      "imshow(masked_arrays[1],cmap=cm.Greys)"
     ],
     "language": "python",
     "metadata": {},
     "outputs": [
      {
       "metadata": {},
       "output_type": "pyout",
       "prompt_number": 180,
       "text": [
        "<matplotlib.image.AxesImage at 0x9748c50>"
       ]
      },
      {
       "metadata": {},
       "output_type": "display_data",
       "png": "[encoded data removed]",
       "text": [
        "<matplotlib.figure.Figure at 0x544b3d0>"
       ]
      }
     ],
     "prompt_number": 180
    },
    {
     "cell_type": "code",
     "collapsed": false,
     "input": [
      "imshow(masked_arrays[2],cmap=cm.Greys)"
     ],
     "language": "python",
     "metadata": {},
     "outputs": [
      {
       "metadata": {},
       "output_type": "pyout",
       "prompt_number": 181,
       "text": [
        "<matplotlib.image.AxesImage at 0x151aea50>"
       ]
      },
      {
       "metadata": {},
       "output_type": "display_data",
       "png": "[encoded data removed]",
       "text": [
        "<matplotlib.figure.Figure at 0xe700e10>"
       ]
      }
     ],
     "prompt_number": 181
    },
    {
     "cell_type": "code",
     "collapsed": false,
     "input": [
      "imshow(masked_arrays[3],cmap=cm.Greys)"
     ],
     "language": "python",
     "metadata": {},
     "outputs": [
      {
       "metadata": {},
       "output_type": "pyout",
       "prompt_number": 182,
       "text": [
        "<matplotlib.image.AxesImage at 0x151db850>"
       ]
      },
      {
       "metadata": {},
       "output_type": "display_data",
       "png": "[encoded data removed]",
       "text": [
        "<matplotlib.figure.Figure at 0xe22e2d0>"
       ]
      }
     ],
     "prompt_number": 182
    },
    {
     "cell_type": "code",
     "collapsed": false,
     "input": [
      "imshow(masked_arrays[4],cmap=cm.Greys)"
     ],
     "language": "python",
     "metadata": {},
     "outputs": [
      {
       "metadata": {},
       "output_type": "pyout",
       "prompt_number": 183,
       "text": [
        "<matplotlib.image.AxesImage at 0x14c98650>"
       ]
      },
      {
       "metadata": {},
       "output_type": "display_data",
       "png": "[encoded data removed]",
       "text": [
        "<matplotlib.figure.Figure at 0x97669d0>"
       ]
      }
     ],
     "prompt_number": 183
    },
    {
     "cell_type": "code",
     "collapsed": false,
     "input": [
      "#Combine the masked arrays using np.ma.median to reveal the hidden message\n",
      "print type(masked_arrays[0])\n",
      "masked_arrays_array = np.ma.masked_array(masked_arrays)\n",
      "print type(masked_arrays_array)\n",
      "print masked_arrays_array.shape\n",
      "\n"
     ],
     "language": "python",
     "metadata": {},
     "outputs": [
      {
       "output_type": "stream",
       "stream": "stdout",
       "text": [
        "<class 'numpy.ma.core.MaskedArray'>\n",
        "<class 'numpy.ma.core.MaskedArray'>"
       ]
      },
      {
       "output_type": "stream",
       "stream": "stdout",
       "text": [
        "\n",
        "(5, 288, 288, 4)\n"
       ]
      }
     ],
     "prompt_number": 222
    },
    {
     "cell_type": "code",
     "collapsed": false,
     "input": [
      "combined = array(np.ma.median(masked_arrays_array, axis=0), dtype=uint8)\n",
      "imshow(combined,cmap=cm.Greys) #I think the word is Heisenberg\n"
     ],
     "language": "python",
     "metadata": {},
     "outputs": [
      {
       "metadata": {},
       "output_type": "pyout",
       "prompt_number": 286,
       "text": [
        "<matplotlib.image.AxesImage at 0x12f7bf10>"
       ]
      },
      {
       "metadata": {},
       "output_type": "display_data",
       "png": "[encoded data removed]",
       "text": [
        "<matplotlib.figure.Figure at 0x9eea5d0>"
       ]
      }
     ],
     "prompt_number": 286
    },
    {
     "cell_type": "code",
     "collapsed": false,
     "input": [
      "combined2 = array(np.ma.mean(masked_arrays_array, axis=0), dtype=uint8) #this looks better\n",
      "imshow(combined2,cmap=cm.Greys) #The word is Heisenberg\n",
      "misc.imsave(dir+'combined_image.png', combined2) #save image as png file"
     ],
     "language": "python",
     "metadata": {},
     "outputs": [
      {
       "metadata": {},
       "output_type": "display_data",
       "png": "[encoded data removed]",
       "text": [
        "<matplotlib.figure.Figure at 0x9294990>"
       ]
      }
     ],
     "prompt_number": 288
    }
   ],
   "metadata": {}
  }
 ]
}