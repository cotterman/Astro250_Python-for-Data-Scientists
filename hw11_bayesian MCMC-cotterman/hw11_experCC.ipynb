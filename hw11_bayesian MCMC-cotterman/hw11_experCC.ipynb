{
 "metadata": {
  "name": ""
 },
 "nbformat": 3,
 "nbformat_minor": 0,
 "worksheets": [
  {
   "cells": [
    {
     "cell_type": "code",
     "collapsed": false,
     "input": [
      "import pymc\n",
      "#import numpy as np\n",
      "import pandas as pd\n",
      "#import os\n",
      "%pylab inline"
     ],
     "language": "python",
     "metadata": {},
     "outputs": [
      {
       "output_type": "stream",
       "stream": "stdout",
       "text": [
        "Populating the interactive namespace from numpy and matplotlib\n"
       ]
      }
     ],
     "prompt_number": 34
    },
    {
     "cell_type": "code",
     "collapsed": false,
     "input": [
      "HW11_FOLDER = os.getcwd()\n",
      "DATA_FOLDER = os.path.join(HW11_FOLDER, \"hw_11_data\")\n",
      "print \"HW11_FOLDER: \" , HW11_FOLDER\n",
      "print \"DATA_FOLDER: \" , DATA_FOLDER"
     ],
     "language": "python",
     "metadata": {},
     "outputs": [
      {
       "output_type": "stream",
       "stream": "stdout",
       "text": [
        "HW11_FOLDER:  /home/carolyn/my-python-seminar/hw11_bayesian MCMC-cotterman\n",
        "DATA_FOLDER:  /home/carolyn/my-python-seminar/hw11_bayesian MCMC-cotterman/hw_11_data\n"
       ]
      }
     ],
     "prompt_number": 2
    },
    {
     "cell_type": "code",
     "collapsed": false,
     "input": [
      "aprilD = pd.read_table(DATA_FOLDER + \"/laa_2011_april.txt\", sep = \"\\t\", header=0, index_col=None)"
     ],
     "language": "python",
     "metadata": {},
     "outputs": [],
     "prompt_number": 9
    },
    {
     "cell_type": "code",
     "collapsed": false,
     "input": [
      "plot(aprilD.AB, aprilD.R)"
     ],
     "language": "python",
     "metadata": {},
     "outputs": [
      {
       "metadata": {},
       "output_type": "pyout",
       "prompt_number": 44,
       "text": [
        "[<matplotlib.lines.Line2D at 0x4a78a10>]"
       ]
      },
      {
       "metadata": {},
       "output_type": "display_data",
       "png": "[encoded data removed]",
       "text": [
        "<matplotlib.figure.Figure at 0x4a13850>"
       ]
      }
     ],
     "prompt_number": 44
    },
    {
     "cell_type": "code",
     "collapsed": false,
     "input": [
      "aprilD.columns"
     ],
     "language": "python",
     "metadata": {},
     "outputs": [
      {
       "metadata": {},
       "output_type": "pyout",
       "prompt_number": 4,
       "text": [
        "Index([u'RK', u'Player', u'Team', u'Pos', u'G', u'AB', u'R', u'H', u'2B', u'3B', u'HR', u'RBI', u'BB', u'SO', u'SB', u'CS', u'AVG', u'OBP', u'SLG', u'OPS'], dtype=object)"
       ]
      }
     ],
     "prompt_number": 4
    },
    {
     "cell_type": "code",
     "collapsed": false,
     "input": [
      "aprilD.describe"
     ],
     "language": "python",
     "metadata": {},
     "outputs": [
      {
       "metadata": {},
       "output_type": "pyout",
       "prompt_number": 5,
       "text": [
        "<bound method DataFrame.describe of     RK       Player Team Pos   G   AB   R   H  2B  3B  HR  RBI  BB  SO  SB  \\\n",
        "0    1     Aybar, E  LAA  SS  12   47   3  17   3   0   0    3   0   4   4   \n",
        "1    2   Izturis, M  LAA  3B  20   81   8  25   7   0   2    8   6  14   2   \n",
        "2    3  Kendrick, H  LAA  2B  26  104  19  32   6   1   6   12  11  22   1   \n",
        "3    4  Callaspo, A  LAA  3B  24   89  13  27   3   0   2    8  12  10   0   \n",
        "4    5   Bourjos, P  LAA  CF  26   90  10  27   5   4   2    9   5  28   2   \n",
        "5    6    Conger, H  LAA   C  14   44   6  12   2   0   2    9   3   9   0   \n",
        "6    7     Abreu, B  LAA  RF  25   89  12  23   6   0   1    8  22  21   2   \n",
        "7    8  Amarista, A  LAA  2B   3    8   0   2   1   0   0    3   1   3   0   \n",
        "8    8    Trumbo, M  LAA  3B  23   84  11  21   5   0   4   13   2  21   2   \n",
        "9   10    Hunter, T  LAA  CF  26  103   8  22   2   0   3   11  10  24   1   \n",
        "10  11     Wells, V  LAA  CF  25  105  10  18   2   1   1    6   5  21   0   \n",
        "11  12    Mathis, J  LAA   C  13   46   3   7   3   0   0    4   1  16   0   \n",
        "12  14    Wilson, B  LAA   C   5    8   0   1   0   0   0    0   1   2   0   \n",
        "\n",
        "    CS    AVG    OBP    SLG    OPS  \n",
        "0    0  0.362  0.362  0.426  0.787  \n",
        "1    2  0.309  0.356  0.469  0.825  \n",
        "2    0  0.308  0.385  0.558  0.942  \n",
        "3    0  0.303  0.386  0.404  0.791  \n",
        "4    4  0.300  0.333  0.511  0.844  \n",
        "5    0  0.273  0.333  0.455  0.788  \n",
        "6    1  0.258  0.405  0.360  0.765  \n",
        "7    0  0.250  0.300  0.375  0.675  \n",
        "8    0  0.250  0.276  0.452  0.728  \n",
        "9    0  0.214  0.287  0.320  0.607  \n",
        "10   1  0.171  0.207  0.238  0.445  \n",
        "11   0  0.152  0.167  0.217  0.384  \n",
        "12   0  0.125  0.222  0.125  0.347  >"
       ]
      }
     ],
     "prompt_number": 5
    },
    {
     "cell_type": "code",
     "collapsed": false,
     "input": [
      "aprilD[[\"Player\", \"AVG\"]]"
     ],
     "language": "python",
     "metadata": {},
     "outputs": [
      {
       "html": [
        "<div style=\"max-height:1000px;max-width:1500px;overflow:auto;\">\n",
        "<table border=\"1\" class=\"dataframe\">\n",
        "  <thead>\n",
        "    <tr style=\"text-align: right;\">\n",
        "      <th></th>\n",
        "      <th>Player</th>\n",
        "      <th>AVG</th>\n",
        "    </tr>\n",
        "  </thead>\n",
        "  <tbody>\n",
        "    <tr>\n",
        "      <th>0 </th>\n",
        "      <td>    Aybar, E</td>\n",
        "      <td> 0.362</td>\n",
        "    </tr>\n",
        "    <tr>\n",
        "      <th>1 </th>\n",
        "      <td>  Izturis, M</td>\n",
        "      <td> 0.309</td>\n",
        "    </tr>\n",
        "    <tr>\n",
        "      <th>2 </th>\n",
        "      <td> Kendrick, H</td>\n",
        "      <td> 0.308</td>\n",
        "    </tr>\n",
        "    <tr>\n",
        "      <th>3 </th>\n",
        "      <td> Callaspo, A</td>\n",
        "      <td> 0.303</td>\n",
        "    </tr>\n",
        "    <tr>\n",
        "      <th>4 </th>\n",
        "      <td>  Bourjos, P</td>\n",
        "      <td> 0.300</td>\n",
        "    </tr>\n",
        "    <tr>\n",
        "      <th>5 </th>\n",
        "      <td>   Conger, H</td>\n",
        "      <td> 0.273</td>\n",
        "    </tr>\n",
        "    <tr>\n",
        "      <th>6 </th>\n",
        "      <td>    Abreu, B</td>\n",
        "      <td> 0.258</td>\n",
        "    </tr>\n",
        "    <tr>\n",
        "      <th>7 </th>\n",
        "      <td> Amarista, A</td>\n",
        "      <td> 0.250</td>\n",
        "    </tr>\n",
        "    <tr>\n",
        "      <th>8 </th>\n",
        "      <td>   Trumbo, M</td>\n",
        "      <td> 0.250</td>\n",
        "    </tr>\n",
        "    <tr>\n",
        "      <th>9 </th>\n",
        "      <td>   Hunter, T</td>\n",
        "      <td> 0.214</td>\n",
        "    </tr>\n",
        "    <tr>\n",
        "      <th>10</th>\n",
        "      <td>    Wells, V</td>\n",
        "      <td> 0.171</td>\n",
        "    </tr>\n",
        "    <tr>\n",
        "      <th>11</th>\n",
        "      <td>   Mathis, J</td>\n",
        "      <td> 0.152</td>\n",
        "    </tr>\n",
        "    <tr>\n",
        "      <th>12</th>\n",
        "      <td>   Wilson, B</td>\n",
        "      <td> 0.125</td>\n",
        "    </tr>\n",
        "  </tbody>\n",
        "</table>\n",
        "</div>"
       ],
       "metadata": {},
       "output_type": "pyout",
       "prompt_number": 18,
       "text": [
        "         Player    AVG\n",
        "0      Aybar, E  0.362\n",
        "1    Izturis, M  0.309\n",
        "2   Kendrick, H  0.308\n",
        "3   Callaspo, A  0.303\n",
        "4    Bourjos, P  0.300\n",
        "5     Conger, H  0.273\n",
        "6      Abreu, B  0.258\n",
        "7   Amarista, A  0.250\n",
        "8     Trumbo, M  0.250\n",
        "9     Hunter, T  0.214\n",
        "10     Wells, V  0.171\n",
        "11    Mathis, J  0.152\n",
        "12    Wilson, B  0.125"
       ]
      }
     ],
     "prompt_number": 18
    },
    {
     "cell_type": "code",
     "collapsed": false,
     "input": [
      "fullD = pd.read_table(DATA_FOLDER + \"/laa_2011_full.txt\", sep = \"\\t\", header=0, index_col=None)\n",
      "print fullD.Player\n",
      "print fullD.describe"
     ],
     "language": "python",
     "metadata": {},
     "outputs": [
      {
       "output_type": "stream",
       "stream": "stdout",
       "text": [
        "0     Callaspo, A\n",
        "1     Kendrick, H\n",
        "2        Aybar, E\n",
        "3      Izturis, M\n",
        "4      Bourjos, P\n",
        "5       Hunter, T\n",
        "6       Trumbo, M\n",
        "7        Abreu, B\n",
        "8        Wells, V\n",
        "9       Conger, H\n",
        "10      Wilson, B\n",
        "11      Mathis, J\n",
        "12    Amarista, A\n",
        "Name: Player, dtype: object\n",
        "<bound method DataFrame.describe of     RK       Player Team Pos    G   AB   R    H  2B  3B  HR  RBI  BB   SO  SB  \\\n",
        "0    5  Callaspo, A  LAA  3B  141  475  54  137  23   0   6   46  58   48   8   \n",
        "1    6  Kendrick, H  LAA  2B  140  537  86  153  30   6  18   63  33  119  14   \n",
        "2    7     Aybar, E  LAA  SS  143  556  71  155  33   8  10   59  31   68  30   \n",
        "3    8   Izturis, M  LAA  3B  122  449  51  124  35   0   5   38  33   65   9   \n",
        "4    9   Bourjos, P  LAA  CF  147  502  72  136  26  11  12   43  32  124  22   \n",
        "5   10    Hunter, T  LAA  CF  156  580  80  152  24   2  23   82  62  125   5   \n",
        "6   11    Trumbo, M  LAA  3B  149  539  65  137  31   1  29   87  25  120   9   \n",
        "7   12     Abreu, B  LAA  RF  142  502  54  127  30   1   8   60  78  113  21   \n",
        "8   14     Wells, V  LAA  CF  131  505  60  110  15   4  25   66  20   86   9   \n",
        "9   15    Conger, H  LAA   C   59  177  14   37   8   0   6   19  17   37   0   \n",
        "10  17    Wilson, B  LAA   C   57  111   5   21   8   0   1    8  10   16   0   \n",
        "11  19    Mathis, J  LAA   C   93  247  18   43  12   0   3   22  15   75   1   \n",
        "12  20  Amarista, A  LAA  2B   23   52   2    8   3   1   0    5   2    8   0   \n",
        "\n",
        "    CS    AVG    OBP    SLG    OPS  \n",
        "0    1  0.288  0.366  0.375  0.740  \n",
        "1    6  0.285  0.338  0.464  0.802  \n",
        "2    6  0.279  0.322  0.421  0.743  \n",
        "3    6  0.276  0.334  0.388  0.722  \n",
        "4    9  0.271  0.327  0.438  0.765  \n",
        "5    7  0.262  0.336  0.429  0.765  \n",
        "6    4  0.254  0.291  0.477  0.768  \n",
        "7    5  0.253  0.353  0.365  0.717  \n",
        "8    4  0.218  0.248  0.412  0.660  \n",
        "9    0  0.209  0.282  0.356  0.638  \n",
        "10   2  0.189  0.252  0.288  0.540  \n",
        "11   2  0.174  0.225  0.259  0.484  \n",
        "12   0  0.154  0.182  0.250  0.432  >\n"
       ]
      }
     ],
     "prompt_number": 10
    },
    {
     "cell_type": "code",
     "collapsed": false,
     "input": [
      "import batting_model\n",
      "M = pymc.MCMC(batting_model)\n",
      "my_samples = M.sample(iter=10000, burn=5000, thin=2)"
     ],
     "language": "python",
     "metadata": {},
     "outputs": [
      {
       "output_type": "stream",
       "stream": "stdout",
       "text": [
        " \r",
        "[****************100%******************]  10000 of 10000 complete"
       ]
      },
      {
       "output_type": "stream",
       "stream": "stdout",
       "text": [
        "\n"
       ]
      }
     ],
     "prompt_number": 40
    },
    {
     "cell_type": "code",
     "collapsed": false,
     "input": [
      "print type(M)\n",
      "print type(my_samples)\n",
      "print my_samples"
     ],
     "language": "python",
     "metadata": {},
     "outputs": [
      {
       "output_type": "stream",
       "stream": "stdout",
       "text": [
        "<class 'pymc.MCMC.MCMC'>\n",
        "<type 'NoneType'>\n",
        "None\n"
       ]
      }
     ],
     "prompt_number": 43
    },
    {
     "cell_type": "code",
     "collapsed": false,
     "input": [
      "pymc.Matplot.plot(M)\n",
      "plt.savefig('diagnostics.pdf')"
     ],
     "language": "python",
     "metadata": {},
     "outputs": [
      {
       "metadata": {},
       "output_type": "display_data",
       "text": [
        "<matplotlib.figure.Figure at 0x4a13710>"
       ]
      }
     ],
     "prompt_number": 38
    },
    {
     "cell_type": "code",
     "collapsed": false,
     "input": [
      "# 2. Find the 95% central posterior CI for the family planning coefficient.\n",
      "alpha = 0.05\n",
      "N = len(M.b1.trace[:])\n",
      "sorted_b1_posterior =  np.sort(M.b1.trace[:])\n",
      "\n",
      "print \"Posterior CI for famPlan coeff: (%f, %f)\" % (sorted_b1_posterior[np.ceil(N*alpha/2.)], sorted_b1_posterior[np.ceil(N*(1-alpha/2.))])"
     ],
     "language": "python",
     "metadata": {},
     "outputs": []
    }
   ],
   "metadata": {}
  }
 ]
}