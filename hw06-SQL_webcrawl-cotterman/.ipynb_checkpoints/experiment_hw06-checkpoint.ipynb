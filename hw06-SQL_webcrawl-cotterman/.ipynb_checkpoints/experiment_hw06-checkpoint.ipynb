{
 "metadata": {
  "name": ""
 },
 "nbformat": 3,
 "nbformat_minor": 0,
 "worksheets": [
  {
   "cells": [
    {
     "cell_type": "code",
     "collapsed": false,
     "input": [
      "import sqlite3\n",
      "import numpy\n",
      "import pandas as pd\n",
      "from numpy import loadtxt, array\n",
      "\n",
      "#top_airports.csv contains a list of the 50 most travelled airports in US\n",
      "        #Fields: City,FAA,IATA,ICAO,Airport,Role,Enplanements\n",
      "topair_data = loadtxt(\"hw_6_data/top_airports.csv\", skiprows=1, delimiter=\",\", dtype=str)\n",
      "connection = sqlite3.connect(\"weather.db\")\n",
      "cursor = connection.cursor()\n",
      "\n",
      "sql_cmd = \"\"\"\n",
      "DROP TABLE topair;\n",
      "\"\"\"\n",
      "try: cursor.execute(sql_cmd)\n",
      "except Exception: pass\n",
      "\n",
      "sql_cmd = \"\"\"CREATE TABLE topair (id INTEGER PRIMARY KEY AUTOINCREMENT,\n",
      "    city TEXT, IATA TEXT, airport_name TEXT)\"\"\"\n",
      "cursor.execute(sql_cmd)\n",
      "for airport in topair_data:\n",
      "    airport_city = airport[0]\n",
      "    airport_code = airport[2]\n",
      "    airport_name = airport[4]\n",
      "    data = (airport_city, airport_code, airport_name)\n",
      "    sql_cmd = (\"INSERT INTO topair (city, IATA, airport_name) VALUES \" + str(data))\n",
      "    cursor.execute(sql_cmd)\n",
      "connection.commit()\n",
      "    \n",
      "#test\n",
      "sql_cmd = \"\"\"SELECT city, airport_name FROM topair WHERE IATA == 'LAX' \"\"\"\n",
      "cursor.execute(sql_cmd)\n",
      "db_info = array(cursor.fetchall())\n",
      "print db_info\n",
      "        \n"
     ],
     "language": "python",
     "metadata": {},
     "outputs": [
      {
       "output_type": "stream",
       "stream": "stdout",
       "text": [
        "[[u'Los Angeles' u'Los Angeles International Airport']]\n"
       ]
      }
     ],
     "prompt_number": 97
    },
    {
     "cell_type": "code",
     "collapsed": false,
     "input": [
      "#ICAO_airports.csv (7 Mb) is a list of 43000+ airports with fields:                  \n",
      "        #\"id\",\"ident\",\"type\",\"name\",\"latitude_deg\",\"longitude_deg\",         \n",
      "        #\"elevation_ft\",\"continent\",\"iso_country\",\"iso_region\",\n",
      "        #\"municipality\",\"scheduled_service\",\"gps_code\",\"iata_code\",\n",
      "        #\"local_code\",\"home_link\",\"wikipedia_link\",\"keywords\"\n",
      "#read_csv won't get tripped up by extra #s and commas like loadtxt does\n",
      "airinfo_df = pd.read_csv('hw_6_data/ICAO_airports.csv') \n",
      "connection = sqlite3.connect(\"weather.db\") #in SQLite, this opens up the database\n",
      "cursor = connection.cursor() #begin my transaction\n",
      "\n",
      "#not allowed to make a table that already exists.\n",
      "#so, drop the table if it exists already, otherwise do not throw error.\n",
      "sql_cmd = \"\"\"\n",
      "DROP TABLE airinfo;\n",
      "\"\"\"\n",
      "try: cursor.execute(sql_cmd)\n",
      "except Exception: pass\n",
      "\n",
      "sql_cmd = \"\"\"\n",
      "CREATE TABLE airinfo (\n",
      "    id INTEGER PRIMARY KEY AUTOINCREMENT,\n",
      "    latitude FLOAT, \n",
      "    longitude FLOAT, \n",
      "    elevation FLOAT, \n",
      "    iata_code TEXT\n",
      ");\n",
      "\"\"\"\n",
      "cursor.execute(sql_cmd) #do sql_cmd in my transaction\n",
      "\n",
      "for row in range(airinfo_df.shape[0]):\n",
      "    latitude = float(airinfo_df['latitude_deg'][row])\n",
      "    longitude = float(airinfo_df['longitude_deg'][row])\n",
      "    elevation = float(airinfo_df['elevation_ft'][row])\n",
      "    #continent = str(airinfo_df['continent'][row])\n",
      "    iata_code = str(airinfo_df['iata_code'][row])\n",
      "    #I don't want to throw out observations for which one value is missing, but I get error if I don't\n",
      "    if (pd.notnull(latitude) and pd.notnull(longitude) and pd.notnull(elevation) \n",
      "        and pd.notnull(iata_code)):\n",
      "        data = (latitude, longitude, elevation, iata_code)\n",
      "        sql_cmd = (\"INSERT INTO airinfo (latitude, longitude, elevation, iata_code) VALUES \" + str(data))\n",
      "        cursor.execute(sql_cmd)\n",
      "\n",
      "connection.commit() #commit my transaction (so its visible to others working on database, if applicable)\n",
      "#note: this might not succeed if someone commited btwn the time that I opened transaction and I committed\n",
      "    #not an issue for SQLite since with SQLite, I am the only one working on database\n",
      "\n",
      "#test\n",
      "sql_cmd = \"\"\"SELECT iata_code, latitude, longitude, elevation FROM airinfo WHERE iata_code == 'LAX' \"\"\"\n",
      "cursor.execute(sql_cmd)\n",
      "db_info = array(cursor.fetchall())\n",
      "print db_info"
     ],
     "language": "python",
     "metadata": {},
     "outputs": [
      {
       "output_type": "stream",
       "stream": "stdout",
       "text": [
        "[[u'LAX' u'33.94250107' u'-118.4079971' u'125.0']]\n"
       ]
      }
     ],
     "prompt_number": 98
    },
    {
     "cell_type": "code",
     "collapsed": false,
     "input": [
      "#join the tables together\n",
      "connection = sqlite3.connect(\"weather.db\")\n",
      "cursor = connection.cursor()\n",
      "\n",
      "#it's a waste of space to store all tables\n",
      "#view is a reference to the query that I run which is not stored on disk\n",
      "#disadvantage: it will re-run the query whenever it is referenced \n",
      "    #so could slow things down if the takes a long time to run\n",
      "#note: if underlying data (e.g., topair) changes, then so will the view\n",
      "#another alternative with PostgreSQL: materialized view\n",
      "    #this will save the view on disk\n",
      "    #different from creating table in that the materialized view\n",
      "        #will be updated when underlying tables are updated\n",
      "        \n",
      "sql_cmd = \"\"\"\n",
      "    CREATE VIEW IF NOT EXISTS airports AS \n",
      "    SELECT topair.IATA, topair.city, topair.airport_name, \n",
      "           airinfo.latitude, airinfo.longitude, airinfo.elevation\n",
      "    FROM topair \n",
      "    INNER JOIN airinfo ON topair.IATA = airinfo.iata_code \n",
      "\"\"\"\n",
      "cursor.execute(sql_cmd)\n",
      "\n",
      "#check\n",
      "sql_cmd = \"\"\"\n",
      "    SELECT *\n",
      "    FROM airports LIMIT 10;\n",
      "\"\"\"\n",
      "cursor.execute(sql_cmd)\n",
      "print cursor.fetchall()\n",
      "connection.commit()\n",
      "\n",
      "\n"
     ],
     "language": "python",
     "metadata": {},
     "outputs": [
      {
       "output_type": "stream",
       "stream": "stdout",
       "text": [
        "[(u'ATL', u'Atlanta', u'Hartsfield-Jackson Atlanta International Airport', 33.6366996765137, -84.4281005859375, 1026.0), (u'ORD', u'Chicago', u\"Chicago O'Hare International Airport\", 41.97859955, -87.90480042, 672.0), (u'LAX', u'Los Angeles', u'Los Angeles International Airport', 33.94250107, -118.40799709999999, 125.0), (u'DFW', u'Dallas-Fort Worth', u'Dallas/Fort Worth International Airport', 32.896800994873, -97.0380020141602, 607.0), (u'DEN', u'Denver', u'Denver International Airport', 39.8616981506348, -104.672996520996, 5431.0), (u'JFK', u'New York', u'John F. Kennedy International Airport', 40.63980103, -73.77890015, 13.0), (u'SFO', u'San Francisco', u'San Francisco International Airport', 37.61899948120121, -122.375, 13.0), (u'IAH', u'Houston', u'George Bush Intercontinental Airport', 29.984399795532198, -95.34140014648442, 97.0), (u'LAS', u'Las Vegas', u'McCarran International Airport', 36.08010101, -115.15200039999999, 2181.0), (u'PHX', u'Phoenix', u'Phoenix Sky Harbor International Airport', 33.434299468994105, -112.012001037598, 1135.0)]\n"
       ]
      }
     ],
     "prompt_number": 119
    },
    {
     "cell_type": "code",
     "collapsed": false,
     "input": [
      "sql_cmd = \"\"\"SELECT name FROM sqlite_master\n",
      "    WHERE type='table' OR type='view'\n",
      "    ORDER BY name;\"\"\"\n",
      "\n",
      "#to find out what a database contains:\n",
      "#note: the with syntax is good practice, as it will close the connection\n",
      "    #regardless of whether the code ends prematurely with an error\n",
      "with sqlite3.connect(\"weather.db\") as connection:\n",
      "    cursor = connection.cursor()\n",
      "    cursor.execute(sql_cmd)\n",
      "    db_info = array(cursor.fetchall())\n",
      "    print db_info\n",
      "    cursor.close()"
     ],
     "language": "python",
     "metadata": {},
     "outputs": [
      {
       "output_type": "stream",
       "stream": "stdout",
       "text": [
        "[[u'airinfo']\n",
        " [u'airports']\n",
        " [u'sqlite_sequence']\n",
        " [u'topair']]\n"
       ]
      }
     ],
     "prompt_number": 114
    }
   ],
   "metadata": {}
  }
 ]
}