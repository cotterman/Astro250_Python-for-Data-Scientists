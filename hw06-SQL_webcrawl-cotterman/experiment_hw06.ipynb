{
 "metadata": {
  "name": ""
 },
 "nbformat": 3,
 "nbformat_minor": 0,
 "worksheets": [
  {
   "cells": [
    {
     "cell_type": "code",
     "collapsed": false,
     "input": [
      "import sqlite3\n",
      "from numpy import loadtxt, array, log2\n",
      "\n",
      "station_data = loadtxt(\"stations_list.txt\", skiprows=1, delimiter=\",\", \n",
      "    dtype=str)\n",
      "connection = sqlite3.connect(\":memory:\")\n",
      "cursor = connection.cursor()\n",
      "sql_cmd = \"\"\"CREATE TABLE stations (id INTEGER PRIMARY KEY AUTOINCREMENT,\n",
      "    code TEXT, latitude FLOAT, longitude FLOAT, elevation FLOAT, \n",
      "    network TEXT, status TEXT, name TEXT)\"\"\"\n",
      "cursor.execute(sql_cmd)\n",
      "count = 0\n",
      "for station in station_data:\n",
      "    if (station[0] and station[1] and station[2] and\n",
      "        station[3] and station[4] and station[5] and station[6]):\n",
      "        station_code = station[0]\n",
      "        station_latitude = float(station[1])\n",
      "        station_longitude = float(station[2])\n",
      "        station_elevation = float(station[3])\n",
      "        station_network = station[4]\n",
      "        station_status = station[5]\n",
      "        station_name = station[6]\n",
      "        data = (station_code, station_latitude, station_longitude, \n",
      "            station_elevation, station_network, station_status, station_name)\n",
      "        sql_cmd = (\"INSERT INTO stations (code, latitude, longitude, \" +     \n",
      "            \"elevation, network, status, name) VALUES \" + str(data))\n",
      "        cursor.execute(sql_cmd)"
     ],
     "language": "python",
     "metadata": {},
     "outputs": []
    },
    {
     "cell_type": "code",
     "collapsed": false,
     "input": [
      "import sqlite3\n",
      "import numpy\n",
      "import pandas as pd\n",
      "from numpy import loadtxt, array\n",
      "\n",
      "#top_airports.csv contains a list of the 50 most travelled airports in US\n",
      "        #Fields: City,FAA,IATA,ICAO,Airport,Role,Enplanements\n",
      "topair_data = loadtxt(\"hw_6_data/top_airports.csv\", skiprows=1, delimiter=\",\", dtype=str)\n",
      "connection = sqlite3.connect(\":memory:\")\n",
      "cursor = connection.cursor()\n",
      "sql_cmd = \"\"\"CREATE TABLE topair (id INTEGER PRIMARY KEY AUTOINCREMENT,\n",
      "    city TEXT, IATA TEXT, airport_name TEXT)\"\"\"\n",
      "cursor.execute(sql_cmd)\n",
      "for airport in topair_data:\n",
      "    airport_city = airport[0]\n",
      "    airport_code = airport[2]\n",
      "    airport_name = airport[4]\n",
      "    data = (airport_city, airport_code, airport_name)\n",
      "    sql_cmd = (\"INSERT INTO topair (city, IATA, airport_name) VALUES \" + str(data))\n",
      "    cursor.execute(sql_cmd)\n",
      "\n",
      "#test\n",
      "sql_cmd = \"\"\"SELECT city, airport_name FROM topair WHERE IATA == 'LAX' \"\"\"\n",
      "cursor.execute(sql_cmd)\n",
      "db_info = array(cursor.fetchall())\n",
      "print db_info\n",
      "        \n"
     ],
     "language": "python",
     "metadata": {},
     "outputs": [
      {
       "output_type": "stream",
       "stream": "stdout",
       "text": [
        "[[u'Los Angeles' u'Los Angeles International Airport']]\n"
       ]
      }
     ],
     "prompt_number": 23
    },
    {
     "cell_type": "code",
     "collapsed": false,
     "input": [
      "#ICAO_airports.csv (7 Mb) is a list of 43000+ airports with fields:                  \n",
      "        #\"id\",\"ident\",\"type\",\"name\",\"latitude_deg\",\"longitude_deg\",         \n",
      "        #\"elevation_ft\",\"continent\",\"iso_country\",\"iso_region\",\n",
      "        #\"municipality\",\"scheduled_service\",\"gps_code\",\"iata_code\",\n",
      "        #\"local_code\",\"home_link\",\"wikipedia_link\",\"keywords\"\n",
      "#read_csv won't get tripped up by extra #s and commas like loadtxt does\n",
      "airinfo_df = pd.read_csv('hw_6_data/ICAO_airports.csv') \n",
      "connection = sqlite3.connect(\":memory:\")\n",
      "cursor = connection.cursor()\n",
      "sql_cmd = \"\"\"CREATE TABLE airinfo (id INTEGER PRIMARY KEY AUTOINCREMENT,\n",
      "    latitude FLOAT, longitude FLOAT, elevation FLOAT, iata_code TEXT)\"\"\"\n",
      "cursor.execute(sql_cmd)\n",
      "\n",
      "for row in range(airinfo_df.shape[0]):\n",
      "    latitude = float(airinfo_df['latitude_deg'][row])\n",
      "    longitude = float(airinfo_df['longitude_deg'][row])\n",
      "    elevation = float(airinfo_df['elevation_ft'][row])\n",
      "    #continent = str(airinfo_df['continent'][row])\n",
      "    iata_code = str(airinfo_df['iata_code'][row])\n",
      "    #I don't want to throw out observations for which one value is missing, but I get error if I don't\n",
      "    if (pd.notnull(latitude) and pd.notnull(longitude) and pd.notnull(elevation) \n",
      "        and pd.notnull(iata_code)):\n",
      "        data = (latitude, longitude, elevation, iata_code)\n",
      "        sql_cmd = (\"INSERT INTO airinfo (latitude, longitude, elevation, iata_code) VALUES \" + str(data))\n",
      "        cursor.execute(sql_cmd)\n",
      "\n",
      "#test\n",
      "sql_cmd = \"\"\"SELECT iata_code, latitude, longitude, elevation FROM airinfo WHERE iata_code == 'LAX' \"\"\"\n",
      "cursor.execute(sql_cmd)\n",
      "db_info = array(cursor.fetchall())\n",
      "print db_info"
     ],
     "language": "python",
     "metadata": {},
     "outputs": [
      {
       "output_type": "stream",
       "stream": "stdout",
       "text": [
        "[[u'LAX' u'21148' u'33.94250107' u'-118.4079971' u'125.0']]\n"
       ]
      }
     ],
     "prompt_number": 51
    },
    {
     "cell_type": "code",
     "collapsed": false,
     "input": [],
     "language": "python",
     "metadata": {},
     "outputs": [
      {
       "output_type": "stream",
       "stream": "stdout",
       "text": [
        "<built-in method index of str object at 0x654bee0>\n",
        "<built-in method index of str object at 0x3034d80>\n",
        "<built-in method index of str object at 0x3034d50>\n",
        "<built-in method index of str object at 0x3034de0>\n",
        "<built-in method index of str object at 0x4e4a7a0>\n",
        "<built-in method index of str object at 0x4e4a848>\n",
        "<built-in method index of str object at 0x4e4a810>\n",
        "<built-in method index of str object at 0x3034db0>\n",
        "<built-in method index of str object at 0x3034e40>\n",
        "<built-in method index of str object at 0x3034ed0>\n",
        "<built-in method index of str object at 0x4e4a7d8>\n",
        "<built-in method index of str object at 0x4e4a880>\n",
        "<built-in method index of str object at 0x3034f00>\n",
        "<built-in method index of str object at 0x30348d0>\n",
        "<built-in method index of str object at 0x3034ea0>\n",
        "<built-in method index of str object at 0x3034d20>\n",
        "<built-in method index of str object at 0x4e4a8b8>\n",
        "<built-in method index of str object at 0x3034cf0>\n"
       ]
      }
     ],
     "prompt_number": 32
    }
   ],
   "metadata": {}
  }
 ]
}