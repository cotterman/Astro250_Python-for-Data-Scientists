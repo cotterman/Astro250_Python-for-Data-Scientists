{
 "metadata": {
  "name": ""
 },
 "nbformat": 3,
 "nbformat_minor": 0,
 "worksheets": [
  {
   "cells": [
    {
     "cell_type": "code",
     "collapsed": false,
     "input": [
      "%run talktools.py"
     ],
     "language": "python",
     "metadata": {
      "slideshow": {
       "slide_type": "slide"
      }
     },
     "outputs": []
    },
    {
     "cell_type": "markdown",
     "metadata": {},
     "source": [
      "You should be at least at IPython v0.13 for this. \n",
      "\n",
      "If not:\n",
      "\n",
      "<code bash>\n",
      "conda update conda # if on Continuum\n",
      "conda update ipython\n",
      "sudo enpkg ipython # if on EPD\n",
      "</code>\n",
      "\n",
      "Then fire up the notebook\n",
      "<code>\n",
      "$ cd DataFiles_and_Notebooks/00_AdvancedPythonConcepts/\n",
      "$ ipython notebook\n",
      "</code>"
     ]
    },
    {
     "cell_type": "markdown",
     "metadata": {
      "slideshow": {
       "slide_type": "slide"
      }
     },
     "source": [
      "<center>\n",
      "<p class=\"gap03\"</p>\n",
      "<p class=\"talk_title\">Useful Advanced Concepts</p>\n",
      "<p class=\"gap03\"</p>\n",
      "</center>\n",
      "<ul>\n",
      " <li> ``OrderedDict``\n",
      " <li> building iterators (Classes & generating functions)\n",
      " <li> ``with`` statements (Context managers)\n",
      " <li> decorators\n",
      "</ul>"
     ]
    },
    {
     "cell_type": "markdown",
     "metadata": {
      "slideshow": {
       "slide_type": "slide"
      }
     },
     "source": [
      "## OrderedDict ##\n",
      "\n",
      "not a core type like ``set``, ``dict``, ``list``, ``tuple``...\n",
      "but still very useful."
     ]
    },
    {
     "cell_type": "code",
     "collapsed": false,
     "input": [
      "a = {\"cal\": \"wow\", \"stanford\": \"meh\"}\n",
      "b = {\"stanford\": \"meh\", \"cal\": \"wow\"}"
     ],
     "language": "python",
     "metadata": {
      "slideshow": {
       "slide_type": "fragment"
      }
     },
     "outputs": [],
     "prompt_number": 1
    },
    {
     "cell_type": "code",
     "collapsed": false,
     "input": [
      "a == b"
     ],
     "language": "python",
     "metadata": {
      "slideshow": {
       "slide_type": "fragment"
      }
     },
     "outputs": [
      {
       "metadata": {},
       "output_type": "pyout",
       "prompt_number": 2,
       "text": [
        "True"
       ]
      }
     ],
     "prompt_number": 2
    },
    {
     "cell_type": "code",
     "collapsed": false,
     "input": [
      "for k in a.keys(): print k,\n",
      "print \"\\n\" + \"*\"*10\n",
      "for v in a.values(): print v,\n",
      "print \"\\n\" + \"*\"*10\n",
      "for k, v in a.iteritems(): print k, v"
     ],
     "language": "python",
     "metadata": {
      "slideshow": {
       "slide_type": "fragment"
      }
     },
     "outputs": [
      {
       "output_type": "stream",
       "stream": "stdout",
       "text": [
        "stanford cal \n",
        "**********\n",
        "meh wow \n",
        "**********\n",
        "stanford meh\n",
        "cal wow\n"
       ]
      }
     ],
     "prompt_number": 3
    },
    {
     "cell_type": "code",
     "collapsed": false,
     "input": [
      "from collections import OrderedDict"
     ],
     "language": "python",
     "metadata": {
      "slideshow": {
       "slide_type": "fragment"
      }
     },
     "outputs": [],
     "prompt_number": 4
    },
    {
     "cell_type": "code",
     "collapsed": false,
     "input": [
      "c = OrderedDict()"
     ],
     "language": "python",
     "metadata": {
      "slideshow": {
       "slide_type": "fragment"
      }
     },
     "outputs": [],
     "prompt_number": 5
    },
    {
     "cell_type": "code",
     "collapsed": false,
     "input": [
      "type(c)"
     ],
     "language": "python",
     "metadata": {
      "slideshow": {
       "slide_type": "fragment"
      }
     },
     "outputs": [
      {
       "metadata": {},
       "output_type": "pyout",
       "prompt_number": 6,
       "text": [
        "collections.OrderedDict"
       ]
      }
     ],
     "prompt_number": 6
    },
    {
     "cell_type": "code",
     "collapsed": false,
     "input": [
      "c.update({\"best schools\": \"cal\"})\n",
      "c.update({\"worst schools\": \"you know\"})\n",
      "d = OrderedDict({\"worst schools\": \"you know\"})\n",
      "d.update({\"best schools\": \"cal\"})"
     ],
     "language": "python",
     "metadata": {
      "slideshow": {
       "slide_type": "fragment"
      }
     },
     "outputs": [],
     "prompt_number": 7
    },
    {
     "cell_type": "code",
     "collapsed": false,
     "input": [
      "c == d"
     ],
     "language": "python",
     "metadata": {
      "slideshow": {
       "slide_type": "fragment"
      }
     },
     "outputs": [
      {
       "metadata": {},
       "output_type": "pyout",
       "prompt_number": 8,
       "text": [
        "False"
       ]
      }
     ],
     "prompt_number": 8
    },
    {
     "cell_type": "code",
     "collapsed": false,
     "input": [
      "print c\n",
      "print d"
     ],
     "language": "python",
     "metadata": {
      "slideshow": {
       "slide_type": "fragment"
      }
     },
     "outputs": [
      {
       "output_type": "stream",
       "stream": "stdout",
       "text": [
        "OrderedDict([('best schools', 'cal'), ('worst schools', 'you know')])\n",
        "OrderedDict([('worst schools', 'you know'), ('best schools', 'cal')])\n"
       ]
      }
     ],
     "prompt_number": 9
    },
    {
     "cell_type": "code",
     "collapsed": false,
     "input": [
      "c.popitem()"
     ],
     "language": "python",
     "metadata": {
      "slideshow": {
       "slide_type": "fragment"
      }
     },
     "outputs": [
      {
       "metadata": {},
       "output_type": "pyout",
       "prompt_number": 10,
       "text": [
        "('worst schools', 'you know')"
       ]
      }
     ],
     "prompt_number": 10
    },
    {
     "cell_type": "code",
     "collapsed": false,
     "input": [
      "d.popitem()"
     ],
     "language": "python",
     "metadata": {
      "slideshow": {
       "slide_type": "fragment"
      }
     },
     "outputs": [
      {
       "metadata": {},
       "output_type": "pyout",
       "prompt_number": 11,
       "text": [
        "('best schools', 'cal')"
       ]
      }
     ],
     "prompt_number": 11
    },
    {
     "cell_type": "code",
     "collapsed": false,
     "input": [
      "print \"c=\", c\n",
      "print \"d=\", d"
     ],
     "language": "python",
     "metadata": {
      "slideshow": {
       "slide_type": "fragment"
      }
     },
     "outputs": [
      {
       "output_type": "stream",
       "stream": "stdout",
       "text": [
        "c= OrderedDict([('best schools', 'cal')])\n",
        "d= OrderedDict([('worst schools', 'you know')])\n"
       ]
      }
     ],
     "prompt_number": 12
    },
    {
     "cell_type": "markdown",
     "metadata": {
      "slideshow": {
       "slide_type": "fragment"
      }
     },
     "source": [
      " &nbsp;"
     ]
    },
    {
     "cell_type": "markdown",
     "metadata": {
      "slideshow": {
       "slide_type": "slide"
      }
     },
     "source": [
      "`OrderedDict` has all the same methods as `dict` types but includes the `.popitem()` method (which sort of like doing a `.pop()` on a list without any arguements."
     ]
    },
    {
     "cell_type": "code",
     "collapsed": false,
     "input": [
      "d = OrderedDict() #starts d from scratch\n",
      "d.update({\"best schools\": \"cal\", \"worst schools\": \"you know\"}) #python gives some random ordering to the elements provided\n",
      "e = OrderedDict({\"worst schools\": \"you know\",\"best schools\": \"cal\"})"
     ],
     "language": "python",
     "metadata": {
      "slideshow": {
       "slide_type": "fragment"
      }
     },
     "outputs": [],
     "prompt_number": 13
    },
    {
     "cell_type": "code",
     "collapsed": false,
     "input": [
      "d == e #the internal random ordering was same for when e and d were created"
     ],
     "language": "python",
     "metadata": {
      "slideshow": {
       "slide_type": "fragment"
      }
     },
     "outputs": [
      {
       "metadata": {},
       "output_type": "pyout",
       "prompt_number": 14,
       "text": [
        "True"
       ]
      }
     ],
     "prompt_number": 14
    },
    {
     "cell_type": "markdown",
     "metadata": {
      "slideshow": {
       "slide_type": "fragment"
      }
     },
     "source": [
      " &nbsp;"
     ]
    },
    {
     "cell_type": "markdown",
     "metadata": {
      "slideshow": {
       "slide_type": "slide"
      }
     },
     "source": [
      "\"The `OrderedDict` constructor and `update()` method both accept keyword arguments, but their order is lost because Python\u2019s function call semantics pass-in keyword arguments using a regular unordered dictionary.\"\n",
      "\n",
      "http://docs.python.org/library/collections.html#collections.Counter"
     ]
    },
    {
     "cell_type": "code",
     "collapsed": false,
     "input": [
      "# other ways to update OrderedDict\n",
      "d.update(cal=\"I mean wow\", stanford=\"what's French for 'meh'?\") #using a list with a contructor will give you output in your specified order\n",
      "d.update([(\"Famous Isaacs\",[\"Newton\",\"Hurricane\"])])\n",
      "print d"
     ],
     "language": "python",
     "metadata": {
      "slideshow": {
       "slide_type": "fragment"
      }
     },
     "outputs": []
    },
    {
     "cell_type": "code",
     "collapsed": false,
     "input": [
      "## unlike with a dict, the ordering of each pair in the\n",
      "## iteration is gauranteed across platforms. Hurray!\n",
      "for k,v in d.iteritems():\n",
      "    print k, \"=\", v"
     ],
     "language": "python",
     "metadata": {
      "slideshow": {
       "slide_type": "fragment"
      }
     },
     "outputs": []
    },
    {
     "cell_type": "markdown",
     "metadata": {
      "slideshow": {
       "slide_type": "fragment"
      }
     },
     "source": [
      " &nbsp;"
     ]
    },
    {
     "cell_type": "markdown",
     "metadata": {
      "slideshow": {
       "slide_type": "slide"
      }
     },
     "source": [
      "# Making Iterables #\n",
      "\n",
      "<center>Python can loop over many different types</center>"
     ]
    },
    {
     "cell_type": "markdown",
     "metadata": {
      "slideshow": {
       "slide_type": "fragment"
      }
     },
     "source": [
      "\n",
      "    >>> for element in [1, 2, 3]:\n",
      "        print element, \n",
      "    1 2 3\n",
      "    >>> for element in (1, 2, 3):\n",
      "        print element\n",
      "    1 2 3\n",
      "    >>> for key in {'one':1, 'two':2}:\n",
      "        print key, \n",
      "    one two\n",
      "    >>> for char in \"123\":\n",
      "        print char,\n",
      "    1 2 3\n",
      "    >>> for a in {4,1,3,4,2}: #yep --- a set is iterable\n",
      "        print a,   \n",
      "    1 2 3 4 #not guarenteed to be sorted like this --- could be arbitrary ordering\n",
      "    >>> print {4,1,3,4,2,\"a\",0j}\n",
      "        set([0j, 'a', 2, 3, 4, 1])"
     ]
    },
    {
     "cell_type": "markdown",
     "metadata": {
      "slideshow": {
       "slide_type": "fragment"
      }
     },
     "source": [
      " &nbsp;"
     ]
    },
    {
     "cell_type": "markdown",
     "metadata": {
      "slideshow": {
       "slide_type": "slide"
      }
     },
     "source": [
      "# Making Iterables #\n",
      "<center> Each of those above types have built-in methods.\n",
      "So do, even, `file` objects: </center>"
     ]
    },
    {
     "cell_type": "code",
     "collapsed": false,
     "input": [
      "for l in open(\"password.file\",\"r\"):\n",
      "    print l,"
     ],
     "language": "python",
     "metadata": {
      "slideshow": {
       "slide_type": "fragment"
      }
     },
     "outputs": [
      {
       "ename": "IOError",
       "evalue": "[Errno 2] No such file or directory: 'password.file'",
       "output_type": "pyerr",
       "traceback": [
        "\u001b[1;31m---------------------------------------------------------------------------\u001b[0m\n\u001b[1;31mIOError\u001b[0m                                   Traceback (most recent call last)",
        "\u001b[1;32m<ipython-input-15-a046914b91ef>\u001b[0m in \u001b[0;36m<module>\u001b[1;34m()\u001b[0m\n\u001b[1;32m----> 1\u001b[1;33m \u001b[1;32mfor\u001b[0m \u001b[0ml\u001b[0m \u001b[1;32min\u001b[0m \u001b[0mopen\u001b[0m\u001b[1;33m(\u001b[0m\u001b[1;34m\"password.file\"\u001b[0m\u001b[1;33m,\u001b[0m\u001b[1;34m\"r\"\u001b[0m\u001b[1;33m)\u001b[0m\u001b[1;33m:\u001b[0m\u001b[1;33m\u001b[0m\u001b[0m\n\u001b[0m\u001b[0;32m      2\u001b[0m     \u001b[1;32mprint\u001b[0m \u001b[0ml\u001b[0m\u001b[1;33m,\u001b[0m\u001b[1;33m\u001b[0m\u001b[0m\n",
        "\u001b[1;31mIOError\u001b[0m: [Errno 2] No such file or directory: 'password.file'"
       ]
      }
     ],
     "prompt_number": 15
    },
    {
     "cell_type": "code",
     "collapsed": false,
     "input": [
      "a = [\"dog\",\"cat\",\"cheezeberger\"]"
     ],
     "language": "python",
     "metadata": {
      "slideshow": {
       "slide_type": "fragment"
      }
     },
     "outputs": [],
     "prompt_number": 16
    },
    {
     "cell_type": "code",
     "collapsed": false,
     "input": [
      "# this is what is actually getting call by the for call\n",
      "# for x in a: ...\n",
      "b = iter(a)"
     ],
     "language": "python",
     "metadata": {
      "slideshow": {
       "slide_type": "fragment"
      }
     },
     "outputs": [],
     "prompt_number": 17
    },
    {
     "cell_type": "code",
     "collapsed": false,
     "input": [
      "b"
     ],
     "language": "python",
     "metadata": {
      "slideshow": {
       "slide_type": "fragment"
      }
     },
     "outputs": [
      {
       "metadata": {},
       "output_type": "pyout",
       "prompt_number": 18,
       "text": [
        "<listiterator at 0x2573e90>"
       ]
      }
     ],
     "prompt_number": 18
    },
    {
     "cell_type": "code",
     "collapsed": false,
     "input": [
      "b.next()"
     ],
     "language": "python",
     "metadata": {
      "slideshow": {
       "slide_type": "fragment"
      }
     },
     "outputs": [
      {
       "metadata": {},
       "output_type": "pyout",
       "prompt_number": 19,
       "text": [
        "'dog'"
       ]
      }
     ],
     "prompt_number": 19
    },
    {
     "cell_type": "code",
     "collapsed": false,
     "input": [
      "b.next()"
     ],
     "language": "python",
     "metadata": {
      "slideshow": {
       "slide_type": "fragment"
      }
     },
     "outputs": [
      {
       "metadata": {},
       "output_type": "pyout",
       "prompt_number": 20,
       "text": [
        "'cat'"
       ]
      }
     ],
     "prompt_number": 20
    },
    {
     "cell_type": "code",
     "collapsed": false,
     "input": [
      "b.next()"
     ],
     "language": "python",
     "metadata": {
      "slideshow": {
       "slide_type": "fragment"
      }
     },
     "outputs": [
      {
       "metadata": {},
       "output_type": "pyout",
       "prompt_number": 21,
       "text": [
        "'cheezeberger'"
       ]
      }
     ],
     "prompt_number": 21
    },
    {
     "cell_type": "code",
     "collapsed": false,
     "input": [
      "b.next()"
     ],
     "language": "python",
     "metadata": {
      "slideshow": {
       "slide_type": "fragment"
      }
     },
     "outputs": [
      {
       "ename": "StopIteration",
       "evalue": "",
       "output_type": "pyerr",
       "traceback": [
        "\u001b[1;31m---------------------------------------------------------------------------\u001b[0m\n\u001b[1;31mStopIteration\u001b[0m                             Traceback (most recent call last)",
        "\u001b[1;32m<ipython-input-22-573a563d926b>\u001b[0m in \u001b[0;36m<module>\u001b[1;34m()\u001b[0m\n\u001b[1;32m----> 1\u001b[1;33m \u001b[0mb\u001b[0m\u001b[1;33m.\u001b[0m\u001b[0mnext\u001b[0m\u001b[1;33m(\u001b[0m\u001b[1;33m)\u001b[0m\u001b[1;33m\u001b[0m\u001b[0m\n\u001b[0m",
        "\u001b[1;31mStopIteration\u001b[0m: "
       ]
      }
     ],
     "prompt_number": 22
    },
    {
     "cell_type": "markdown",
     "metadata": {
      "slideshow": {
       "slide_type": "fragment"
      }
     },
     "source": [
      " &nbsp;"
     ]
    },
    {
     "cell_type": "markdown",
     "metadata": {
      "slideshow": {
       "slide_type": "slide"
      }
     },
     "source": [
      "# Making Iterables #\n",
      "\n",
      "<p class=\"gap05\"</p>\n",
      "\n",
      "We can make classes that know how to iterate, becoming new iterables types. The key is to build to special methods: ``.__iter__()`` and ``.next()``\n",
      "\n",
      "<p class=\"gap03\"</p>\n",
      "\n",
      " * `.__iter__()` : return an iterator object (usually just self) \n",
      " \n",
      " * `.next()` : return the next element in the iterator. raise a `StopIteration` exception if there is nothing left\n",
      " \n",
      "<p class=\"gap05\"</p>\n",
      "\n",
      " http://docs.python.org/library/stdtypes.html#typeiter"
     ]
    },
    {
     "cell_type": "code",
     "collapsed": false,
     "input": [
      "%%file myits1.py\n",
      "\n",
      "\"\"\" let's make an iterator \"\"\"\n",
      "class Reverse(object):\n",
      "     \"Iterator class for looping over a sequence backwards\"\n",
      "     def __init__(self, data):\n",
      "        self.data = data\n",
      "        self.index = len(data)\n",
      "\n",
      "     def __iter__(self):\n",
      "        # this is a required of an iterating class\n",
      "        return self\n",
      "\n",
      "     def next(self):\n",
      "        # we got to the front of the array\n",
      "        if self.index == 0:\n",
      "            raise StopIteration\n",
      "        self.index = self.index - 1\n",
      "        return self.data[self.index]"
     ],
     "language": "python",
     "metadata": {
      "slideshow": {
       "slide_type": "slide"
      }
     },
     "outputs": [
      {
       "output_type": "stream",
       "stream": "stdout",
       "text": [
        "Writing myits1.py\n"
       ]
      }
     ],
     "prompt_number": 23
    },
    {
     "cell_type": "code",
     "collapsed": false,
     "input": [
      "%run myits1"
     ],
     "language": "python",
     "metadata": {
      "slideshow": {
       "slide_type": "fragment"
      }
     },
     "outputs": [],
     "prompt_number": 42
    },
    {
     "cell_type": "code",
     "collapsed": false,
     "input": [
      "r = Reverse(\"god\")\n",
      "print r"
     ],
     "language": "python",
     "metadata": {
      "slideshow": {
       "slide_type": "fragment"
      }
     },
     "outputs": [
      {
       "output_type": "stream",
       "stream": "stdout",
       "text": [
        "<__main__.Reverse object at 0x2627290>\n"
       ]
      }
     ],
     "prompt_number": 43
    },
    {
     "cell_type": "code",
     "collapsed": false,
     "input": [
      "for c in r: print c,"
     ],
     "language": "python",
     "metadata": {
      "slideshow": {
       "slide_type": "fragment"
      }
     },
     "outputs": [
      {
       "output_type": "stream",
       "stream": "stdout",
       "text": [
        "d o g\n"
       ]
      }
     ],
     "prompt_number": 44
    },
    {
     "cell_type": "code",
     "collapsed": false,
     "input": [
      "r.next()"
     ],
     "language": "python",
     "metadata": {
      "slideshow": {
       "slide_type": "fragment"
      }
     },
     "outputs": [
      {
       "ename": "StopIteration",
       "evalue": "",
       "output_type": "pyerr",
       "traceback": [
        "\u001b[1;31m---------------------------------------------------------------------------\u001b[0m\n\u001b[1;31mStopIteration\u001b[0m                             Traceback (most recent call last)",
        "\u001b[1;32m<ipython-input-45-8d25240d5a85>\u001b[0m in \u001b[0;36m<module>\u001b[1;34m()\u001b[0m\n\u001b[1;32m----> 1\u001b[1;33m \u001b[0mr\u001b[0m\u001b[1;33m.\u001b[0m\u001b[0mnext\u001b[0m\u001b[1;33m(\u001b[0m\u001b[1;33m)\u001b[0m\u001b[1;33m\u001b[0m\u001b[0m\n\u001b[0m",
        "\u001b[1;32m/home/carolyn/Dropbox/Python Course/myits1.py\u001b[0m in \u001b[0;36mnext\u001b[1;34m(self)\u001b[0m\n\u001b[0;32m     14\u001b[0m         \u001b[1;31m# we got to the front of the array\u001b[0m\u001b[1;33m\u001b[0m\u001b[1;33m\u001b[0m\u001b[0m\n\u001b[0;32m     15\u001b[0m         \u001b[1;32mif\u001b[0m \u001b[0mself\u001b[0m\u001b[1;33m.\u001b[0m\u001b[0mindex\u001b[0m \u001b[1;33m==\u001b[0m \u001b[1;36m0\u001b[0m\u001b[1;33m:\u001b[0m\u001b[1;33m\u001b[0m\u001b[0m\n\u001b[1;32m---> 16\u001b[1;33m             \u001b[1;32mraise\u001b[0m \u001b[0mStopIteration\u001b[0m\u001b[1;33m\u001b[0m\u001b[0m\n\u001b[0m\u001b[0;32m     17\u001b[0m         \u001b[0mself\u001b[0m\u001b[1;33m.\u001b[0m\u001b[0mindex\u001b[0m \u001b[1;33m=\u001b[0m \u001b[0mself\u001b[0m\u001b[1;33m.\u001b[0m\u001b[0mindex\u001b[0m \u001b[1;33m-\u001b[0m \u001b[1;36m1\u001b[0m\u001b[1;33m\u001b[0m\u001b[0m\n\u001b[0;32m     18\u001b[0m         \u001b[1;32mreturn\u001b[0m \u001b[0mself\u001b[0m\u001b[1;33m.\u001b[0m\u001b[0mdata\u001b[0m\u001b[1;33m[\u001b[0m\u001b[0mself\u001b[0m\u001b[1;33m.\u001b[0m\u001b[0mindex\u001b[0m\u001b[1;33m]\u001b[0m\u001b[1;33m\u001b[0m\u001b[0m\n",
        "\u001b[1;31mStopIteration\u001b[0m: "
       ]
      }
     ],
     "prompt_number": 45
    },
    {
     "cell_type": "code",
     "collapsed": false,
     "input": [
      "r = Reverse(\"rats live on no evil star\")\n",
      "for c in r: print c,"
     ],
     "language": "python",
     "metadata": {
      "slideshow": {
       "slide_type": "fragment"
      }
     },
     "outputs": [
      {
       "output_type": "stream",
       "stream": "stdout",
       "text": [
        "r a t s   l i v e   o n   n o   e v i l   s t a r\n"
       ]
      }
     ],
     "prompt_number": 46
    },
    {
     "cell_type": "markdown",
     "metadata": {
      "slideshow": {
       "slide_type": "fragment"
      }
     },
     "source": [
      " &nbsp;"
     ]
    },
    {
     "cell_type": "markdown",
     "metadata": {
      "slideshow": {
       "slide_type": "slide"
      }
     },
     "source": [
      "# Generators #\n",
      "\n",
      "<p class=\"gap03\"</p>\n",
      "Create a ``generator`` object, something that is iterable:\n",
      "<p class=\"gap03\"</p>\n",
      "\n",
      "> e.g., (x**2 for x in xrange(3)\n",
      "\n",
      "<p class=\"gap03\"</p>\n",
      "Like list comprehension [] and set comprehension {}"
     ]
    },
    {
     "cell_type": "code",
     "collapsed": false,
     "input": [
      "(x**2 for x in xrange(3))\n",
      "#or, if you wanted a dictionary:\n",
      "#dict{(x,x**2),.......?"
     ],
     "language": "python",
     "metadata": {
      "slideshow": {
       "slide_type": "fragment"
      }
     },
     "outputs": [
      {
       "metadata": {},
       "output_type": "pyout",
       "prompt_number": 25,
       "text": [
        "<generator object <genexpr> at 0x261e8c0>"
       ]
      }
     ],
     "prompt_number": 25
    },
    {
     "cell_type": "code",
     "collapsed": false,
     "input": [
      "for i in  (x**2 for x in xrange(3)):\n",
      "    print i"
     ],
     "language": "python",
     "metadata": {
      "slideshow": {
       "slide_type": "fragment"
      }
     },
     "outputs": [
      {
       "output_type": "stream",
       "stream": "stdout",
       "text": [
        "0\n",
        "1\n",
        "4\n"
       ]
      }
     ],
     "prompt_number": 26
    },
    {
     "cell_type": "markdown",
     "metadata": {
      "slideshow": {
       "slide_type": "fragment"
      }
     },
     "source": [
      " &nbsp;"
     ]
    },
    {
     "cell_type": "markdown",
     "metadata": {
      "slideshow": {
       "slide_type": "slide"
      }
     },
     "source": [
      "# Making Generators #\n",
      "\n",
      "<p class=\"gap03\"</p>\n",
      "we can also make iterables using generating functions\n",
      "<p class=\"gap03\"</p>\n",
      "\n",
      "<font color=\"red\"><b>yield</b></font> inside of a function acts like a \"temporary return\" but saves the entire state of the local variables for further use"
     ]
    },
    {
     "cell_type": "code",
     "collapsed": false,
     "input": [
      "%%file myits2.py\n",
      "\n",
      "def countdown(start,end=0,step=1.0):\n",
      "     i = start\n",
      "     while (i >= end) or end == None:\n",
      "          yield i\n",
      "          i -= step"
     ],
     "language": "python",
     "metadata": {
      "slideshow": {
       "slide_type": "fragment"
      }
     },
     "outputs": [
      {
       "output_type": "stream",
       "stream": "stdout",
       "text": [
        "Writing myits2.py\n"
       ]
      }
     ],
     "prompt_number": 27
    },
    {
     "cell_type": "markdown",
     "metadata": {
      "slideshow": {
       "slide_type": "-"
      }
     },
     "source": [
      "when the function stops yielding, `StopIteration` is raised (implicitly)"
     ]
    },
    {
     "cell_type": "code",
     "collapsed": false,
     "input": [
      "%run myits2"
     ],
     "language": "python",
     "metadata": {
      "slideshow": {
       "slide_type": "fragment"
      }
     },
     "outputs": [],
     "prompt_number": 28
    },
    {
     "cell_type": "code",
     "collapsed": false,
     "input": [
      "c = countdown(1)"
     ],
     "language": "python",
     "metadata": {
      "slideshow": {
       "slide_type": "fragment"
      }
     },
     "outputs": [],
     "prompt_number": 29
    },
    {
     "cell_type": "code",
     "collapsed": false,
     "input": [
      "c"
     ],
     "language": "python",
     "metadata": {
      "slideshow": {
       "slide_type": "fragment"
      }
     },
     "outputs": [
      {
       "metadata": {},
       "output_type": "pyout",
       "prompt_number": 30,
       "text": [
        "<generator object countdown at 0x261e870>"
       ]
      }
     ],
     "prompt_number": 30
    },
    {
     "cell_type": "code",
     "collapsed": false,
     "input": [
      "c.next()"
     ],
     "language": "python",
     "metadata": {
      "slideshow": {
       "slide_type": "fragment"
      }
     },
     "outputs": [
      {
       "metadata": {},
       "output_type": "pyout",
       "prompt_number": 31,
       "text": [
        "1"
       ]
      }
     ],
     "prompt_number": 31
    },
    {
     "cell_type": "code",
     "collapsed": false,
     "input": [
      "c.next()"
     ],
     "language": "python",
     "metadata": {
      "slideshow": {
       "slide_type": "fragment"
      }
     },
     "outputs": []
    },
    {
     "cell_type": "code",
     "collapsed": false,
     "input": [
      "c.next()"
     ],
     "language": "python",
     "metadata": {
      "slideshow": {
       "slide_type": "fragment"
      }
     },
     "outputs": []
    },
    {
     "cell_type": "markdown",
     "metadata": {
      "slideshow": {
       "slide_type": "fragment"
      }
     },
     "source": [
      "http://stackoverflow.com/questions/231767/the-python-yield-keyword-explained"
     ]
    },
    {
     "cell_type": "markdown",
     "metadata": {
      "slideshow": {
       "slide_type": "fragment"
      }
     },
     "source": [
      " &nbsp;"
     ]
    },
    {
     "cell_type": "markdown",
     "metadata": {
      "slideshow": {
       "slide_type": "slide"
      }
     },
     "source": [
      "# Example: Fibonacci sequence #\n",
      "\n",
      "$$\n",
      "F(n) = \\left\\{ \\begin{array}{rl}\n",
      "  0 &\\mbox{ if $n=0$} \\\\\n",
      "  1 &\\mbox{ if $n=1$} \\\\\n",
      "  F(n -1) + F(n -2) & \\mbox{ if $n >1$}\n",
      "       \\end{array} \\right.\n",
      "$$\n",
      "\n",
      "output: 0, 1, 1, 2, 3, 5, 8, 13, 21, ..."
     ]
    },
    {
     "cell_type": "code",
     "collapsed": false,
     "input": [
      "%%file myits3.py\n",
      "\n",
      "def fib(start=0,end=None):\n",
      "    a = long(start)\n",
      "    b = start + 1L\n",
      "    while 1 and ((a < end) or (end is None)): #this \"1 and\" is not necessary since that will always be true\n",
      "        yield a\n",
      "        a, b = b, a + b"
     ],
     "language": "python",
     "metadata": {
      "slideshow": {
       "slide_type": "fragment"
      }
     },
     "outputs": [
      {
       "output_type": "stream",
       "stream": "stdout",
       "text": [
        "Overwriting myits3.py\n"
       ]
      }
     ],
     "prompt_number": 59
    },
    {
     "cell_type": "code",
     "collapsed": false,
     "input": [
      "%run myits3\n",
      "a = fib()\n",
      "print a\n",
      "for i in range(10): print a.next(),"
     ],
     "language": "python",
     "metadata": {
      "slideshow": {
       "slide_type": "fragment"
      }
     },
     "outputs": [
      {
       "output_type": "stream",
       "stream": "stdout",
       "text": [
        "<generator object fib at 0x261e9b0>\n",
        "0 1 1 2 3 5 8 13 21 34\n"
       ]
      }
     ],
     "prompt_number": 60
    },
    {
     "cell_type": "code",
     "collapsed": false,
     "input": [
      "%%file myits4.py\n",
      "\n",
      "def fib1(start=0,end=None,maxnum=100):\n",
      "    \"\"\"\n",
      "another yield example, allowing the user to start their own fibbinoci sequence at\n",
      "start (default is 0)\n",
      "    \"\"\"\n",
      "    a = long(start)\n",
      "    b = start + 1L\n",
      "    n_yielded = 0\n",
      "    while (n_yielded < maxnum or maxnum is None) and ((end is None) or (abs(a) < abs(end))):\n",
      "        \"abs needed to control against silly user starting with a negative number\"\n",
      "        yield a\n",
      "        n_yielded += 1\n",
      "        a, b = b, a + b\n",
      "    \n",
      "    # if we got here then we are returning instead of yielding. The countdown is finished\n",
      "    # we could raise a StopException excception here...this is done for us implicitly"
     ],
     "language": "python",
     "metadata": {
      "slideshow": {
       "slide_type": "fragment"
      }
     },
     "outputs": [
      {
       "output_type": "stream",
       "stream": "stdout",
       "text": [
        "Overwriting myits4.py\n"
       ]
      }
     ],
     "prompt_number": 37
    },
    {
     "cell_type": "code",
     "collapsed": false,
     "input": [
      "%run myits4\n",
      "for e in fib1(start=-1,end=10000,maxnum=4): print e,"
     ],
     "language": "python",
     "metadata": {
      "slideshow": {
       "slide_type": "fragment"
      }
     },
     "outputs": [
      {
       "output_type": "stream",
       "stream": "stdout",
       "text": [
        "-1 0 -1 -1\n"
       ]
      }
     ],
     "prompt_number": 38
    },
    {
     "cell_type": "code",
     "collapsed": false,
     "input": [
      "b = fib1(start=1,end=10000,maxnum=2)\n",
      "b.next()"
     ],
     "language": "python",
     "metadata": {
      "slideshow": {
       "slide_type": "fragment"
      }
     },
     "outputs": [
      {
       "metadata": {},
       "output_type": "pyout",
       "prompt_number": 39,
       "text": [
        "1L"
       ]
      }
     ],
     "prompt_number": 39
    },
    {
     "cell_type": "code",
     "collapsed": false,
     "input": [
      "b.next()"
     ],
     "language": "python",
     "metadata": {
      "slideshow": {
       "slide_type": "fragment"
      }
     },
     "outputs": [
      {
       "metadata": {},
       "output_type": "pyout",
       "prompt_number": 40,
       "text": [
        "2L"
       ]
      }
     ],
     "prompt_number": 40
    },
    {
     "cell_type": "code",
     "collapsed": false,
     "input": [
      "b.next()"
     ],
     "language": "python",
     "metadata": {
      "slideshow": {
       "slide_type": "fragment"
      }
     },
     "outputs": [
      {
       "ename": "StopIteration",
       "evalue": "",
       "output_type": "pyerr",
       "traceback": [
        "\u001b[1;31m---------------------------------------------------------------------------\u001b[0m\n\u001b[1;31mStopIteration\u001b[0m                             Traceback (most recent call last)",
        "\u001b[1;32m<ipython-input-41-573a563d926b>\u001b[0m in \u001b[0;36m<module>\u001b[1;34m()\u001b[0m\n\u001b[1;32m----> 1\u001b[1;33m \u001b[0mb\u001b[0m\u001b[1;33m.\u001b[0m\u001b[0mnext\u001b[0m\u001b[1;33m(\u001b[0m\u001b[1;33m)\u001b[0m\u001b[1;33m\u001b[0m\u001b[0m\n\u001b[0m",
        "\u001b[1;31mStopIteration\u001b[0m: "
       ]
      }
     ],
     "prompt_number": 41
    },
    {
     "cell_type": "markdown",
     "metadata": {
      "slideshow": {
       "slide_type": "fragment"
      }
     },
     "source": [
      " &nbsp;"
     ]
    },
    {
     "cell_type": "markdown",
     "metadata": {
      "slideshow": {
       "slide_type": "slide"
      }
     },
     "source": [
      "# Breakout! #\n",
      "\n",
      "<center>\n",
      "The infinite series:\n",
      "1 - 1/3 + 1/5 - 1/7 ...\n",
      "converges to \u03c0/4\n",
      "</center>\n",
      "<p></p>\n",
      "\n",
      "a) write a generator function which progressively makes better and better approximations of \u03c0.\n",
      "\n",
      "b) modify the generator to stop after it reaches within 0.1% of the true value of \u03c0.  What value do you get?\n",
      "\n",
      "c) \"accelerate\" convergence by writing a generator that takes your answer in a) as an argument and returns:\n",
      "\n",
      "$$S_n = S_{n+1} - \\frac{(S_{n+1} - S_n)^2}{S_{n-1} - 2 S_n + S_{n+1}}$$"
     ]
    },
    {
     "cell_type": "markdown",
     "metadata": {
      "slideshow": {
       "slide_type": "slide"
      }
     },
     "source": [
      "<center>\n",
      "<img src=\"http://imgon.net/di-JMPP.gif\">\n",
      "</center>"
     ]
    },
    {
     "cell_type": "code",
     "collapsed": false,
     "input": [
      "import math\n",
      "def mypi(maxiters=5):\n",
      "    \"\"\"\n",
      "    A generator function which progressively makes better and better approximations of \u03c0. \n",
      "    Note that the infinite series: 1 - 1/3 + 1/5 - 1/7 ... converges to \u03c0/4     \n",
      "    \"\"\"\n",
      "    n_yielded = 0\n",
      "    approxpi = 0.0\n",
      "    mysign = -1\n",
      "    while (n_yielded < maxiters or maxiters is None) and maxiters>0:\n",
      "        n_yielded += 1\n",
      "        mysign *= -1\n",
      "        fraction = mysign * 1.0 / (n_yielded*2. - 1.)\n",
      "        approxpi += fraction\n",
      "        yield 4*approxpi \n",
      "print math.pi \n",
      "maxiters = 10\n",
      "approxpi = mypi(maxiters)\n",
      "for i in range(maxiters): print approxpi.next(),"
     ],
     "language": "python",
     "metadata": {},
     "outputs": [
      {
       "output_type": "stream",
       "stream": "stdout",
       "text": [
        "3.14159265359\n",
        "4.0 2.66666666667 3.46666666667 2.89523809524 3.33968253968 2.97604617605 3.28373848374 3.01707181707 3.25236593472 3.04183961893\n"
       ]
      }
     ],
     "prompt_number": 68
    },
    {
     "cell_type": "code",
     "collapsed": false,
     "input": [
      "def mypiX(mygen):\n",
      "    \"\"\"\n",
      "    accelerate\" convergence by writing a generator that takes your answer in a) as an argument and returns:\n",
      "    Sn=Sn+1\u2212(Sn+1\u2212Sn)2Sn\u22121\u22122Sn+Sn+1\n",
      "    \"\"\"\n",
      "    "
     ],
     "language": "python",
     "metadata": {},
     "outputs": []
    },
    {
     "cell_type": "code",
     "collapsed": false,
     "input": [
      "%load ~/Classes/python-seminar/Breakouts/00_AdvancedPythonConcepts/week1-breakout1.py"
     ],
     "language": "python",
     "metadata": {
      "slideshow": {
       "slide_type": "slide"
      }
     },
     "outputs": [
      {
       "ename": "ValueError",
       "evalue": "'~/Classes/python-seminar/Breakouts/00_AdvancedPythonConcepts/week1-breakout1.py' was not found in history, as a file, url, nor in the user namespace.",
       "output_type": "pyerr",
       "traceback": [
        "\u001b[1;31m---------------------------------------------------------------------------\u001b[0m\n\u001b[1;31mValueError\u001b[0m                                Traceback (most recent call last)",
        "\u001b[1;32m<ipython-input-47-426888edc9f3>\u001b[0m in \u001b[0;36m<module>\u001b[1;34m()\u001b[0m\n\u001b[1;32m----> 1\u001b[1;33m \u001b[0mget_ipython\u001b[0m\u001b[1;33m(\u001b[0m\u001b[1;33m)\u001b[0m\u001b[1;33m.\u001b[0m\u001b[0mmagic\u001b[0m\u001b[1;33m(\u001b[0m\u001b[1;34mu'load ~/Classes/python-seminar/Breakouts/00_AdvancedPythonConcepts/week1-breakout1.py'\u001b[0m\u001b[1;33m)\u001b[0m\u001b[1;33m\u001b[0m\u001b[0m\n\u001b[0m",
        "\u001b[1;32m/usr/local/lib/python2.7/dist-packages/IPython/core/interactiveshell.pyc\u001b[0m in \u001b[0;36mmagic\u001b[1;34m(self, arg_s)\u001b[0m\n\u001b[0;32m   2164\u001b[0m         \u001b[0mmagic_name\u001b[0m\u001b[1;33m,\u001b[0m \u001b[0m_\u001b[0m\u001b[1;33m,\u001b[0m \u001b[0mmagic_arg_s\u001b[0m \u001b[1;33m=\u001b[0m \u001b[0marg_s\u001b[0m\u001b[1;33m.\u001b[0m\u001b[0mpartition\u001b[0m\u001b[1;33m(\u001b[0m\u001b[1;34m' '\u001b[0m\u001b[1;33m)\u001b[0m\u001b[1;33m\u001b[0m\u001b[0m\n\u001b[0;32m   2165\u001b[0m         \u001b[0mmagic_name\u001b[0m \u001b[1;33m=\u001b[0m \u001b[0mmagic_name\u001b[0m\u001b[1;33m.\u001b[0m\u001b[0mlstrip\u001b[0m\u001b[1;33m(\u001b[0m\u001b[0mprefilter\u001b[0m\u001b[1;33m.\u001b[0m\u001b[0mESC_MAGIC\u001b[0m\u001b[1;33m)\u001b[0m\u001b[1;33m\u001b[0m\u001b[0m\n\u001b[1;32m-> 2166\u001b[1;33m         \u001b[1;32mreturn\u001b[0m \u001b[0mself\u001b[0m\u001b[1;33m.\u001b[0m\u001b[0mrun_line_magic\u001b[0m\u001b[1;33m(\u001b[0m\u001b[0mmagic_name\u001b[0m\u001b[1;33m,\u001b[0m \u001b[0mmagic_arg_s\u001b[0m\u001b[1;33m)\u001b[0m\u001b[1;33m\u001b[0m\u001b[0m\n\u001b[0m\u001b[0;32m   2167\u001b[0m \u001b[1;33m\u001b[0m\u001b[0m\n\u001b[0;32m   2168\u001b[0m     \u001b[1;31m#-------------------------------------------------------------------------\u001b[0m\u001b[1;33m\u001b[0m\u001b[1;33m\u001b[0m\u001b[0m\n",
        "\u001b[1;32m/usr/local/lib/python2.7/dist-packages/IPython/core/interactiveshell.pyc\u001b[0m in \u001b[0;36mrun_line_magic\u001b[1;34m(self, magic_name, line)\u001b[0m\n\u001b[0;32m   2085\u001b[0m                 \u001b[0mkwargs\u001b[0m\u001b[1;33m[\u001b[0m\u001b[1;34m'local_ns'\u001b[0m\u001b[1;33m]\u001b[0m \u001b[1;33m=\u001b[0m \u001b[0msys\u001b[0m\u001b[1;33m.\u001b[0m\u001b[0m_getframe\u001b[0m\u001b[1;33m(\u001b[0m\u001b[0mstack_depth\u001b[0m\u001b[1;33m)\u001b[0m\u001b[1;33m.\u001b[0m\u001b[0mf_locals\u001b[0m\u001b[1;33m\u001b[0m\u001b[0m\n\u001b[0;32m   2086\u001b[0m             \u001b[1;32mwith\u001b[0m \u001b[0mself\u001b[0m\u001b[1;33m.\u001b[0m\u001b[0mbuiltin_trap\u001b[0m\u001b[1;33m:\u001b[0m\u001b[1;33m\u001b[0m\u001b[0m\n\u001b[1;32m-> 2087\u001b[1;33m                 \u001b[0mresult\u001b[0m \u001b[1;33m=\u001b[0m \u001b[0mfn\u001b[0m\u001b[1;33m(\u001b[0m\u001b[1;33m*\u001b[0m\u001b[0margs\u001b[0m\u001b[1;33m,\u001b[0m\u001b[1;33m**\u001b[0m\u001b[0mkwargs\u001b[0m\u001b[1;33m)\u001b[0m\u001b[1;33m\u001b[0m\u001b[0m\n\u001b[0m\u001b[0;32m   2088\u001b[0m             \u001b[1;32mreturn\u001b[0m \u001b[0mresult\u001b[0m\u001b[1;33m\u001b[0m\u001b[0m\n\u001b[0;32m   2089\u001b[0m \u001b[1;33m\u001b[0m\u001b[0m\n",
        "\u001b[1;32m/usr/local/lib/python2.7/dist-packages/IPython/core/magics/code.pyc\u001b[0m in \u001b[0;36mload\u001b[1;34m(self, arg_s)\u001b[0m\n",
        "\u001b[1;32m/usr/local/lib/python2.7/dist-packages/IPython/core/magic.pyc\u001b[0m in \u001b[0;36m<lambda>\u001b[1;34m(f, *a, **k)\u001b[0m\n\u001b[0;32m    189\u001b[0m     \u001b[1;31m# but it's overkill for just that one bit of state.\u001b[0m\u001b[1;33m\u001b[0m\u001b[1;33m\u001b[0m\u001b[0m\n\u001b[0;32m    190\u001b[0m     \u001b[1;32mdef\u001b[0m \u001b[0mmagic_deco\u001b[0m\u001b[1;33m(\u001b[0m\u001b[0marg\u001b[0m\u001b[1;33m)\u001b[0m\u001b[1;33m:\u001b[0m\u001b[1;33m\u001b[0m\u001b[0m\n\u001b[1;32m--> 191\u001b[1;33m         \u001b[0mcall\u001b[0m \u001b[1;33m=\u001b[0m \u001b[1;32mlambda\u001b[0m \u001b[0mf\u001b[0m\u001b[1;33m,\u001b[0m \u001b[1;33m*\u001b[0m\u001b[0ma\u001b[0m\u001b[1;33m,\u001b[0m \u001b[1;33m**\u001b[0m\u001b[0mk\u001b[0m\u001b[1;33m:\u001b[0m \u001b[0mf\u001b[0m\u001b[1;33m(\u001b[0m\u001b[1;33m*\u001b[0m\u001b[0ma\u001b[0m\u001b[1;33m,\u001b[0m \u001b[1;33m**\u001b[0m\u001b[0mk\u001b[0m\u001b[1;33m)\u001b[0m\u001b[1;33m\u001b[0m\u001b[0m\n\u001b[0m\u001b[0;32m    192\u001b[0m \u001b[1;33m\u001b[0m\u001b[0m\n\u001b[0;32m    193\u001b[0m         \u001b[1;32mif\u001b[0m \u001b[0mcallable\u001b[0m\u001b[1;33m(\u001b[0m\u001b[0marg\u001b[0m\u001b[1;33m)\u001b[0m\u001b[1;33m:\u001b[0m\u001b[1;33m\u001b[0m\u001b[0m\n",
        "\u001b[1;32m/usr/local/lib/python2.7/dist-packages/IPython/core/magics/code.pyc\u001b[0m in \u001b[0;36mload\u001b[1;34m(self, arg_s)\u001b[0m\n\u001b[0;32m    192\u001b[0m                              'or macro.')\n\u001b[0;32m    193\u001b[0m \u001b[1;33m\u001b[0m\u001b[0m\n\u001b[1;32m--> 194\u001b[1;33m         \u001b[0mcontents\u001b[0m \u001b[1;33m=\u001b[0m \u001b[0mself\u001b[0m\u001b[1;33m.\u001b[0m\u001b[0mshell\u001b[0m\u001b[1;33m.\u001b[0m\u001b[0mfind_user_code\u001b[0m\u001b[1;33m(\u001b[0m\u001b[0margs\u001b[0m\u001b[1;33m)\u001b[0m\u001b[1;33m\u001b[0m\u001b[0m\n\u001b[0m\u001b[0;32m    195\u001b[0m         \u001b[0ml\u001b[0m \u001b[1;33m=\u001b[0m \u001b[0mlen\u001b[0m\u001b[1;33m(\u001b[0m\u001b[0mcontents\u001b[0m\u001b[1;33m)\u001b[0m\u001b[1;33m\u001b[0m\u001b[0m\n\u001b[0;32m    196\u001b[0m \u001b[1;33m\u001b[0m\u001b[0m\n",
        "\u001b[1;32m/usr/local/lib/python2.7/dist-packages/IPython/core/interactiveshell.pyc\u001b[0m in \u001b[0;36mfind_user_code\u001b[1;34m(self, target, raw, py_only, skip_encoding_cookie)\u001b[0m\n\u001b[0;32m   3088\u001b[0m         \u001b[1;32mexcept\u001b[0m \u001b[0mException\u001b[0m\u001b[1;33m:\u001b[0m\u001b[1;33m\u001b[0m\u001b[0m\n\u001b[0;32m   3089\u001b[0m             raise ValueError((\"'%s' was not found in history, as a file, url, \"\n\u001b[1;32m-> 3090\u001b[1;33m                                 \"nor in the user namespace.\") % target)\n\u001b[0m\u001b[0;32m   3091\u001b[0m         \u001b[1;32mif\u001b[0m \u001b[0misinstance\u001b[0m\u001b[1;33m(\u001b[0m\u001b[0mcodeobj\u001b[0m\u001b[1;33m,\u001b[0m \u001b[0mbasestring\u001b[0m\u001b[1;33m)\u001b[0m\u001b[1;33m:\u001b[0m\u001b[1;33m\u001b[0m\u001b[0m\n\u001b[0;32m   3092\u001b[0m             \u001b[1;32mreturn\u001b[0m \u001b[0mcodeobj\u001b[0m\u001b[1;33m\u001b[0m\u001b[0m\n",
        "\u001b[1;31mValueError\u001b[0m: '~/Classes/python-seminar/Breakouts/00_AdvancedPythonConcepts/week1-breakout1.py' was not found in history, as a file, url, nor in the user namespace."
       ]
      }
     ],
     "prompt_number": 47
    },
    {
     "cell_type": "markdown",
     "metadata": {
      "slideshow": {
       "slide_type": "slide"
      }
     },
     "source": [
      "# Itertools #"
     ]
    },
    {
     "cell_type": "code",
     "collapsed": false,
     "input": [
      "import itertools"
     ],
     "language": "python",
     "metadata": {
      "slideshow": {
       "slide_type": "fragment"
      }
     },
     "outputs": [],
     "prompt_number": 69
    },
    {
     "cell_type": "code",
     "collapsed": false,
     "input": [
      "## chain many iterables together\n",
      "a = itertools.chain((x**2 for x in xrange(3)), (x**3 for x in xrange(3))) #this is a generator"
     ],
     "language": "python",
     "metadata": {
      "slideshow": {
       "slide_type": "fragment"
      }
     },
     "outputs": [],
     "prompt_number": 70
    },
    {
     "cell_type": "code",
     "collapsed": false,
     "input": [
      "for x in a: \n",
      "    print x,"
     ],
     "language": "python",
     "metadata": {
      "slideshow": {
       "slide_type": "fragment"
      }
     },
     "outputs": [
      {
       "output_type": "stream",
       "stream": "stdout",
       "text": [
        "0 1 4 0 1 8\n"
       ]
      }
     ],
     "prompt_number": 71
    },
    {
     "cell_type": "code",
     "collapsed": false,
     "input": [
      "print a\n",
      "print hasattr(a,\"next\")\n",
      "print hasattr(a,\"__iter__\")"
     ],
     "language": "python",
     "metadata": {
      "slideshow": {
       "slide_type": "fragment"
      }
     },
     "outputs": [
      {
       "output_type": "stream",
       "stream": "stdout",
       "text": [
        "<itertools.chain object at 0x2646c90>\n",
        "True\n",
        "True\n"
       ]
      }
     ],
     "prompt_number": 72
    },
    {
     "cell_type": "code",
     "collapsed": false,
     "input": [
      "for x in itertools.combinations([\"dog\",\"cat\",\"cheezberger\"], 2): print x, "
     ],
     "language": "python",
     "metadata": {
      "slideshow": {
       "slide_type": "fragment"
      }
     },
     "outputs": [
      {
       "output_type": "stream",
       "stream": "stdout",
       "text": [
        "('dog', 'cat') ('dog', 'cheezberger') ('cat', 'cheezberger')\n"
       ]
      }
     ],
     "prompt_number": 73
    },
    {
     "cell_type": "code",
     "collapsed": false,
     "input": [
      "for x in itertools.permutations([\"dog\",\"cat\",\"cheezberger\"]): print x, "
     ],
     "language": "python",
     "metadata": {
      "slideshow": {
       "slide_type": "fragment"
      }
     },
     "outputs": [
      {
       "output_type": "stream",
       "stream": "stdout",
       "text": [
        "('dog', 'cat', 'cheezberger') ('dog', 'cheezberger', 'cat') ('cat', 'dog', 'cheezberger') ('cat', 'cheezberger', 'dog') ('cheezberger', 'dog', 'cat') ('cheezberger', 'cat', 'dog')\n"
       ]
      }
     ],
     "prompt_number": 74
    },
    {
     "cell_type": "markdown",
     "metadata": {
      "slideshow": {
       "slide_type": "slide"
      }
     },
     "source": [
      "# Context Managers #\n",
      "\n",
      "allow you to build classes that provide a context to what you do:\n",
      "everything inside of a with statement operates abides by the context you create. You decide how to build up the context and how to tear it down.\n",
      "\n",
      "e.g., holding a lockfile, running a database transaction\n",
      "\n",
      "```python\n",
      ">>> with open(\"password.file\",\"r\") as f:\n",
      "    print f.readlines() \n",
      "[\"# here's some passwords I cracked\",\"guido  Monty\",\"cleese Python\"]\n",
      "```\n",
      "\n",
      "`f.close()` got called for us (and would have even under an exception)\n",
      "\n",
      "http://www.python.org/dev/peps/pep-0343/"
     ]
    },
    {
     "cell_type": "markdown",
     "metadata": {
      "slideshow": {
       "slide_type": "slide"
      }
     },
     "source": [
      "# Context Managers #\n",
      "\n",
      "write `__enter__()` and `__exit__()` methods. These get executed no matter what."
     ]
    },
    {
     "cell_type": "code",
     "collapsed": false,
     "input": [
      "%%file myctx1.py\n",
      "class MyDecor:\n",
      "    def __enter__(self):\n",
      "        print \"Entered a wonderful technicolor world. Build it up\" \n",
      "        \n",
      "    def __exit__(self,*args):\n",
      "        ## *args hold the exception args if needed\n",
      "        print \"...exiting this wonderful world. Tear it down.\""
     ],
     "language": "python",
     "metadata": {
      "slideshow": {
       "slide_type": "fragment"
      }
     },
     "outputs": []
    },
    {
     "cell_type": "code",
     "collapsed": false,
     "input": [
      "%run myctx1.py\n",
      "a = MyDecor()\n",
      "with MyDecor():\n",
      "    print \" Do something!\""
     ],
     "language": "python",
     "metadata": {
      "slideshow": {
       "slide_type": "fragment"
      }
     },
     "outputs": []
    },
    {
     "cell_type": "markdown",
     "metadata": {
      "slideshow": {
       "slide_type": "fragment"
      }
     },
     "source": [
      "`__enter__` and `__exit__` only get called when invoked with the with statement"
     ]
    },
    {
     "cell_type": "markdown",
     "metadata": {
      "slideshow": {
       "slide_type": "fragment"
      }
     },
     "source": [
      " &nbsp;"
     ]
    },
    {
     "cell_type": "code",
     "collapsed": false,
     "input": [
      "%%file myctx2.py\n",
      "\n",
      "class MyDecor1:\n",
      "    \n",
      "    def __init__(self,expression=\"None\"):\n",
      "        self.expression = expression\n",
      "    def __enter__(self):\n",
      "        print \"Entered a wonderful technicolor world. Build it up\" \n",
      "        return eval(self.expression)\n",
      "    def __exit__(self,*args):\n",
      "        print \"...exiting this wonderful world. Tear it down.\""
     ],
     "language": "python",
     "metadata": {
      "slideshow": {
       "slide_type": "slide"
      }
     },
     "outputs": []
    },
    {
     "cell_type": "code",
     "collapsed": false,
     "input": [
      "%run myctx2\n",
      "with MyDecor1(\"2**3\") as x:\n",
      "    print x"
     ],
     "language": "python",
     "metadata": {
      "slideshow": {
       "slide_type": "fragment"
      }
     },
     "outputs": []
    },
    {
     "cell_type": "code",
     "collapsed": false,
     "input": [
      "with MyDecor1(\"2\") as x:\n",
      "    print x/0"
     ],
     "language": "python",
     "metadata": {
      "slideshow": {
       "slide_type": "fragment"
      }
     },
     "outputs": []
    },
    {
     "cell_type": "markdown",
     "metadata": {
      "slideshow": {
       "slide_type": "fragment"
      }
     },
     "source": [
      " &nbsp;"
     ]
    },
    {
     "cell_type": "markdown",
     "metadata": {
      "slideshow": {
       "slide_type": "slide"
      }
     },
     "source": [
      "<center>\n",
      "<img src=\"files/633514032027949357-Interior-Decorators.jpg\" width=80%>\n",
      "</center>"
     ]
    },
    {
     "cell_type": "markdown",
     "metadata": {
      "slideshow": {
       "slide_type": "slide"
      }
     },
     "source": [
      "# Decorators #\n",
      "\n",
      "special functions/classes that augment the functionality of other functions or classes (called in other languages macros or annotations)\n",
      "\n",
      "denoted with an @sign, immediately preceding decorator name, e.g. `@require_login` or `@testinput`"
     ]
    },
    {
     "cell_type": "code",
     "collapsed": false,
     "input": [
      "%%file myctx3.py\n",
      "\n",
      "def entryExit(f):\n",
      "    def new_f():\n",
      "        print \"Entering\", f.__name__\n",
      "        f()\n",
      "        print \"Exited\", f.__name__\n",
      "    return new_f\n",
      "\n",
      "@entryExit\n",
      "def func1():\n",
      "    print \"inside func1()\"\n",
      "\n",
      "@entryExit\n",
      "def func2():\n",
      "    print \"inside func2()\"    "
     ],
     "language": "python",
     "metadata": {
      "slideshow": {
       "slide_type": "fragment"
      }
     },
     "outputs": []
    },
    {
     "cell_type": "code",
     "collapsed": false,
     "input": [
      "%run myctx3\n",
      "func1()"
     ],
     "language": "python",
     "metadata": {
      "slideshow": {
       "slide_type": "fragment"
      }
     },
     "outputs": []
    },
    {
     "cell_type": "code",
     "collapsed": false,
     "input": [
      "func2()"
     ],
     "language": "python",
     "metadata": {
      "slideshow": {
       "slide_type": "fragment"
      }
     },
     "outputs": []
    },
    {
     "cell_type": "code",
     "collapsed": false,
     "input": [
      "%%file myctx4.py\n",
      "\n",
      "def introspect(f):\n",
      "    def wrapper(*arg,**kwarg):\n",
      "        print \"Function name = %s\" % f.__name__\n",
      "        print \" docstring = %s\" % f.__doc__\n",
      "        if len(arg) > 0:\n",
      "            print \"   ... got passed args: %s \" % str(arg)\n",
      "        if len(kwarg.keys()) > 0:\n",
      "            print \"   ... got passed keywords: %s \" % str(kwarg)\n",
      "        return f(*arg,**kwarg)\n",
      "    return wrapper"
     ],
     "language": "python",
     "metadata": {
      "slideshow": {
       "slide_type": "fragment"
      }
     },
     "outputs": []
    },
    {
     "cell_type": "code",
     "collapsed": false,
     "input": [
      "%run myctx4"
     ],
     "language": "python",
     "metadata": {
      "slideshow": {
       "slide_type": "fragment"
      }
     },
     "outputs": []
    },
    {
     "cell_type": "code",
     "collapsed": false,
     "input": [
      "@introspect\n",
      "def myrange(start,stop,step):\n",
      "    return range(start,stop,step)\n",
      "\n",
      "myrange(1,10,2)"
     ],
     "language": "python",
     "metadata": {
      "slideshow": {
       "slide_type": "fragment"
      }
     },
     "outputs": []
    },
    {
     "cell_type": "markdown",
     "metadata": {
      "slideshow": {
       "slide_type": "fragment"
      }
     },
     "source": [
      " &nbsp;"
     ]
    },
    {
     "cell_type": "code",
     "collapsed": false,
     "input": [
      "def accepts(*types): #accepts arbitrary number of arguments ---- to be unpacked as a list\n",
      "    \"\"\" Function decorator. Checks that inputs given to decorated function\n",
      "      are of the expected type.\n",
      "  \n",
      "      Parameters:\n",
      "      types -- The expected types of the inputs to the decorated function.\n",
      "               Must specify type for each parameter.\n",
      "    \"\"\"\n",
      "    def decorator(f):\n",
      "        def newf(*args):\n",
      "            assert len(args) == len(types)\n",
      "            argtypes = tuple(map(type, args))\n",
      "            if argtypes != types:\n",
      "                a = \"in %s \"  % f.__name__\n",
      "                a += \"got %s but expected %s\" % (argtypes,types)\n",
      "                raise TypeError, a\n",
      "            return f(*args)\n",
      "        return newf\n",
      "    return decorator"
     ],
     "language": "python",
     "metadata": {
      "slideshow": {
       "slide_type": "slide"
      }
     },
     "outputs": []
    },
    {
     "cell_type": "code",
     "collapsed": false,
     "input": [
      "@accepts(int,int,int)\n",
      "def myrange(start,stop,step): return range(start,stop,step)"
     ],
     "language": "python",
     "metadata": {
      "slideshow": {
       "slide_type": "fragment"
      }
     },
     "outputs": []
    },
    {
     "cell_type": "code",
     "collapsed": false,
     "input": [
      "myrange(1,10,1)"
     ],
     "language": "python",
     "metadata": {
      "slideshow": {
       "slide_type": "fragment"
      }
     },
     "outputs": []
    },
    {
     "cell_type": "code",
     "collapsed": false,
     "input": [
      "@accepts(long,int,int)\n",
      "def myrange(start,stop,step): return range(start,stop,step)\n",
      "myrange(1,10,1)"
     ],
     "language": "python",
     "metadata": {
      "slideshow": {
       "slide_type": "fragment"
      }
     },
     "outputs": []
    },
    {
     "cell_type": "code",
     "collapsed": false,
     "input": [
      "myrange(1L,10,1)"
     ],
     "language": "python",
     "metadata": {
      "slideshow": {
       "slide_type": "fragment"
      }
     },
     "outputs": []
    },
    {
     "cell_type": "markdown",
     "metadata": {
      "slideshow": {
       "slide_type": "fragment"
      }
     },
     "source": [
      " &nbsp;"
     ]
    },
    {
     "cell_type": "markdown",
     "metadata": {
      "slideshow": {
       "slide_type": "slide"
      }
     },
     "source": [
      "# A Little Teaser: Decorators in Flask #"
     ]
    },
    {
     "cell_type": "code",
     "collapsed": false,
     "input": [
      "def requires_roles(*roles):\n",
      "    def wrapper(f):\n",
      "        @wraps(f)\n",
      "        def wrapped(*args, **kwargs):\n",
      "            if get_current_user_role() not in roles:\n",
      "                return error_response()\n",
      "            return f(*args, **kwargs)\n",
      "        return wrapped\n",
      "    return wrapper"
     ],
     "language": "python",
     "metadata": {
      "slideshow": {
       "slide_type": "fragment"
      }
     },
     "outputs": []
    },
    {
     "cell_type": "code",
     "collapsed": false,
     "input": [
      "@app.route('/user')\n",
      "@required_roles('admin', 'user')\n",
      "def user_page(self):\n",
      "    return \"You've got permission to access this page.\""
     ],
     "language": "python",
     "metadata": {
      "slideshow": {
       "slide_type": "fragment"
      }
     },
     "outputs": []
    },
    {
     "cell_type": "code",
     "collapsed": false,
     "input": [
      "def bread(func):\n",
      "    def wrapper(*args):\n",
      "        print \"</''''''\\>\"\n",
      "        func(*args)\n",
      "        print \"<\\______/>\"\n",
      "    return wrapper\n",
      "\n",
      "def ingredients(func):\n",
      "    def wrapper(*args):\n",
      "        print \"#tomatoes#\"\n",
      "        func(*args)\n",
      "        print \"~salad~\"\n",
      "    return wrapper\n",
      "\n",
      "@bread\n",
      "@ingredients\n",
      "def sandwich(food=\"--spam--\"):\n",
      "    print food"
     ],
     "language": "python",
     "metadata": {
      "slideshow": {
       "slide_type": "fragment"
      }
     },
     "outputs": []
    },
    {
     "cell_type": "code",
     "collapsed": false,
     "input": [
      "sandwich()"
     ],
     "language": "python",
     "metadata": {
      "slideshow": {
       "slide_type": "fragment"
      }
     },
     "outputs": []
    },
    {
     "cell_type": "code",
     "collapsed": false,
     "input": [
      "sandwich(\"--antelope--\")"
     ],
     "language": "python",
     "metadata": {
      "slideshow": {
       "slide_type": "fragment"
      }
     },
     "outputs": []
    },
    {
     "cell_type": "markdown",
     "metadata": {
      "slideshow": {
       "slide_type": "fragment"
      }
     },
     "source": [
      "see http://stackoverflow.com/questions/739654/understanding-python-decorators"
     ]
    },
    {
     "cell_type": "markdown",
     "metadata": {
      "slideshow": {
       "slide_type": "fragment"
      }
     },
     "source": [
      " &nbsp;"
     ]
    },
    {
     "cell_type": "markdown",
     "metadata": {
      "slideshow": {
       "slide_type": "slide"
      }
     },
     "source": [
      "This was the homework from the bootcamp; you should be able do implement the solution to this...if not, this course will be a challenge to you."
     ]
    },
    {
     "cell_type": "markdown",
     "metadata": {
      "slideshow": {
       "slide_type": "fragment"
      }
     },
     "source": [
      "http://goo.gl/HzGDg0"
     ]
    },
    {
     "cell_type": "markdown",
     "metadata": {
      "slideshow": {
       "slide_type": "fragment"
      }
     },
     "source": [
      " &nbsp;"
     ]
    },
    {
     "cell_type": "markdown",
     "metadata": {
      "slideshow": {
       "slide_type": "slide"
      }
     },
     "source": [
      "<center>\n",
      "# Enjoy! #\n",
      "\n",
      "Help online:\n",
      "   \n",
      "   <a href=\"piazza.com/berkeley/fall2013/ay250/home\">piazza.com/berkeley/fall2013/ay250/home</a>\n",
      "\n",
      "or in person:\n",
      "\n",
      "Monday\u2019s 10am-Noon Evans 4th floor (481)\n",
      "(except ... not next week)\n",
      "\n",
      "See you **Thursday**!\n",
      "</center>\n",
      "*remember to email us if you are \u201csitting in\u201d...*"
     ]
    },
    {
     "cell_type": "markdown",
     "metadata": {
      "slideshow": {
       "slide_type": "notes"
      }
     },
     "source": [
      "(c) 2013 Python Seminar UC Berkeley, J. S. Bloom All Rights Reserved"
     ]
    }
   ],
   "metadata": {}
  }
 ]
}